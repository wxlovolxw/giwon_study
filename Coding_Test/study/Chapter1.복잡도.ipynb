{
 "cells": [
  {
   "cell_type": "markdown",
   "metadata": {},
   "source": [
    "# 복잡도"
   ]
  },
  {
   "cell_type": "markdown",
   "metadata": {},
   "source": [
    "### 시간 복잡도 : 알고리즘을 위해 필요한 연산의 횟수  \n",
    "### 공간 복잡도 : 알고리즘을 위해 필요한 메모리의 양"
   ]
  },
  {
   "cell_type": "markdown",
   "metadata": {},
   "source": [
    "- 효율적인 알고리즘을 사용한다고 했을 때 보통 시간 복잡도와 공간 복잡도는 일종의 거래 관계가 성립한다. 메모리를 조금 더 많이 사용하는 대신에 반복되는 연산을 생략하거나 더 많은 정보를 관리하면서 계산의 복잡도를 줄일 수 있다. 이때 메모리를 더 소모하는 대신에 얻을 수 있는 시간적 이점이 매우 큰 경우가 종종 있다."
   ]
  },
  {
   "cell_type": "markdown",
   "metadata": {},
   "source": [
    "#### 시간 복잡도  \n",
    "시간 복잡도의 표현은 빅오(Big-O)를 사용한다.  \n",
    "표기법을 간단하게 정의하자면 가장 빠르게 증가하는 항만을 고려하는 기법이다."
   ]
  },
  {
   "cell_type": "code",
   "execution_count": 1,
   "metadata": {},
   "outputs": [
    {
     "name": "stdout",
     "output_type": "stream",
     "text": [
      "15\n"
     ]
    }
   ],
   "source": [
    "array = [3,5,1,2,4]\n",
    "summary = 0\n",
    "\n",
    "for x in array: # 데이터를 하나씩 확인하며 합계를 계산\n",
    "    summary += x\n",
    "\n",
    "print(summary)"
   ]
  },
  {
   "cell_type": "markdown",
   "metadata": {},
   "source": [
    "- 위의 코드에서 5개의 데이터를 받아 5번의 연산을 처리한다(N=5). 이때 연산 횟수는 N에 비례한다.\n",
    "- 코드상에 summary에 0을 대입하는 연산과 출력하는 연산이 존재하지만, N이 커진다면 무시할 정도로 작아질 것이다.\n",
    "- 따라서 위의 코드에서 가장 영향력이 큰 부분은 N에 비례하므로 O(N)의 형태로 시간 복잡도를 표시한다."
   ]
  },
  {
   "cell_type": "code",
   "execution_count": 2,
   "metadata": {},
   "outputs": [
    {
     "name": "stdout",
     "output_type": "stream",
     "text": [
      "12\n"
     ]
    }
   ],
   "source": [
    "a = 5\n",
    "b = 7\n",
    "print(a+b)"
   ]
  },
  {
   "cell_type": "markdown",
   "metadata": {},
   "source": [
    "- a와 b를 대입하고 출력하는 연산을 제외하면 이 소스코드의 연산횟수는 1회이다.\n",
    "- 상수 연산이므로 시간복잡도는 O(1)으로 표현할 수 있다."
   ]
  },
  {
   "cell_type": "code",
   "execution_count": 3,
   "metadata": {},
   "outputs": [
    {
     "name": "stdout",
     "output_type": "stream",
     "text": [
      "9\n",
      "15\n",
      "3\n",
      "6\n",
      "12\n",
      "15\n",
      "25\n",
      "5\n",
      "10\n",
      "20\n",
      "3\n",
      "5\n",
      "1\n",
      "2\n",
      "4\n",
      "6\n",
      "10\n",
      "2\n",
      "4\n",
      "8\n",
      "12\n",
      "20\n",
      "4\n",
      "8\n",
      "16\n"
     ]
    }
   ],
   "source": [
    "array = [3,5,1,2,4]\n",
    "\n",
    "for i in array:\n",
    "    for j in array:\n",
    "        temp = i*j\n",
    "        print(temp)"
   ]
  },
  {
   "cell_type": "markdown",
   "metadata": {},
   "source": [
    "- 이 소스코드에서 데이터의 개수는 N이며 연산횟수는 N*N이므로 시간 복잡도가 O(N^2)이 된다.\n",
    "- 모든 2중 반복문이라고 해서 시간 복잡도가 O(N^2)는 아니다. 만약 내부에서 어떤 함수를 호출한다면 그 내부 함수의 시간 복잡도까지 계산해야한다. 따라서 소스코드를 정확히 분석한 뒤에 시간 복잡도를 계산해야 한다.  \n",
    "  \n",
    "- 퀵 정렬의 평균 시간 복잡도는 O(NlogN)이지만, 최악의 경우 O(N^2)이 된다. 항상 최악의 경우의 시간 복잡도를 우선적으로 고려해야 한다."
   ]
  },
  {
   "cell_type": "markdown",
   "metadata": {},
   "source": [
    "##### 빅오 표기법과 명칭\n",
    "O(1) - 상수시간(Constant time)  \n",
    "O(logN) - 로그시간(Log time)  \n",
    "O(N) - 선형시간  \n",
    "O(NlogN) - 로그 선형 시간  \n",
    "O(N^2) - 이차 시간  \n",
    "O(N^3) - 삼차 시간  \n",
    "O(2^n) - 지수 시간"
   ]
  },
  {
   "cell_type": "markdown",
   "metadata": {},
   "source": [
    "- 연산횟수가 10억을 넘어가면 통상 1초 이상의 시간이 소요된다. 일반적으로 코딩테스트의 경우 1-5초 가량의 시간제한이 주어지므로 연산횟수가 너무 크면 안된다.\n",
    "- 알고리즘 문제 풀이 시에 조건을 먼저 확인하여 얼마나 효율적인 알고리즘을 작성해야 하는지 파악 할 수 있다. 예를 들어 N=1000만이고 제한시간이 1초라면, O(N)의 사간 복잡도로 동작하는 알고리즘을 설계해야 한다.\n",
    "  \n",
    "ex) N이 500이라면 최대 O(N^3)  \n",
    "N이 2,000인 경우 O(N^2)  \n",
    "N이 100,000인 경우 O(NlogN)  \n",
    "N이 10,000,000인 경우 O(N)"
   ]
  },
  {
   "cell_type": "markdown",
   "metadata": {},
   "source": [
    "** 보통 시간 복잡도에서의 '연산'은 프로그래밍 언어에서 지원하는 사칙연산, 비교연산 등과 같은 기본 연산을 의미한다. 즉, 두 정수 a,b를 비교하는 연산도 한번의 연산이다."
   ]
  },
  {
   "cell_type": "markdown",
   "metadata": {},
   "source": [
    "#### 공간 복잡도\n",
    "마찬가지로 빅오(Big-O) 표기법을 사용한다.\n",
    "\n",
    "- 일반적으로 코딩테스트에서 메모리 사용량을 128MB - 512MB로 제한한다. 즉 데이터의 개수가 1000만 단위를 넘어가지 않도록 설계해야 한다."
   ]
  },
  {
   "cell_type": "markdown",
   "metadata": {},
   "source": [
    "#### 시간과 메모리 측정"
   ]
  },
  {
   "cell_type": "code",
   "execution_count": 4,
   "metadata": {},
   "outputs": [
    {
     "name": "stdout",
     "output_type": "stream",
     "text": [
      "time : 0.0\n"
     ]
    }
   ],
   "source": [
    "import time\n",
    "start_time = time.time()\n",
    "\n",
    "end_time = time.time()\n",
    "print(\"time :\", end_time-start_time)"
   ]
  },
  {
   "cell_type": "code",
   "execution_count": 5,
   "metadata": {},
   "outputs": [
    {
     "name": "stdout",
     "output_type": "stream",
     "text": [
      "선택 정렬 성능 측정: 8.590261697769165\n",
      "기본 정렬 라이브러리 성능 측정: 0.0009965896606445312\n"
     ]
    }
   ],
   "source": [
    "# '선택 정렬'과 '파이썬의 기본 정렬 라이브러리'의 시간비교\n",
    "\n",
    "from random import randint\n",
    "import time\n",
    "\n",
    "array = []\n",
    "for _ in range(10000):\n",
    "    array.append(randint(1,100)) # 1부터 100 사이의 랜덤한 정수 생성\n",
    "    \n",
    "start_time = time.time()\n",
    "\n",
    "for i in range(len(array)): # 선택 정렬\n",
    "    min_index = i\n",
    "    for j in range(i+1, len(array)):\n",
    "        if array[min_index] > array[j]:\n",
    "            min_index = j\n",
    "    array[i], array[min_index] = array[min_index], array[i]\n",
    "    \n",
    "end_time = time.time()\n",
    "print(\"선택 정렬 성능 측정:\", end_time-start_time)\n",
    "\n",
    "array = []\n",
    "for _ in range(10000):\n",
    "    array.append(randint(1,100))\n",
    "    \n",
    "start_time = time.time()\n",
    "\n",
    "array.sort() # 파이썬 기본 정렬 라이브러리\n",
    "\n",
    "end_time = time.time()\n",
    "print(\"기본 정렬 라이브러리 성능 측정:\", end_time-start_time)"
   ]
  },
  {
   "cell_type": "markdown",
   "metadata": {},
   "source": [
    "- 선택 정렬은 최악의 경우 시간 복잡도가 O(N^2)이며 기본 정렬 라이브러리의 경우 최악의 경우 시간 복잡도가 O(NlogN)을 보장한다.\n",
    "- 측정 결과 기본 정렬 라이브러리의 시간이 훨씬 짧게 걸렸다."
   ]
  },
  {
   "cell_type": "code",
   "execution_count": null,
   "metadata": {},
   "outputs": [],
   "source": []
  }
 ],
 "metadata": {
  "kernelspec": {
   "display_name": "Python 3",
   "language": "python",
   "name": "python3"
  },
  "language_info": {
   "codemirror_mode": {
    "name": "ipython",
    "version": 3
   },
   "file_extension": ".py",
   "mimetype": "text/x-python",
   "name": "python",
   "nbconvert_exporter": "python",
   "pygments_lexer": "ipython3",
   "version": "3.8.1"
  }
 },
 "nbformat": 4,
 "nbformat_minor": 4
}
