{
 "cells": [
  {
   "cell_type": "markdown",
   "metadata": {},
   "source": [
    "# 1. 아이디어를 코드로 바꾸는 구현"
   ]
  },
  {
   "cell_type": "markdown",
   "metadata": {},
   "source": [
    "### 예제 4-1 상하좌우\n",
    "풀이시간 15분 시간제한 1초 메모리 제한 128MB  \n",
    "  \n",
    "여행가 A는 N * N 크기의 정사각형 공간 위에 서 있다. 이 공간은 1 * 1 크기의 정사각형으로 나누어져 있다. 가장 왼쪽 위 좌표는 (1,1)이며, 가장 오른쪽 아래 좌표는 (N,N)에 해당한다. 여행가 A는 상,하,좌,우 방향으로 이동할 수 있으며, 시작 좌표는 항상 (1,1)이다. 우리 앞에는 여행가 A가 이동할 계획이 적힌 계획서가 놓여 있다.  \n",
    "계획서에는 하나의 줄에 띄어쓰기를 기준으로 하여 L, R, U, D 중 하나의 문자가 반복적으로 적혀있다. 각 문자의 의미는 다음과 같다.\n",
    "- L:왼쪽으로 한 칸 이동\n",
    "- R:오른쪽으로 한 칸 이동\n",
    "- U:위쪽으로 한 칸 이동\n",
    "- D:아래쪽으로 한 칸 이동  \n",
    "이때 여행가 A가 N * N 크기의 정사각형 공간을 벗어나는 움직임은 무시된다. 예를 들어 (1,1)의 위치에서 L 혹은 U를 만나면 무시된다. 다음은 N = 5인 지도와 계획서이다.  \n",
    "R -> R -> R -> U -> D -> D  \n",
    "이 경우 6개의 명령에 따라서 여행가가 움직이게 되는 위치는 순서대로 (1,2), (1,3), (1,4), (1,4), (2,4), (3,4)이므로, 최종적으로 여행가 A가 도착하게 되는 곳의 좌표는 (3,4)이다. 다시 말해 3행 4열의 위치에 해당하므로 (3,4)라고 적는다. 계획서가 주어졌을 때, 여행가 A의 최종적으로 도착할 지점의 좌표를 출력하는 프로그램을 작성하시오."
   ]
  },
  {
   "cell_type": "markdown",
   "metadata": {},
   "source": [
    " ##### 입력 조건\n",
    "- 첫째 줄에 공간의 크기를 나타내는 N이 주어진다.(1 <= N <= 100)\n",
    "- 둘째 줄에 여행가 A가 이동할 계획서 내용이 주어진다. (1 <= 이동 횟수 <= 100)"
   ]
  },
  {
   "cell_type": "markdown",
   "metadata": {},
   "source": [
    "##### 출력 조건\n",
    "- 첫째 줄에 여행가 A가 최종적으로 도착할 지점의 좌표 (X,Y)를 공백으로 구분하여 출력한다."
   ]
  },
  {
   "cell_type": "markdown",
   "metadata": {},
   "source": [
    "##### 입력 예시 \n",
    "5  \n",
    "R R R U D D"
   ]
  },
  {
   "cell_type": "markdown",
   "metadata": {},
   "source": [
    "##### 출력 예시 \n",
    "3 4"
   ]
  },
  {
   "cell_type": "markdown",
   "metadata": {},
   "source": [
    "-> 가장 간단한 알고리즘을 생각해 본다면, 각 입력들에 대해서 움직이는 것을 생각해 보면 된다. 하지만 이 경우 루프를 너무 많이 사용하게 되어 복잡도가 커지는 것을 고려해야 한다.\n",
    "-> max()와 min()을 통해 최댓값과 최소값을 설정해 둔 상태에서 이동시키면 될 것 같다."
   ]
  },
  {
   "cell_type": "code",
   "execution_count": 3,
   "metadata": {},
   "outputs": [
    {
     "name": "stdout",
     "output_type": "stream",
     "text": [
      "5\n",
      "R R R U D D\n",
      "4 3\n"
     ]
    }
   ],
   "source": [
    "# 나의 풀이\n",
    "\n",
    "n = int(input())\n",
    "moves = list(map(str, input().split()))\n",
    "\n",
    "loc = [1,1] # 처음 위치를 (1,1)로 초기화. 따로 x_loc, y_loc으로 설정해도 될 것 같다.\n",
    "             \n",
    "for move in moves:\n",
    "    if move == 'R': # R이면 x좌표가 1증가한다. 이때 최대값이 n이므로 min을 통해 최대값을 넘지 않도록 설정\n",
    "        loc[0] = min(n, loc[0]+1)\n",
    "    elif move == 'L': # L이면 x좌표가 1감소한다. 이때 최소값이 1이므로 max을 통해 최소값보다 작아지지 않도록 설정\n",
    "        loc[0] = max(1, loc[0]-1)\n",
    "    elif move == 'U':\n",
    "        loc[1] = max(1, loc[1]-1)\n",
    "    else:\n",
    "        loc[1] = min(n, loc[1]+1)\n",
    "    \n",
    "print(loc[0], loc[1])"
   ]
  },
  {
   "cell_type": "code",
   "execution_count": 5,
   "metadata": {},
   "outputs": [
    {
     "name": "stdout",
     "output_type": "stream",
     "text": [
      "5\n",
      "R R R U D D\n",
      "3 4\n"
     ]
    }
   ],
   "source": [
    "# 답안 예시\n",
    "\n",
    "# N을 입력받기\n",
    "n = int(input())\n",
    "x,y = 1,1\n",
    "plans = input().split()\n",
    "\n",
    "# L, R, U, D에 따른 이동방향\n",
    "dx = [0, 0, -1, 1]\n",
    "dy = [-1, 1, 0, 0]\n",
    "move_types = ['L', 'R', 'U', 'D']\n",
    "\n",
    "# 이동 계획을 하나씩 확인\n",
    "for plan in plans:\n",
    "    # 이동 후 좌표 구하기\n",
    "    for i in range(len(move_types)):\n",
    "        if plan == move_types[i]:\n",
    "            nx = x + dx[i]\n",
    "            ny = y + dy[i]\n",
    "    # 공간을 벗어나는 경우 무시\n",
    "    if nx < 1 or ny < 1 or nx > n or ny > n :\n",
    "        continue\n",
    "    # 이동 수행\n",
    "    x,y = nx,ny\n",
    "\n",
    "print(x, y)"
   ]
  },
  {
   "cell_type": "markdown",
   "metadata": {},
   "source": [
    "-> 각 방향으로 이동할 시에, 전체 경우에 대해서 네 방향으로의 이동을 고려한 것과 달리 해설에서는 x축으로의 이동과 y축으로의 이동을 나누어 연산을 한번에 해 주었다."
   ]
  },
  {
   "cell_type": "markdown",
   "metadata": {},
   "source": [
    "### 예제 4-2 시각\n",
    "풀이시간 15분 시간제한 2초 메모리 제한 128MB  \n",
    "  \n",
    "정수 N이 입력되면 00시 00분 00초부터 N시 59분 59초 까지의 모든 시각 중에서 3이 하나라고 포함되는 모든 경우의 수를 구하는 프로그램을 작성하시오. 예를 들어 1을 입력했을 때 다음은 3이 하나라고 포함되어 있으므로 세어야 하는 시각이다.\n",
    "- 00시 00분 03초\n",
    "- 00시 13분 30초  \n",
    "반면에 다음은 3이 하나라고 포함되어 있지 않으므로 세면 안되는 시각이다.\n",
    "- 00시 02분 55초\n",
    "- 01시 27분 45초"
   ]
  },
  {
   "cell_type": "markdown",
   "metadata": {},
   "source": [
    "#####  입력 조건\n",
    "- 첫째 줄에 정수 N이 입력된다.(0 <= N <= 23)"
   ]
  },
  {
   "cell_type": "markdown",
   "metadata": {},
   "source": [
    "##### 출력 조건\n",
    "- 00시 00분 00초 부터 N시 59분 59초까지의 모든 시각 중에서 3이 하나라도 포함되는 모든 경우의 수를 출력한다."
   ]
  },
  {
   "cell_type": "markdown",
   "metadata": {},
   "source": [
    "##### 입력 예시\n",
    "5"
   ]
  },
  {
   "cell_type": "markdown",
   "metadata": {},
   "source": [
    "##### 출력 예시 \n",
    "11475"
   ]
  },
  {
   "cell_type": "markdown",
   "metadata": {},
   "source": [
    "-> 시간을 문자열로 바꾸었을 때, 해당 문자열에 3이 포함되어있는지 완전탐색을 통해 확인해주면 된다.  \n",
    "-> 전체 경우의 수가 86400가지이므로 시간 제한에 대해서 넉넉하다.  \n",
    "-> 혹은 한시간 내에 3이 포함되는 분과 초의 수를 미리 카운트 한 뒤, 시간에 대해서만 계산해주면 더 짧은 코드를 작성할 수 있다."
   ]
  },
  {
   "cell_type": "code",
   "execution_count": 17,
   "metadata": {},
   "outputs": [
    {
     "name": "stdout",
     "output_type": "stream",
     "text": [
      "5\n",
      "11475\n"
     ]
    }
   ],
   "source": [
    "# 나의 풀이\n",
    "\n",
    "n = int(input())\n",
    "count = 0 # 카운트의 초기화\n",
    "\n",
    "three_in_hours = [3,13,23] # 시간중에 3이 들어가는 시간을 미리 저장\n",
    "three_in_minandsec = [3,13,23,30,31,32,33,34,35,36,37,38,39,43,53] # 분과 초 중에 3이 들어가는 수를 미리 저장\n",
    "\n",
    "count_h = len(three_in_hours) # 갯수를 루프 밖에서 카운트\n",
    "count_mas = len(three_in_minandsec)\n",
    "\n",
    "for i in range(n+1): # 0시부터 1시간씩 증가시키며 카운트\n",
    "    if i in three_in_hours: # 시간이 3이 들어가는 시간이라면 모든 분과 초가 다 해당되므로 3600을 카운트에 더함\n",
    "        count += 3600\n",
    "    else : # 아니라면 분과 초 중에 3이 들어가는 수를 더해줌.\n",
    "        count += (count_mas * 60) + ((60-count_mas)*count_mas) \n",
    "        \n",
    "print(count)\n"
   ]
  },
  {
   "cell_type": "code",
   "execution_count": 18,
   "metadata": {},
   "outputs": [
    {
     "name": "stdout",
     "output_type": "stream",
     "text": [
      "5\n",
      "11475\n"
     ]
    }
   ],
   "source": [
    "# 답안 예시\n",
    "\n",
    "# H을 입력받기\n",
    "h = int(input())\n",
    "\n",
    "count = 0\n",
    "for i in range(h+1):\n",
    "    for j in range(60):\n",
    "        for k in range(60):\n",
    "            # 매 시각 안에 '3'이 포함되어 있다면 카운트 증가\n",
    "            if '3' in str(i)+str(j)+str(k):\n",
    "                count += 1\n",
    "                \n",
    "print(count)"
   ]
  },
  {
   "cell_type": "markdown",
   "metadata": {},
   "source": [
    "# 실전문제 2. 왕실의 나이트\n",
    "풀이시간 20분 시간제한 1초 메모리 제한 128MB"
   ]
  },
  {
   "cell_type": "markdown",
   "metadata": {},
   "source": [
    "행복한 왕국의 왕실 정원은 체스판과 같은 8 * 8 좌표 평면이다. 왕실 정원의 특정한 한 칸에 나이트가 서 있다. 나이트는 매우 충성스러운 신하로서 매일 무술을 연마한다.  \n",
    "나이트는 말을 타고 있기 때문에 이동할 때는 L자 형태로만 이동할 수 있으며 정원 밖으로는 나갈 수 없다. 나이트는 특정한 위치에서 다음과 같은 2가지 경우로 이동할 수 있다.\n",
    "1. 수평으로 두 칸 이동한 뒤에 수직으로 한 칸 이동하기\n",
    "2. 수직으로 두 칸 이동한 뒤에 수평으로 한 칸 이동하기  \n",
    "이처럼 8 * 8 좌표 평면상에서 나이트의 위치가 주어졌을 때 나이트가 이동할 수 있는 경우의 수를 출력하는 프로그램을 작성하시오. 이때 왕실의 정원에서 행 위치를 표현할 때는 1부터 8로 표현하며, 열 위치를 표현할 때는 a부터 h로 표현한다.  \n",
    "예를 들어 만약 나이트가 a1에 있을 때 이동할 수 있는 경우의 수는 다음 2가지 이다. a1의 위치는 좌표 평면에서 구석의 위치에 해당하며 나이트는 정원의 밖으로 나갈 수 없기 때문이다.  \n",
    "1. 오른쪽으로 두 칸 이동 후 아래로 한 칸 이동하기(c2)\n",
    "2. 아래로 두 칸 이동 후 오른쪽으로 한 칸 이동하기(b3)  \n",
    "또 다른 예로 나이트가 c2에 위치해 있다면 나이트가 이동할 수 있는 경우의 수는 6가지이다."
   ]
  },
  {
   "cell_type": "markdown",
   "metadata": {},
   "source": [
    "##### 입력 조건\n",
    "- 첫째 줄에 8 * 8 좌표 평면상에서 현재 나이트가 위치한 곳의 좌표를 나타내는 두 문자로 구성된 문자열이 입력된다. 입력 문자는 a1처럼 열과 행으로 이루어진다."
   ]
  },
  {
   "cell_type": "markdown",
   "metadata": {},
   "source": [
    "##### 출력 조건\n",
    "- 첫째 줄에 나이트가 이동할 수 있는 경우의 수를 출력하시오."
   ]
  },
  {
   "cell_type": "markdown",
   "metadata": {},
   "source": [
    "##### 입력 예시\n",
    "a1"
   ]
  },
  {
   "cell_type": "markdown",
   "metadata": {},
   "source": [
    "##### 출력 예시\n",
    "2"
   ]
  },
  {
   "cell_type": "code",
   "execution_count": 25,
   "metadata": {},
   "outputs": [
    {
     "name": "stdout",
     "output_type": "stream",
     "text": [
      "a1\n",
      "2\n"
     ]
    }
   ],
   "source": [
    "n = str(input())\n",
    "\n",
    "x_loc = {'a' : 1, 'b' : 2, 'c' : 3, 'd' : 4, 'e' : 5, 'f' : 6, 'g' : 7, 'h' : 8}\n",
    "\n",
    "current_loc = [x_loc[list(n)[0]],int(list(n)[1])]\n",
    "\n",
    "all_moves = [[2,1],[2,-1],[-2,1],[-2,-1],[1,2],[1,-2],[-1,2],[-1,-2]]\n",
    "\n",
    "count = 0\n",
    "\n",
    "for move in all_moves:\n",
    "    \n",
    "    if ((current_loc[0] + move[0]) in list(range(1,9))) and ((current_loc[1] + move[1]) in list(range(1,9))) :\n",
    "        count += 1\n",
    "    \n",
    "\n",
    "print(count)"
   ]
  },
  {
   "cell_type": "code",
   "execution_count": 27,
   "metadata": {},
   "outputs": [
    {
     "name": "stdout",
     "output_type": "stream",
     "text": [
      "c2\n",
      "6\n"
     ]
    }
   ],
   "source": [
    "# 나의 풀이 1\n",
    "\n",
    "n = str(input())\n",
    "\n",
    "# dictionary를 이용하여 각 문자가 해당하는 열이 몇 번째인지를 지정\n",
    "x_loc = {'a' : 1, 'b' : 2, 'c' : 3, 'd' : 4, 'e' : 5, 'f' : 6, 'g' : 7, 'h' : 8}\n",
    "\n",
    "# 현재 위치를 위의 딕셔너리를 이용하여 변한한 뒤 리스트로 저장\n",
    "current_loc = [x_loc[list(n)[0]],int(list(n)[1])]\n",
    "\n",
    "# 가능한 모든 움직임에 대해서 x좌표, y좌표값의 변화를 리스트로 저장\n",
    "all_moves = [[2,1],[2,-1],[-2,1],[-2,-1],[1,2],[1,-2],[-1,2],[-1,-2]]\n",
    "\n",
    "# 카운트 초기화\n",
    "count = 0\n",
    "\n",
    "for move in all_moves:\n",
    "    \n",
    "    # 이동한 x좌표와 y좌표가 모두 [1-8]인 범위 내에 존재해야 하므로, 이 경우만 count\n",
    "    if ((current_loc[0] + move[0]) in list(range(1,9))) and ((current_loc[1] + move[1]) in list(range(1,9))) :\n",
    "        count += 1\n",
    "    \n",
    "print(count)"
   ]
  },
  {
   "cell_type": "code",
   "execution_count": 28,
   "metadata": {},
   "outputs": [
    {
     "name": "stdout",
     "output_type": "stream",
     "text": [
      "c2\n",
      "6\n"
     ]
    }
   ],
   "source": [
    "# 답안 예시\n",
    "input_data = input()\n",
    "row = int(input_data[1])\n",
    "column = int(ord(input_data[0]) - int(ord('a')) + 1)\n",
    "\n",
    "# 나이트가 이동할 수 있는 8가지 방향 정의\n",
    "steps = [(-2,1), (-1,-2), (1,-2), (2,-1), (2,1), (1,2), (-1,2), (-2,1)]\n",
    "\n",
    "# 8가지 다른 방향에 대하여 각 위치로 이동이 가능한지 확인\n",
    "result = 0\n",
    "for step in steps:\n",
    "    # 이동하고자 하는 위치 확인\n",
    "    next_row = row + step[0]\n",
    "    next_column = column + step[1]\n",
    "    # 해당 위치로 이동이 가능 하다면 카운트 증가\n",
    "    if next_row >= 1 and next_row <= 8 and next_column >= 1 and next_column <= 8:\n",
    "        result += 1\n",
    "        \n",
    "print(result)"
   ]
  },
  {
   "cell_type": "markdown",
   "metadata": {},
   "source": [
    "# 실전문제 3. 게임 개발\n",
    "풀이시간 40분 시간 제한 1초 메모리 제한 128MB"
   ]
  },
  {
   "cell_type": "markdown",
   "metadata": {},
   "source": [
    "현민이는 게임 캐릭터가 맵 안에서 움직이는 시스템을 개발 중이다. 캐릭터가 있는 장소는 1 * 1 크기의 정사각형으로 이뤄진 N * M 크기의 직사각형으로, 각각의 칸은 육지 또는 바다이다. 캐릭터는 동서남북 중 한 곳을 바라본다.  \n",
    "맵의 각 칸은 (A,B)로 나타낼 수 있고, A는 북쪽으로부터 떨어진 칸의 개수, B는 서쪽으로부터 떨어진 칸의 개수이다. 캐릭터는 상하좌우로 움직일 수 있고, 바다로 되어 있는 공간에는 갈 수 없다. 캐릭터의 움직임을 설정하기 위해 정해 놓은 매뉴얼은 다음과 같다.\n",
    "1. 현재 위치에서 현재 방향을 기준으로 왼쪽 방향(반시계 방향으로 90도 회전한 방향) 부터 차례로 갈 곳을 정한다.\n",
    "2. 캐릭터의 바로 왼쪽 방향에 아직 가보지 않은 칸이 존재한다면, 왼쪽 방향으로 회전한 다음 왼쪽으로 한 칸을 전진한다. 왼쪽 방향에 가보지 않은 칸이 없다면, 왼쪽 방향으로 회전만 수행하고 1단계로 돌아간다.\n",
    "3. 만약 네 방향 모두 이미 가본 칸이거나 바다로 되어 있는 칸인 경우에는, 바라보는 방향을 유지한 채로 한 칸 뒤로 가고 1단계로 돌아간다. 단, 이떄 뒤쪽 방향이 바다인 칸이라 뒤로 갈 수 없는 경우에는 움직임을 멈춘다.  \n",
    "  \n",
    "현민이는 위 과정을 반복적으로 수행하면서 캐릭터의 움직임에 이상이 있는지 테스트하려고 한다. 매뉴얼에 따라 캐릭터를 이동시킨 뒤에, 캐릭터라 방문한 칸의 수를 출력하는 프로그램을 만드시오."
   ]
  },
  {
   "cell_type": "markdown",
   "metadata": {},
   "source": [
    "##### 입력 조건\n",
    "- 첫째 줄에 맵의 세로 크기 N과 가로 크기 M을 공백으로 구분하여 입력한다. (3 <= N, M <= 50)\n",
    "- 둘째 줄에 게임 캐릭터가 있는 칸의 좌표 (A,B)와 바라보는 방향 d가 각각 서로 공백으로 구분하여 주어진다. 방향 d의 값으로는 다음과 같이 4가지가 존재한다.  \n",
    "  - 0 : 북쪽\n",
    "  - 1 : 동쪽\n",
    "  - 2 : 남쪽\n",
    "  - 3 : 서쪽\n",
    "- 셋째 줄부터 맵이 육지인지 바다인지에 대한 정보가 주어진다. N개의 줄에 맵의 상태가 북쪽부터 남쪽으로 순서대로, 각 줄의 데이터는 서쪽부터 동쪽 순서대로 주어진다. 맵의 외각은 항상 바다로 되어 있다.\n",
    "  - 0 : 육지\n",
    "  - 1 : 바다\n",
    "- 처음에 게임 캐릭터가 위차한 칸의 상태는 항상 육지이다."
   ]
  },
  {
   "cell_type": "markdown",
   "metadata": {},
   "source": [
    "##### 출력 조건\n",
    "- 첫째 줄에 이동을 마친 후 캐릭터가 방문한 칸의 수를 출력한다."
   ]
  },
  {
   "cell_type": "markdown",
   "metadata": {},
   "source": [
    "##### 입력 예시\n",
    "4 4        # 4 * 4 맵 생성  \n",
    "1 1 0      # (1,1)에 북쪽(0)을 바라보고 서 있는 캐릭터  \n",
    "1 1 1 1    # 첫 줄은 모두 바다  \n",
    "1 0 0 1    # 둘째 줄은 바다/육지/육지/바다  \n",
    "1 1 0 1    # 셋째 줄은 바다/바다/육지/바다  \n",
    "1 1 1 1    # 넷째 줄은 모두 바다  "
   ]
  },
  {
   "cell_type": "markdown",
   "metadata": {},
   "source": [
    "##### 출력 예시\n",
    "3"
   ]
  },
  {
   "cell_type": "markdown",
   "metadata": {},
   "source": [
    "-> 방문한 육지의 값을 2와 같은 형태로 갱신해 주며 방문을 해주며 카운트를 한다. 이때 이동 횟수에 대해서 카운트 하는 것이 아니라, 방문하지 않았던 장소를 갔을 때에 카운트를 올려준다."
   ]
  },
  {
   "cell_type": "markdown",
   "metadata": {},
   "source": [
    "\n"
   ]
  },
  {
   "cell_type": "code",
   "execution_count": 1,
   "metadata": {},
   "outputs": [
    {
     "name": "stdout",
     "output_type": "stream",
     "text": [
      "4 4\n",
      "1 1 0\n",
      "1 1 1 1\n",
      "1 0 0 1\n",
      "1 1 0 1\n",
      "1 1 1 1\n",
      "3\n"
     ]
    }
   ],
   "source": [
    "# 답안 예시\n",
    "\n",
    "\n",
    "n, m = map(int, input().split())\n",
    "\n",
    "d = [[0]*m for _ in range(n)]\n",
    "\n",
    "x, y, direction = map(int, input().split())\n",
    "d[x][y] = 1\n",
    "\n",
    "array = []\n",
    "\n",
    "for i in range(n):\n",
    "    array.append(list(map(int, input().split())))\n",
    "\n",
    "dx = [-1, 0, 1, 0]\n",
    "dy = [0, 1, 0, -1]\n",
    "\n",
    "def turn_left():\n",
    "    global direction\n",
    "    direction -= 1\n",
    "    if direction == -1:\n",
    "        direction = 3\n",
    "\n",
    "count = 1   # 카운트를 1로 초기화 하며 이동 횟수를 센다.\n",
    "turn_time = 0 # 회전 횟수를 0으로 초기화\n",
    "\n",
    "while True:\n",
    "    # 위에서 정의한 함수를 이용하여 회전을 실행. 초기 방향은 입력값으로 받는다.\n",
    "    turn_left() # 반시계로 돌기 실행 direction값 1 감소. -> 새로운 방향에 대해서\n",
    "    nx = x + dx[direction]  # 새로 설정한 방향에 대해서 x방향으로 이동을 시킨다.\n",
    "    ny = y + dy[direction]  # 마찬가지 방법으로 y로 이동\n",
    "\n",
    "    if d[nx][ny] == 0 and array[nx][ny] == 0: # 만약 이동한 곳이 땅이면서 방문한 적이 없는 지역이라면,\n",
    "        d[nx][ny] = 1 # 방문 지역으로 갱신\n",
    "        x = nx\n",
    "        y = ny  # 좌표의 이동\n",
    "        count += 1 # 방문횟수로 갱신\n",
    "        turn_time = 0 # 회전 횟수는 그대로 0\n",
    "        continue\n",
    "\n",
    "    else : # 회전한 이후에 가보지 않은 칸이 없거나, 바라보는 방향이 바다라면\n",
    "        turn_time += 1\n",
    "\n",
    "    if turn_time == 4: # 한바퀴 돌았음에도 이동할수 없는 칸이 없는 경우\n",
    "        nx = x - dx[direction]\n",
    "        ny = y - dy[direction]\n",
    "\n",
    "        # 뒤로 이동가능할 시에 이동하기\n",
    "        if array[nx][ny] == 0 :\n",
    "            x = nx\n",
    "            y = ny\n",
    "\n",
    "        # 뒤가 바다로 막혀있는 경우\n",
    "        else :\n",
    "            break\n",
    "\n",
    "        turn_time = 0\n",
    "\n",
    "print(count)"
   ]
  },
  {
   "cell_type": "markdown",
   "metadata": {},
   "source": [
    "##### 생각 \n",
    "만약 단순히 3이라는 결과값을 얻는 것만이 중요한 코딩 시험이라면 단순히 몇개의 0이 연결되어있는지를 통해 값을 반환해도 되는 것 아닐까?  \n",
    "그렇다면 처음위치의 0과 연결된 0의 갯수를 카운트 해주면 될 것 같다.  \n",
    "-> 연결된 0의 갯수를 세어주는 방법이 어쨋든 이동을 하며 그 수를 1로 바꾸면서 카운트를 해야 하므로 위와 비슷한 방법이 될 것이다."
   ]
  },
  {
   "cell_type": "markdown",
   "metadata": {},
   "source": []
  }
 ],
 "metadata": {
  "kernelspec": {
   "display_name": "Python 3",
   "language": "python",
   "name": "python3"
  },
  "language_info": {
   "codemirror_mode": {
    "name": "ipython",
    "version": 3
   },
   "file_extension": ".py",
   "mimetype": "text/x-python",
   "name": "python",
   "nbconvert_exporter": "python",
   "pygments_lexer": "ipython3",
   "version": "3.8.1"
  }
 },
 "nbformat": 4,
 "nbformat_minor": 4
}
