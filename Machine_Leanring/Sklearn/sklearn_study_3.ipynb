{
 "cells": [
  {
   "cell_type": "code",
   "execution_count": 1,
   "metadata": {},
   "outputs": [],
   "source": [
    "import numpy as np\n",
    "import pandas as pd\n",
    "from matplotlib import pyplot as plt\n",
    "from sklearn.preprocessing import StandardScaler\n",
    "from sklearn.pipeline import Pipeline\n",
    "\n",
    "%matplotlib inline\n",
    "\n",
    "import warnings\n",
    "warnings.filterwarnings('ignore')"
   ]
  },
  {
   "cell_type": "code",
   "execution_count": 2,
   "metadata": {},
   "outputs": [],
   "source": [
    "train_data = pd.read_csv('train.csv')\n",
    "test_data = pd.read_csv('test.csv')"
   ]
  },
  {
   "cell_type": "code",
   "execution_count": 3,
   "metadata": {},
   "outputs": [],
   "source": [
    "average_age = train_data['Age'].mean()\n",
    "std_age = train_data['Age'].std()\n",
    "count_age = train_data['Age'].isnull().sum()\n",
    "\n",
    "random_1 = np.random.randint(average_age - std_age, average_age + std_age,size = count_age)\n",
    "\n",
    "train_data['Age'][np.isnan(train_data['Age'])]=random_1"
   ]
  },
  {
   "cell_type": "code",
   "execution_count": 4,
   "metadata": {},
   "outputs": [],
   "source": [
    "train_data['Age'] = train_data['Age'].round().astype(int)"
   ]
  },
  {
   "cell_type": "code",
   "execution_count": 5,
   "metadata": {},
   "outputs": [],
   "source": [
    "average_age = test_data['Age'].mean()\n",
    "std_age = test_data['Age'].std()\n",
    "count_age = test_data['Age'].isnull().sum()"
   ]
  },
  {
   "cell_type": "code",
   "execution_count": 6,
   "metadata": {},
   "outputs": [],
   "source": [
    "random_1 = np.random.randint(average_age - std_age, average_age + std_age,size = count_age)\n",
    "test_data['Age'][np.isnan(test_data['Age'])] = random_1\n",
    "test_data['Age'] = test_data['Age'].astype(int)"
   ]
  },
  {
   "cell_type": "code",
   "execution_count": 7,
   "metadata": {},
   "outputs": [],
   "source": [
    "train_data['AgeBucket'] = train_data['Age']//15 * 15\n",
    "test_data['AgeBucket'] = test_data['Age']//15 * 15"
   ]
  },
  {
   "cell_type": "code",
   "execution_count": 8,
   "metadata": {},
   "outputs": [],
   "source": [
    "train_data['RelativesOnboard'] = train_data['SibSp'] + train_data['Parch']\n",
    "test_data['RelativesOnboard'] = test_data['SibSp'] + test_data['Parch']"
   ]
  },
  {
   "cell_type": "code",
   "execution_count": 9,
   "metadata": {},
   "outputs": [],
   "source": [
    "from sklearn.base import BaseEstimator, TransformerMixin\n",
    "from sklearn.utils import check_array\n",
    "from sklearn.preprocessing import LabelEncoder\n",
    "from scipy import sparse"
   ]
  },
  {
   "cell_type": "code",
   "execution_count": 10,
   "metadata": {},
   "outputs": [],
   "source": [
    "from sklearn.base import BaseEstimator, TransformerMixin\n",
    "from sklearn.utils import check_array\n",
    "from sklearn.preprocessing import LabelEncoder\n",
    "from scipy import sparse\n",
    "\n",
    "class CategoricalEncoder(BaseEstimator, TransformerMixin):\n",
    "\n",
    "    def __init__(self, encoding='onehot', categories='auto', dtype=np.float64, handle_unknown='error'):\n",
    "\n",
    "        self.encoding = encoding\n",
    "        self.categories = categories\n",
    "        self.dtype = dtype\n",
    "        self.handle_unknown = handle_unknown\n",
    "\n",
    "    def fit(self, X, y=None):\n",
    "\n",
    "        if self.encoding not in ['onehot', 'onehot-dense', 'ordinal']:\n",
    "            template = (\"encoding should be either 'onehot', 'onehot-dense' \"\n",
    "            \"or 'ordinal', got %s\")\n",
    "            raise ValueError(template % self.handle_unknown)\n",
    "\n",
    "        if self.handle_unknown not in ['error', 'ignore']:\n",
    "            template = (\"handle_unknown should be either 'error' or \"\n",
    "            \"'ignore', got %s\")\n",
    "            raise ValueError(template % self.handle_unknown)\n",
    "\n",
    "        if self.encoding == 'ordinal' and self.handle_unknown == 'ignore':\n",
    "            raise ValueError(\"handle_unknown='ignore' is not supported for\"\n",
    "            \" encoding='ordinal'\")\n",
    "\n",
    "        X = check_array(X, dtype=np.object, accept_sparse='csc', copy=True)\n",
    "        n_samples, n_features = X.shape\n",
    "\n",
    "        self._label_encoders_ = [LabelEncoder() for _ in range(n_features)]\n",
    "\n",
    "        for i in range(n_features):\n",
    "            le = self._label_encoders_[i]\n",
    "            Xi = X[:, i]\n",
    "            if self.categories == 'auto':\n",
    "                le.fit(Xi)\n",
    "            else:\n",
    "                valid_mask = np.in1d(Xi, self.categories[i])\n",
    "                if not np.all(valid_mask):\n",
    "                    if self.handle_unknown == 'error':\n",
    "                        diff = np.unique(Xi[~valid_mask])\n",
    "                        msg = (\"Found unknown categories {0} in column {1}\"\n",
    "                               \" during fit\".format(diff, i))\n",
    "                        raise ValueError(msg)\n",
    "                le.classes_ = np.array(np.sort(self.categories[i]))\n",
    "\n",
    "        self.categories_ = [le.classes_ for le in self._label_encoders_]\n",
    "\n",
    "        return self\n",
    "\n",
    "    def transform(self, X):\n",
    "\n",
    "        X = check_array(X, accept_sparse='csc', dtype=np.object, copy=True)\n",
    "        n_samples, n_features = X.shape\n",
    "        X_int = np.zeros_like(X, dtype=np.int)\n",
    "        X_mask = np.ones_like(X, dtype=np.bool)\n",
    "\n",
    "        for i in range(n_features):\n",
    "            valid_mask = np.in1d(X[:, i], self.categories_[i])\n",
    "\n",
    "            if not np.all(valid_mask):\n",
    "                if self.handle_unknown == 'error':\n",
    "                    diff = np.unique(X[~valid_mask, i])\n",
    "                    msg = (\"Found unknown categories {0} in column {1}\"\n",
    "                           \" during transform\".format(diff, i))\n",
    "                    raise ValueError(msg)\n",
    "                else:\n",
    "\n",
    "                    X_mask[:, i] = valid_mask\n",
    "                    X[:, i][~valid_mask] = self.categories_[i][0]\n",
    "            X_int[:, i] = self._label_encoders_[i].transform(X[:, i])\n",
    "\n",
    "        if self.encoding == 'ordinal':\n",
    "            return X_int.astype(self.dtype, copy=False)\n",
    "\n",
    "        mask = X_mask.ravel()\n",
    "        n_values = [cats.shape[0] for cats in self.categories_]\n",
    "        n_values = np.array([0] + n_values)\n",
    "        indices = np.cumsum(n_values)\n",
    "\n",
    "        column_indices = (X_int + indices[:-1]).ravel()[mask]\n",
    "        row_indices = np.repeat(np.arange(n_samples, dtype=np.int32),\n",
    "                                n_features)[mask]\n",
    "        data = np.ones(n_samples * n_features)[mask]\n",
    "\n",
    "        out = sparse.csc_matrix((data, (row_indices, column_indices)),\n",
    "                                shape=(n_samples, indices[-1]),\n",
    "                                dtype=self.dtype).tocsr()\n",
    "        if self.encoding == 'onehot-dense':\n",
    "            return out.toarray()\n",
    "        else:\n",
    "            return out"
   ]
  },
  {
   "cell_type": "code",
   "execution_count": 11,
   "metadata": {},
   "outputs": [],
   "source": [
    "from sklearn.base import BaseEstimator, TransformerMixin\n",
    "\n",
    "class DataFrameSelector(BaseEstimator, TransformerMixin):\n",
    "    def __init__(self, attribute_names):\n",
    "        self.attribute_names = attribute_names\n",
    "    def fit(self, X, y=None):\n",
    "        return self\n",
    "    def transform(self, X):\n",
    "        return X[self.attribute_names]"
   ]
  },
  {
   "cell_type": "code",
   "execution_count": 12,
   "metadata": {},
   "outputs": [],
   "source": [
    "class MostFrequentImputer(BaseEstimator, TransformerMixin):\n",
    "    def fit(self, X, y=None):\n",
    "        self.most_frequent = pd.Series([X[c].value_counts().index[0] for c in X],index=X.columns)\n",
    "        return self\n",
    "    def transform(self, X, y=None):\n",
    "        return X.fillna(self.most_frequent)"
   ]
  },
  {
   "cell_type": "code",
   "execution_count": 13,
   "metadata": {},
   "outputs": [],
   "source": [
    "from sklearn.pipeline import Pipeline\n",
    "from sklearn.impute import SimpleImputer\n",
    "\n",
    "imputer = SimpleImputer(strategy=\"median\")\n",
    "\n",
    "num_pipeline = Pipeline([\n",
    "        (\"select_numeric\", DataFrameSelector([\"Fare\",'RelativesOnboard'])),\n",
    "        (\"imputer\", SimpleImputer(strategy=\"median\")),\n",
    "        ('Scaler', StandardScaler())\n",
    "    ])\n",
    "\n",
    "cat_pipeline = Pipeline([\n",
    "        (\"select_cat\", DataFrameSelector([\"Pclass\", \"Sex\", \"Embarked\",\"AgeBucket\"])),\n",
    "        (\"imputer\", MostFrequentImputer()),\n",
    "        (\"cat_encoder\", CategoricalEncoder(encoding='onehot-dense')),\n",
    "    ])"
   ]
  },
  {
   "cell_type": "code",
   "execution_count": 14,
   "metadata": {},
   "outputs": [],
   "source": [
    "from sklearn.pipeline import FeatureUnion\n",
    "preprocess_pipeline = FeatureUnion(transformer_list=[\n",
    "        (\"num_pipeline\", num_pipeline),\n",
    "        (\"cat_pipeline\", cat_pipeline),\n",
    "    ])"
   ]
  },
  {
   "cell_type": "code",
   "execution_count": 15,
   "metadata": {},
   "outputs": [],
   "source": [
    "X_train = preprocess_pipeline.fit_transform(train_data)\n",
    "y_train = train_data['Survived']"
   ]
  },
  {
   "cell_type": "code",
   "execution_count": 16,
   "metadata": {},
   "outputs": [
    {
     "data": {
      "text/plain": [
       "array([[-0.50244517,  0.05915988,  0.        , ...,  0.        ,\n",
       "         0.        ,  0.        ],\n",
       "       [ 0.78684529,  0.05915988,  1.        , ...,  0.        ,\n",
       "         0.        ,  0.        ],\n",
       "       [-0.48885426, -0.56097483,  0.        , ...,  0.        ,\n",
       "         0.        ,  0.        ],\n",
       "       ...,\n",
       "       [-0.17626324,  1.29942929,  0.        , ...,  0.        ,\n",
       "         0.        ,  0.        ],\n",
       "       [-0.04438104, -0.56097483,  1.        , ...,  0.        ,\n",
       "         0.        ,  0.        ],\n",
       "       [-0.49237783, -0.56097483,  0.        , ...,  0.        ,\n",
       "         0.        ,  0.        ]])"
      ]
     },
     "execution_count": 16,
     "metadata": {},
     "output_type": "execute_result"
    }
   ],
   "source": [
    "X_train"
   ]
  },
  {
   "cell_type": "code",
   "execution_count": 17,
   "metadata": {
    "scrolled": true
   },
   "outputs": [
    {
     "data": {
      "text/plain": [
       "0      0\n",
       "1      1\n",
       "2      1\n",
       "3      1\n",
       "4      0\n",
       "      ..\n",
       "886    0\n",
       "887    1\n",
       "888    0\n",
       "889    1\n",
       "890    0\n",
       "Name: Survived, Length: 891, dtype: int64"
      ]
     },
     "execution_count": 17,
     "metadata": {},
     "output_type": "execute_result"
    }
   ],
   "source": [
    "y_train"
   ]
  },
  {
   "cell_type": "code",
   "execution_count": 18,
   "metadata": {},
   "outputs": [
    {
     "data": {
      "text/plain": [
       "(179, 16)"
      ]
     },
     "execution_count": 18,
     "metadata": {},
     "output_type": "execute_result"
    }
   ],
   "source": [
    "from sklearn.model_selection import train_test_split\n",
    "\n",
    "validation_size = 0.2\n",
    "seed = 7\n",
    "X_train, X_val, y_train, y_val = train_test_split(X_train, y_train, test_size=validation_size, random_state=seed)\n",
    "\n",
    "X_val.shape"
   ]
  },
  {
   "cell_type": "code",
   "execution_count": 19,
   "metadata": {},
   "outputs": [],
   "source": [
    "X_DataFrame = pd.DataFrame(X_train)"
   ]
  },
  {
   "cell_type": "code",
   "execution_count": 20,
   "metadata": {},
   "outputs": [],
   "source": [
    "train_cat = train_data[[\"Pclass\", \"Sex\", \"Embarked\",\"AgeBucket\"]]"
   ]
  },
  {
   "cell_type": "code",
   "execution_count": 21,
   "metadata": {},
   "outputs": [],
   "source": [
    "cat_encoder = CategoricalEncoder(encoding=\"onehot-dense\")\n",
    "imputer = MostFrequentImputer()"
   ]
  },
  {
   "cell_type": "code",
   "execution_count": 22,
   "metadata": {},
   "outputs": [],
   "source": [
    "train_filled = imputer.fit_transform(train_cat)"
   ]
  },
  {
   "cell_type": "code",
   "execution_count": 23,
   "metadata": {},
   "outputs": [
    {
     "data": {
      "text/plain": [
       "array([[0., 0., 1., ..., 0., 0., 0.],\n",
       "       [1., 0., 0., ..., 0., 0., 0.],\n",
       "       [0., 0., 1., ..., 0., 0., 0.],\n",
       "       ...,\n",
       "       [0., 0., 1., ..., 0., 0., 0.],\n",
       "       [1., 0., 0., ..., 0., 0., 0.],\n",
       "       [0., 0., 1., ..., 0., 0., 0.]])"
      ]
     },
     "execution_count": 23,
     "metadata": {},
     "output_type": "execute_result"
    }
   ],
   "source": [
    "cat_encoder.fit_transform(train_filled)"
   ]
  },
  {
   "cell_type": "code",
   "execution_count": 24,
   "metadata": {},
   "outputs": [
    {
     "data": {
      "text/plain": [
       "[array([1, 2, 3], dtype=object),\n",
       " array(['female', 'male'], dtype=object),\n",
       " array(['C', 'Q', 'S'], dtype=object),\n",
       " array([0, 15, 30, 45, 60, 75], dtype=object)]"
      ]
     },
     "execution_count": 24,
     "metadata": {},
     "output_type": "execute_result"
    }
   ],
   "source": [
    "cat_encoder.categories_"
   ]
  },
  {
   "cell_type": "code",
   "execution_count": 25,
   "metadata": {},
   "outputs": [
    {
     "data": {
      "text/html": [
       "<div>\n",
       "<style scoped>\n",
       "    .dataframe tbody tr th:only-of-type {\n",
       "        vertical-align: middle;\n",
       "    }\n",
       "\n",
       "    .dataframe tbody tr th {\n",
       "        vertical-align: top;\n",
       "    }\n",
       "\n",
       "    .dataframe thead th {\n",
       "        text-align: right;\n",
       "    }\n",
       "</style>\n",
       "<table border=\"1\" class=\"dataframe\">\n",
       "  <thead>\n",
       "    <tr style=\"text-align: right;\">\n",
       "      <th></th>\n",
       "      <th>Pclass</th>\n",
       "      <th>Sex</th>\n",
       "      <th>Embarked</th>\n",
       "      <th>AgeBucket</th>\n",
       "    </tr>\n",
       "  </thead>\n",
       "  <tbody>\n",
       "    <tr>\n",
       "      <th>0</th>\n",
       "      <td>3</td>\n",
       "      <td>male</td>\n",
       "      <td>S</td>\n",
       "      <td>15</td>\n",
       "    </tr>\n",
       "    <tr>\n",
       "      <th>1</th>\n",
       "      <td>1</td>\n",
       "      <td>female</td>\n",
       "      <td>C</td>\n",
       "      <td>30</td>\n",
       "    </tr>\n",
       "    <tr>\n",
       "      <th>2</th>\n",
       "      <td>3</td>\n",
       "      <td>female</td>\n",
       "      <td>S</td>\n",
       "      <td>15</td>\n",
       "    </tr>\n",
       "    <tr>\n",
       "      <th>3</th>\n",
       "      <td>1</td>\n",
       "      <td>female</td>\n",
       "      <td>S</td>\n",
       "      <td>30</td>\n",
       "    </tr>\n",
       "    <tr>\n",
       "      <th>4</th>\n",
       "      <td>3</td>\n",
       "      <td>male</td>\n",
       "      <td>S</td>\n",
       "      <td>30</td>\n",
       "    </tr>\n",
       "    <tr>\n",
       "      <th>...</th>\n",
       "      <td>...</td>\n",
       "      <td>...</td>\n",
       "      <td>...</td>\n",
       "      <td>...</td>\n",
       "    </tr>\n",
       "    <tr>\n",
       "      <th>886</th>\n",
       "      <td>2</td>\n",
       "      <td>male</td>\n",
       "      <td>S</td>\n",
       "      <td>15</td>\n",
       "    </tr>\n",
       "    <tr>\n",
       "      <th>887</th>\n",
       "      <td>1</td>\n",
       "      <td>female</td>\n",
       "      <td>S</td>\n",
       "      <td>15</td>\n",
       "    </tr>\n",
       "    <tr>\n",
       "      <th>888</th>\n",
       "      <td>3</td>\n",
       "      <td>female</td>\n",
       "      <td>S</td>\n",
       "      <td>30</td>\n",
       "    </tr>\n",
       "    <tr>\n",
       "      <th>889</th>\n",
       "      <td>1</td>\n",
       "      <td>male</td>\n",
       "      <td>C</td>\n",
       "      <td>15</td>\n",
       "    </tr>\n",
       "    <tr>\n",
       "      <th>890</th>\n",
       "      <td>3</td>\n",
       "      <td>male</td>\n",
       "      <td>Q</td>\n",
       "      <td>30</td>\n",
       "    </tr>\n",
       "  </tbody>\n",
       "</table>\n",
       "<p>891 rows × 4 columns</p>\n",
       "</div>"
      ],
      "text/plain": [
       "     Pclass     Sex Embarked  AgeBucket\n",
       "0         3    male        S         15\n",
       "1         1  female        C         30\n",
       "2         3  female        S         15\n",
       "3         1  female        S         30\n",
       "4         3    male        S         30\n",
       "..      ...     ...      ...        ...\n",
       "886       2    male        S         15\n",
       "887       1  female        S         15\n",
       "888       3  female        S         30\n",
       "889       1    male        C         15\n",
       "890       3    male        Q         30\n",
       "\n",
       "[891 rows x 4 columns]"
      ]
     },
     "execution_count": 25,
     "metadata": {},
     "output_type": "execute_result"
    }
   ],
   "source": [
    "train_cat"
   ]
  },
  {
   "cell_type": "code",
   "execution_count": 26,
   "metadata": {},
   "outputs": [],
   "source": [
    "X_columns = [\"Fare\",'RelativesOnboard',1, 2, 3,'female', 'male','C', 'Q', 'S',0, 15, 30, 45, 60, 75]"
   ]
  },
  {
   "cell_type": "code",
   "execution_count": 27,
   "metadata": {},
   "outputs": [],
   "source": [
    "X_DataFrame.columns = X_columns"
   ]
  },
  {
   "cell_type": "code",
   "execution_count": 28,
   "metadata": {},
   "outputs": [
    {
     "data": {
      "text/html": [
       "<div>\n",
       "<style scoped>\n",
       "    .dataframe tbody tr th:only-of-type {\n",
       "        vertical-align: middle;\n",
       "    }\n",
       "\n",
       "    .dataframe tbody tr th {\n",
       "        vertical-align: top;\n",
       "    }\n",
       "\n",
       "    .dataframe thead th {\n",
       "        text-align: right;\n",
       "    }\n",
       "</style>\n",
       "<table border=\"1\" class=\"dataframe\">\n",
       "  <thead>\n",
       "    <tr style=\"text-align: right;\">\n",
       "      <th></th>\n",
       "      <th>Fare</th>\n",
       "      <th>RelativesOnboard</th>\n",
       "      <th>1</th>\n",
       "      <th>2</th>\n",
       "      <th>3</th>\n",
       "      <th>female</th>\n",
       "      <th>male</th>\n",
       "      <th>C</th>\n",
       "      <th>Q</th>\n",
       "      <th>S</th>\n",
       "      <th>0</th>\n",
       "      <th>15</th>\n",
       "      <th>30</th>\n",
       "      <th>45</th>\n",
       "      <th>60</th>\n",
       "      <th>75</th>\n",
       "    </tr>\n",
       "  </thead>\n",
       "  <tbody>\n",
       "    <tr>\n",
       "      <th>0</th>\n",
       "      <td>-0.437762</td>\n",
       "      <td>0.059160</td>\n",
       "      <td>0.0</td>\n",
       "      <td>0.0</td>\n",
       "      <td>1.0</td>\n",
       "      <td>1.0</td>\n",
       "      <td>0.0</td>\n",
       "      <td>0.0</td>\n",
       "      <td>0.0</td>\n",
       "      <td>1.0</td>\n",
       "      <td>1.0</td>\n",
       "      <td>0.0</td>\n",
       "      <td>0.0</td>\n",
       "      <td>0.0</td>\n",
       "      <td>0.0</td>\n",
       "      <td>0.0</td>\n",
       "    </tr>\n",
       "    <tr>\n",
       "      <th>1</th>\n",
       "      <td>-0.336334</td>\n",
       "      <td>-0.560975</td>\n",
       "      <td>0.0</td>\n",
       "      <td>0.0</td>\n",
       "      <td>1.0</td>\n",
       "      <td>0.0</td>\n",
       "      <td>1.0</td>\n",
       "      <td>0.0</td>\n",
       "      <td>1.0</td>\n",
       "      <td>0.0</td>\n",
       "      <td>0.0</td>\n",
       "      <td>0.0</td>\n",
       "      <td>1.0</td>\n",
       "      <td>0.0</td>\n",
       "      <td>0.0</td>\n",
       "      <td>0.0</td>\n",
       "    </tr>\n",
       "    <tr>\n",
       "      <th>2</th>\n",
       "      <td>1.025945</td>\n",
       "      <td>0.679295</td>\n",
       "      <td>1.0</td>\n",
       "      <td>0.0</td>\n",
       "      <td>0.0</td>\n",
       "      <td>1.0</td>\n",
       "      <td>0.0</td>\n",
       "      <td>1.0</td>\n",
       "      <td>0.0</td>\n",
       "      <td>0.0</td>\n",
       "      <td>0.0</td>\n",
       "      <td>0.0</td>\n",
       "      <td>1.0</td>\n",
       "      <td>0.0</td>\n",
       "      <td>0.0</td>\n",
       "      <td>0.0</td>\n",
       "    </tr>\n",
       "    <tr>\n",
       "      <th>3</th>\n",
       "      <td>-0.491874</td>\n",
       "      <td>-0.560975</td>\n",
       "      <td>0.0</td>\n",
       "      <td>0.0</td>\n",
       "      <td>1.0</td>\n",
       "      <td>0.0</td>\n",
       "      <td>1.0</td>\n",
       "      <td>0.0</td>\n",
       "      <td>0.0</td>\n",
       "      <td>1.0</td>\n",
       "      <td>0.0</td>\n",
       "      <td>0.0</td>\n",
       "      <td>0.0</td>\n",
       "      <td>0.0</td>\n",
       "      <td>1.0</td>\n",
       "      <td>0.0</td>\n",
       "    </tr>\n",
       "    <tr>\n",
       "      <th>4</th>\n",
       "      <td>-0.502949</td>\n",
       "      <td>-0.560975</td>\n",
       "      <td>0.0</td>\n",
       "      <td>0.0</td>\n",
       "      <td>1.0</td>\n",
       "      <td>0.0</td>\n",
       "      <td>1.0</td>\n",
       "      <td>1.0</td>\n",
       "      <td>0.0</td>\n",
       "      <td>0.0</td>\n",
       "      <td>0.0</td>\n",
       "      <td>0.0</td>\n",
       "      <td>1.0</td>\n",
       "      <td>0.0</td>\n",
       "      <td>0.0</td>\n",
       "      <td>0.0</td>\n",
       "    </tr>\n",
       "  </tbody>\n",
       "</table>\n",
       "</div>"
      ],
      "text/plain": [
       "       Fare  RelativesOnboard    1    2    3  female  male    C    Q    S  \\\n",
       "0 -0.437762          0.059160  0.0  0.0  1.0     1.0   0.0  0.0  0.0  1.0   \n",
       "1 -0.336334         -0.560975  0.0  0.0  1.0     0.0   1.0  0.0  1.0  0.0   \n",
       "2  1.025945          0.679295  1.0  0.0  0.0     1.0   0.0  1.0  0.0  0.0   \n",
       "3 -0.491874         -0.560975  0.0  0.0  1.0     0.0   1.0  0.0  0.0  1.0   \n",
       "4 -0.502949         -0.560975  0.0  0.0  1.0     0.0   1.0  1.0  0.0  0.0   \n",
       "\n",
       "     0   15   30   45   60   75  \n",
       "0  1.0  0.0  0.0  0.0  0.0  0.0  \n",
       "1  0.0  0.0  1.0  0.0  0.0  0.0  \n",
       "2  0.0  0.0  1.0  0.0  0.0  0.0  \n",
       "3  0.0  0.0  0.0  0.0  1.0  0.0  \n",
       "4  0.0  0.0  1.0  0.0  0.0  0.0  "
      ]
     },
     "execution_count": 28,
     "metadata": {},
     "output_type": "execute_result"
    }
   ],
   "source": [
    "X_DataFrame.head()"
   ]
  },
  {
   "cell_type": "code",
   "execution_count": 29,
   "metadata": {},
   "outputs": [],
   "source": [
    "X_test = test_data\n",
    "gender_submission = pd.read_csv(\"gender_submission.csv\")\n",
    "y_real = gender_submission[\"Survived\"]"
   ]
  },
  {
   "cell_type": "code",
   "execution_count": 30,
   "metadata": {},
   "outputs": [],
   "source": [
    "num_folds = 10\n",
    "seed = 7\n",
    "scoring = 'accuracy'\n",
    "\n",
    "models = []"
   ]
  },
  {
   "cell_type": "code",
   "execution_count": 31,
   "metadata": {},
   "outputs": [],
   "source": [
    "from sklearn.linear_model import LogisticRegression\n",
    "models.append(('LR', LogisticRegression()))"
   ]
  },
  {
   "cell_type": "code",
   "execution_count": 32,
   "metadata": {},
   "outputs": [],
   "source": [
    "from sklearn.discriminant_analysis import LinearDiscriminantAnalysis\n",
    "models.append(('LDA', LinearDiscriminantAnalysis()))"
   ]
  },
  {
   "cell_type": "code",
   "execution_count": 33,
   "metadata": {},
   "outputs": [],
   "source": [
    "from sklearn.neighbors import KNeighborsClassifier\n",
    "models.append(('KNN', KNeighborsClassifier()))"
   ]
  },
  {
   "cell_type": "code",
   "execution_count": 34,
   "metadata": {},
   "outputs": [],
   "source": [
    "from sklearn.tree import DecisionTreeClassifier\n",
    "models.append(('CART', DecisionTreeClassifier()))"
   ]
  },
  {
   "cell_type": "code",
   "execution_count": 35,
   "metadata": {},
   "outputs": [],
   "source": [
    "from sklearn.naive_bayes import GaussianNB\n",
    "models.append(('NB', GaussianNB()))"
   ]
  },
  {
   "cell_type": "code",
   "execution_count": 36,
   "metadata": {},
   "outputs": [],
   "source": [
    "from sklearn.svm import SVC\n",
    "models.append(('SVM', SVC()))"
   ]
  },
  {
   "cell_type": "code",
   "execution_count": 37,
   "metadata": {},
   "outputs": [],
   "source": [
    "result = []\n",
    "names = []\n",
    "\n",
    "from sklearn.model_selection import KFold\n",
    "from sklearn.model_selection import cross_val_score"
   ]
  },
  {
   "cell_type": "code",
   "execution_count": 38,
   "metadata": {},
   "outputs": [
    {
     "name": "stdout",
     "output_type": "stream",
     "text": [
      "LR0.8062600.055779\n",
      "LDA0.8175270.052422\n",
      "KNN0.7950700.070570\n",
      "CART0.7923120.069787\n",
      "NB0.8020930.051495\n",
      "SVM0.8456380.051667\n"
     ]
    }
   ],
   "source": [
    "for name, model in models :\n",
    "\n",
    "    kfold = KFold(n_splits=num_folds, random_state=seed)\n",
    "    cv_results = cross_val_score(model, X_train, y_train, cv=kfold, scoring=scoring)\n",
    "    result.append(cv_results)\n",
    "    names.append(name)\n",
    "    msg = \"%s%f%f\" % (name, cv_results.mean(), cv_results.std())\n",
    "    print(msg)"
   ]
  },
  {
   "cell_type": "code",
   "execution_count": 39,
   "metadata": {},
   "outputs": [
    {
     "data": {
      "image/png": "[encoded data removed]",
      "text/plain": [
       "<Figure size 432x288 with 1 Axes>"
      ]
     },
     "metadata": {
      "needs_background": "light"
     },
     "output_type": "display_data"
    }
   ],
   "source": [
    "fig = plt.figure()\n",
    "fig.suptitle('Comparison of non_ensemble methods')\n",
    "ax = fig.add_subplot(111)\n",
    "plt.boxplot(result)\n",
    "ax.set_xticklabels(names)\n",
    "plt.show()"
   ]
  },
  {
   "cell_type": "code",
   "execution_count": 40,
   "metadata": {},
   "outputs": [],
   "source": [
    "c_values = [1, 5, 10, 50, 100]\n",
    "gammas = [1, 10, 100, 1000]\n",
    "kernel_values=['rbf']"
   ]
  },
  {
   "cell_type": "code",
   "execution_count": 41,
   "metadata": {},
   "outputs": [],
   "source": [
    "from sklearn.model_selection import GridSearchCV\n",
    "\n",
    "param_grid=dict(C=c_values, kernel=kernel_values, gamma = gammas)\n",
    "model = SVC()\n",
    "kfold = KFold(n_splits=num_folds, random_state=seed)\n",
    "grid = GridSearchCV(estimator = model, param_grid=param_grid, scoring=scoring, cv=kfold)\n",
    "grid_result = grid.fit(X_train, y_train)"
   ]
  },
  {
   "cell_type": "code",
   "execution_count": 42,
   "metadata": {},
   "outputs": [
    {
     "name": "stdout",
     "output_type": "stream",
     "text": [
      "Best: 0.818975 using {'C': 1, 'gamma': 1, 'kernel': 'rbf'}\n"
     ]
    }
   ],
   "source": [
    "print(\"Best: %f using %s\" %(grid_result.best_score_, grid_result.best_params_))"
   ]
  },
  {
   "cell_type": "code",
   "execution_count": 43,
   "metadata": {},
   "outputs": [],
   "source": [
    "means = grid_result.cv_results_['mean_test_score']\n",
    "stds = grid_result.cv_results_['std_test_score']\n",
    "params = grid_result.cv_results_['params']"
   ]
  },
  {
   "cell_type": "code",
   "execution_count": 44,
   "metadata": {},
   "outputs": [
    {
     "name": "stdout",
     "output_type": "stream",
     "text": [
      "0.818975 (0.057539) with: {'C': 1, 'gamma': 1, 'kernel': 'rbf'}\n",
      "0.741725 (0.071507) with: {'C': 1, 'gamma': 10, 'kernel': 'rbf'}\n",
      "0.715063 (0.075293) with: {'C': 1, 'gamma': 100, 'kernel': 'rbf'}\n",
      "0.702406 (0.074267) with: {'C': 1, 'gamma': 1000, 'kernel': 'rbf'}\n",
      "0.796577 (0.077231) with: {'C': 5, 'gamma': 1, 'kernel': 'rbf'}\n",
      "0.738869 (0.068046) with: {'C': 5, 'gamma': 10, 'kernel': 'rbf'}\n",
      "0.719268 (0.071871) with: {'C': 5, 'gamma': 100, 'kernel': 'rbf'}\n",
      "0.700998 (0.079177) with: {'C': 5, 'gamma': 1000, 'kernel': 'rbf'}\n",
      "0.799394 (0.070773) with: {'C': 10, 'gamma': 1, 'kernel': 'rbf'}\n",
      "0.734644 (0.066402) with: {'C': 10, 'gamma': 10, 'kernel': 'rbf'}\n",
      "0.722066 (0.071010) with: {'C': 10, 'gamma': 100, 'kernel': 'rbf'}\n",
      "0.700998 (0.079177) with: {'C': 10, 'gamma': 1000, 'kernel': 'rbf'}\n",
      "0.797985 (0.078225) with: {'C': 50, 'gamma': 1, 'kernel': 'rbf'}\n",
      "0.740317 (0.077826) with: {'C': 50, 'gamma': 10, 'kernel': 'rbf'}\n",
      "0.717879 (0.079373) with: {'C': 50, 'gamma': 100, 'kernel': 'rbf'}\n",
      "0.698220 (0.086940) with: {'C': 50, 'gamma': 1000, 'kernel': 'rbf'}\n",
      "0.796596 (0.077423) with: {'C': 100, 'gamma': 1, 'kernel': 'rbf'}\n",
      "0.730516 (0.070703) with: {'C': 100, 'gamma': 10, 'kernel': 'rbf'}\n",
      "0.712285 (0.080671) with: {'C': 100, 'gamma': 100, 'kernel': 'rbf'}\n",
      "0.696811 (0.086028) with: {'C': 100, 'gamma': 1000, 'kernel': 'rbf'}\n"
     ]
    }
   ],
   "source": [
    "for mean, stdev, param in zip(means, stds, params) :\n",
    "    print(\"%f (%f) with: %r\" % (mean, stdev, param))"
   ]
  },
  {
   "cell_type": "code",
   "execution_count": 45,
   "metadata": {},
   "outputs": [
    {
     "name": "stdout",
     "output_type": "stream",
     "text": [
      "Best: 0.841412 using {'C': 0.6, 'gamma': 0.5, 'kernel': 'rbf'}\n"
     ]
    }
   ],
   "source": [
    "c_values = [x/10 for x in range(5,15)]\n",
    "gammas = [x/10 for x in range(5,15)]\n",
    "kernel_values=['rbf']\n",
    "\n",
    "from sklearn.model_selection import GridSearchCV\n",
    "\n",
    "param_grid=dict(C=c_values, kernel=kernel_values, gamma = gammas)\n",
    "model = SVC()\n",
    "kfold = KFold(n_splits=num_folds, random_state=seed)\n",
    "grid = GridSearchCV(estimator = model, param_grid=param_grid, scoring=scoring, cv=kfold)\n",
    "grid_result = grid.fit(X_train, y_train)\n",
    "\n",
    "print(\"Best: %f using %s\" %(grid_result.best_score_, grid_result.best_params_))"
   ]
  },
  {
   "cell_type": "code",
   "execution_count": 46,
   "metadata": {},
   "outputs": [
    {
     "name": "stdout",
     "output_type": "stream",
     "text": [
      "Best: 0.841412 using {'C': 0.6, 'gamma': 0.5, 'kernel': 'rbf'}\n",
      "0.840023 (0.052882) with: {'C': 0.5, 'gamma': 0.5, 'kernel': 'rbf'}\n",
      "0.835798 (0.053247) with: {'C': 0.5, 'gamma': 0.6, 'kernel': 'rbf'}\n",
      "0.828815 (0.054480) with: {'C': 0.5, 'gamma': 0.7, 'kernel': 'rbf'}\n",
      "0.827406 (0.054223) with: {'C': 0.5, 'gamma': 0.8, 'kernel': 'rbf'}\n",
      "0.823181 (0.055053) with: {'C': 0.5, 'gamma': 0.9, 'kernel': 'rbf'}\n",
      "0.823200 (0.054600) with: {'C': 0.5, 'gamma': 1.0, 'kernel': 'rbf'}\n",
      "0.821772 (0.053203) with: {'C': 0.5, 'gamma': 1.1, 'kernel': 'rbf'}\n",
      "0.821772 (0.053923) with: {'C': 0.5, 'gamma': 1.2, 'kernel': 'rbf'}\n",
      "0.816197 (0.059402) with: {'C': 0.5, 'gamma': 1.3, 'kernel': 'rbf'}\n",
      "0.811991 (0.059576) with: {'C': 0.5, 'gamma': 1.4, 'kernel': 'rbf'}\n",
      "0.841412 (0.052871) with: {'C': 0.6, 'gamma': 0.5, 'kernel': 'rbf'}\n",
      "0.835818 (0.053550) with: {'C': 0.6, 'gamma': 0.6, 'kernel': 'rbf'}\n",
      "0.830223 (0.054335) with: {'C': 0.6, 'gamma': 0.7, 'kernel': 'rbf'}\n",
      "0.824589 (0.055414) with: {'C': 0.6, 'gamma': 0.8, 'kernel': 'rbf'}\n",
      "0.823200 (0.054600) with: {'C': 0.6, 'gamma': 0.9, 'kernel': 'rbf'}\n",
      "0.824570 (0.052210) with: {'C': 0.6, 'gamma': 1.0, 'kernel': 'rbf'}\n",
      "0.818995 (0.056759) with: {'C': 0.6, 'gamma': 1.1, 'kernel': 'rbf'}\n",
      "0.818995 (0.056759) with: {'C': 0.6, 'gamma': 1.2, 'kernel': 'rbf'}\n",
      "0.814789 (0.060199) with: {'C': 0.6, 'gamma': 1.3, 'kernel': 'rbf'}\n",
      "0.811991 (0.063446) with: {'C': 0.6, 'gamma': 1.4, 'kernel': 'rbf'}\n",
      "0.840023 (0.054362) with: {'C': 0.7, 'gamma': 0.5, 'kernel': 'rbf'}\n",
      "0.833020 (0.054022) with: {'C': 0.7, 'gamma': 0.6, 'kernel': 'rbf'}\n",
      "0.830203 (0.053315) with: {'C': 0.7, 'gamma': 0.7, 'kernel': 'rbf'}\n",
      "0.825998 (0.055379) with: {'C': 0.7, 'gamma': 0.8, 'kernel': 'rbf'}\n",
      "0.824589 (0.052869) with: {'C': 0.7, 'gamma': 0.9, 'kernel': 'rbf'}\n",
      "0.821772 (0.053923) with: {'C': 0.7, 'gamma': 1.0, 'kernel': 'rbf'}\n",
      "0.820403 (0.057212) with: {'C': 0.7, 'gamma': 1.1, 'kernel': 'rbf'}\n",
      "0.817586 (0.057315) with: {'C': 0.7, 'gamma': 1.2, 'kernel': 'rbf'}\n",
      "0.811991 (0.063446) with: {'C': 0.7, 'gamma': 1.3, 'kernel': 'rbf'}\n",
      "0.809174 (0.065629) with: {'C': 0.7, 'gamma': 1.4, 'kernel': 'rbf'}\n",
      "0.837246 (0.055334) with: {'C': 0.8, 'gamma': 0.5, 'kernel': 'rbf'}\n",
      "0.833020 (0.054022) with: {'C': 0.8, 'gamma': 0.6, 'kernel': 'rbf'}\n",
      "0.825998 (0.055379) with: {'C': 0.8, 'gamma': 0.7, 'kernel': 'rbf'}\n",
      "0.827387 (0.051718) with: {'C': 0.8, 'gamma': 0.8, 'kernel': 'rbf'}\n",
      "0.824570 (0.053307) with: {'C': 0.8, 'gamma': 0.9, 'kernel': 'rbf'}\n",
      "0.818995 (0.057798) with: {'C': 0.8, 'gamma': 1.0, 'kernel': 'rbf'}\n",
      "0.816178 (0.058173) with: {'C': 0.8, 'gamma': 1.1, 'kernel': 'rbf'}\n",
      "0.811972 (0.062621) with: {'C': 0.8, 'gamma': 1.2, 'kernel': 'rbf'}\n",
      "0.809174 (0.065629) with: {'C': 0.8, 'gamma': 1.3, 'kernel': 'rbf'}\n",
      "0.806358 (0.068209) with: {'C': 0.8, 'gamma': 1.4, 'kernel': 'rbf'}\n",
      "0.835837 (0.054574) with: {'C': 0.9, 'gamma': 0.5, 'kernel': 'rbf'}\n",
      "0.831631 (0.054882) with: {'C': 0.9, 'gamma': 0.6, 'kernel': 'rbf'}\n",
      "0.830203 (0.052219) with: {'C': 0.9, 'gamma': 0.7, 'kernel': 'rbf'}\n",
      "0.827387 (0.050128) with: {'C': 0.9, 'gamma': 0.8, 'kernel': 'rbf'}\n",
      "0.824589 (0.054329) with: {'C': 0.9, 'gamma': 0.9, 'kernel': 'rbf'}\n",
      "0.818995 (0.057453) with: {'C': 0.9, 'gamma': 1.0, 'kernel': 'rbf'}\n",
      "0.817586 (0.058344) with: {'C': 0.9, 'gamma': 1.1, 'kernel': 'rbf'}\n",
      "0.811991 (0.064990) with: {'C': 0.9, 'gamma': 1.2, 'kernel': 'rbf'}\n",
      "0.806358 (0.068209) with: {'C': 0.9, 'gamma': 1.3, 'kernel': 'rbf'}\n",
      "0.806358 (0.068209) with: {'C': 0.9, 'gamma': 1.4, 'kernel': 'rbf'}\n",
      "0.834448 (0.055852) with: {'C': 1.0, 'gamma': 0.5, 'kernel': 'rbf'}\n",
      "0.830203 (0.054450) with: {'C': 1.0, 'gamma': 0.6, 'kernel': 'rbf'}\n",
      "0.830203 (0.053315) with: {'C': 1.0, 'gamma': 0.7, 'kernel': 'rbf'}\n",
      "0.827406 (0.053855) with: {'C': 1.0, 'gamma': 0.8, 'kernel': 'rbf'}\n",
      "0.821792 (0.055968) with: {'C': 1.0, 'gamma': 0.9, 'kernel': 'rbf'}\n",
      "0.818975 (0.057539) with: {'C': 1.0, 'gamma': 1.0, 'kernel': 'rbf'}\n",
      "0.813380 (0.062874) with: {'C': 1.0, 'gamma': 1.1, 'kernel': 'rbf'}\n",
      "0.810583 (0.065930) with: {'C': 1.0, 'gamma': 1.2, 'kernel': 'rbf'}\n",
      "0.807766 (0.068557) with: {'C': 1.0, 'gamma': 1.3, 'kernel': 'rbf'}\n",
      "0.804969 (0.070300) with: {'C': 1.0, 'gamma': 1.4, 'kernel': 'rbf'}\n",
      "0.834448 (0.055852) with: {'C': 1.1, 'gamma': 0.5, 'kernel': 'rbf'}\n",
      "0.828815 (0.056271) with: {'C': 1.1, 'gamma': 0.6, 'kernel': 'rbf'}\n",
      "0.825998 (0.050900) with: {'C': 1.1, 'gamma': 0.7, 'kernel': 'rbf'}\n",
      "0.825998 (0.053928) with: {'C': 1.1, 'gamma': 0.8, 'kernel': 'rbf'}\n",
      "0.821792 (0.055968) with: {'C': 1.1, 'gamma': 0.9, 'kernel': 'rbf'}\n",
      "0.818975 (0.057539) with: {'C': 1.1, 'gamma': 1.0, 'kernel': 'rbf'}\n",
      "0.813380 (0.062874) with: {'C': 1.1, 'gamma': 1.1, 'kernel': 'rbf'}\n",
      "0.806358 (0.070215) with: {'C': 1.1, 'gamma': 1.2, 'kernel': 'rbf'}\n",
      "0.806358 (0.070215) with: {'C': 1.1, 'gamma': 1.3, 'kernel': 'rbf'}\n",
      "0.802152 (0.069192) with: {'C': 1.1, 'gamma': 1.4, 'kernel': 'rbf'}\n",
      "0.835837 (0.053872) with: {'C': 1.2, 'gamma': 0.5, 'kernel': 'rbf'}\n",
      "0.831612 (0.053873) with: {'C': 1.2, 'gamma': 0.6, 'kernel': 'rbf'}\n",
      "0.827406 (0.053855) with: {'C': 1.2, 'gamma': 0.7, 'kernel': 'rbf'}\n",
      "0.824609 (0.055650) with: {'C': 1.2, 'gamma': 0.8, 'kernel': 'rbf'}\n",
      "0.820383 (0.056602) with: {'C': 1.2, 'gamma': 0.9, 'kernel': 'rbf'}\n",
      "0.813361 (0.063889) with: {'C': 1.2, 'gamma': 1.0, 'kernel': 'rbf'}\n",
      "0.809155 (0.068654) with: {'C': 1.2, 'gamma': 1.1, 'kernel': 'rbf'}\n",
      "0.806358 (0.070215) with: {'C': 1.2, 'gamma': 1.2, 'kernel': 'rbf'}\n",
      "0.800763 (0.071443) with: {'C': 1.2, 'gamma': 1.3, 'kernel': 'rbf'}\n",
      "0.799374 (0.072009) with: {'C': 1.2, 'gamma': 1.4, 'kernel': 'rbf'}\n",
      "0.831631 (0.054882) with: {'C': 1.3, 'gamma': 0.5, 'kernel': 'rbf'}\n",
      "0.830223 (0.054699) with: {'C': 1.3, 'gamma': 0.6, 'kernel': 'rbf'}\n",
      "0.825998 (0.053558) with: {'C': 1.3, 'gamma': 0.7, 'kernel': 'rbf'}\n",
      "0.824609 (0.055650) with: {'C': 1.3, 'gamma': 0.8, 'kernel': 'rbf'}\n",
      "0.818975 (0.057539) with: {'C': 1.3, 'gamma': 0.9, 'kernel': 'rbf'}\n",
      "0.813361 (0.063889) with: {'C': 1.3, 'gamma': 1.0, 'kernel': 'rbf'}\n",
      "0.804969 (0.072248) with: {'C': 1.3, 'gamma': 1.1, 'kernel': 'rbf'}\n",
      "0.802171 (0.071885) with: {'C': 1.3, 'gamma': 1.2, 'kernel': 'rbf'}\n",
      "0.800763 (0.071443) with: {'C': 1.3, 'gamma': 1.3, 'kernel': 'rbf'}\n",
      "0.799374 (0.072009) with: {'C': 1.3, 'gamma': 1.4, 'kernel': 'rbf'}\n",
      "0.833020 (0.054022) with: {'C': 1.4, 'gamma': 0.5, 'kernel': 'rbf'}\n",
      "0.828815 (0.054114) with: {'C': 1.4, 'gamma': 0.6, 'kernel': 'rbf'}\n",
      "0.827406 (0.053855) with: {'C': 1.4, 'gamma': 0.7, 'kernel': 'rbf'}\n",
      "0.823200 (0.055649) with: {'C': 1.4, 'gamma': 0.8, 'kernel': 'rbf'}\n",
      "0.820383 (0.056602) with: {'C': 1.4, 'gamma': 0.9, 'kernel': 'rbf'}\n",
      "0.810563 (0.066898) with: {'C': 1.4, 'gamma': 1.0, 'kernel': 'rbf'}\n",
      "0.804969 (0.072248) with: {'C': 1.4, 'gamma': 1.1, 'kernel': 'rbf'}\n",
      "0.802171 (0.071885) with: {'C': 1.4, 'gamma': 1.2, 'kernel': 'rbf'}\n",
      "0.800763 (0.071443) with: {'C': 1.4, 'gamma': 1.3, 'kernel': 'rbf'}\n",
      "0.797966 (0.073159) with: {'C': 1.4, 'gamma': 1.4, 'kernel': 'rbf'}\n"
     ]
    }
   ],
   "source": [
    "param_grid=dict(C=c_values, kernel=kernel_values, gamma = gammas)\n",
    "model = SVC()\n",
    "kfold = KFold(n_splits=num_folds, random_state=seed)\n",
    "grid = GridSearchCV(estimator = model, param_grid=param_grid, scoring=scoring, cv=kfold)\n",
    "grid_result = grid.fit(X_train, y_train)\n",
    "\n",
    "print(\"Best: %f using %s\" %(grid_result.best_score_, grid_result.best_params_))\n",
    "\n",
    "means = grid_result.cv_results_['mean_test_score']\n",
    "stds = grid_result.cv_results_['std_test_score']\n",
    "params = grid_result.cv_results_['params']\n",
    "\n",
    "for mean, stdev, param in zip(means, stds, params) :\n",
    "    print(\"%f (%f) with: %r\" % (mean, stdev, param))"
   ]
  },
  {
   "cell_type": "code",
   "execution_count": 47,
   "metadata": {},
   "outputs": [
    {
     "name": "stdout",
     "output_type": "stream",
     "text": [
      "Best: 0.847046 using {'C': 1.1, 'gamma': 0.2, 'kernel': 'rbf'}\n"
     ]
    }
   ],
   "source": [
    "c_values = [x/10 for x in range(10,20)]\n",
    "gammas = [x/10 for x in range(1,10)]\n",
    "kernel_values=['rbf']\n",
    "\n",
    "from sklearn.model_selection import GridSearchCV\n",
    "\n",
    "param_grid=dict(C=c_values, kernel=kernel_values, gamma = gammas)\n",
    "model = SVC()\n",
    "kfold = KFold(n_splits=num_folds, random_state=seed)\n",
    "grid = GridSearchCV(estimator = model, param_grid=param_grid, scoring=scoring, cv=kfold)\n",
    "grid_result = grid.fit(X_train, y_train)\n",
    "\n",
    "print(\"Best: %f using %s\" %(grid_result.best_score_, grid_result.best_params_))"
   ]
  },
  {
   "cell_type": "code",
   "execution_count": 48,
   "metadata": {},
   "outputs": [
    {
     "name": "stdout",
     "output_type": "stream",
     "text": [
      "0.840023 (0.055734) with: {'C': 1.0, 'gamma': 0.1, 'kernel': 'rbf'}\n",
      "0.845638 (0.051667) with: {'C': 1.0, 'gamma': 0.2, 'kernel': 'rbf'}\n",
      "0.844229 (0.052236) with: {'C': 1.0, 'gamma': 0.3, 'kernel': 'rbf'}\n",
      "0.838654 (0.055693) with: {'C': 1.0, 'gamma': 0.4, 'kernel': 'rbf'}\n",
      "0.834448 (0.055852) with: {'C': 1.0, 'gamma': 0.5, 'kernel': 'rbf'}\n",
      "0.830203 (0.054450) with: {'C': 1.0, 'gamma': 0.6, 'kernel': 'rbf'}\n",
      "0.830203 (0.053315) with: {'C': 1.0, 'gamma': 0.7, 'kernel': 'rbf'}\n",
      "0.827406 (0.053855) with: {'C': 1.0, 'gamma': 0.8, 'kernel': 'rbf'}\n",
      "0.821792 (0.055968) with: {'C': 1.0, 'gamma': 0.9, 'kernel': 'rbf'}\n",
      "0.841432 (0.054948) with: {'C': 1.1, 'gamma': 0.1, 'kernel': 'rbf'}\n",
      "0.847046 (0.051824) with: {'C': 1.1, 'gamma': 0.2, 'kernel': 'rbf'}\n",
      "0.845638 (0.052429) with: {'C': 1.1, 'gamma': 0.3, 'kernel': 'rbf'}\n",
      "0.838654 (0.055693) with: {'C': 1.1, 'gamma': 0.4, 'kernel': 'rbf'}\n",
      "0.834448 (0.055852) with: {'C': 1.1, 'gamma': 0.5, 'kernel': 'rbf'}\n",
      "0.828815 (0.056271) with: {'C': 1.1, 'gamma': 0.6, 'kernel': 'rbf'}\n",
      "0.825998 (0.050900) with: {'C': 1.1, 'gamma': 0.7, 'kernel': 'rbf'}\n",
      "0.825998 (0.053928) with: {'C': 1.1, 'gamma': 0.8, 'kernel': 'rbf'}\n",
      "0.821792 (0.055968) with: {'C': 1.1, 'gamma': 0.9, 'kernel': 'rbf'}\n",
      "0.844249 (0.054701) with: {'C': 1.2, 'gamma': 0.1, 'kernel': 'rbf'}\n",
      "0.845638 (0.052429) with: {'C': 1.2, 'gamma': 0.2, 'kernel': 'rbf'}\n",
      "0.845618 (0.053603) with: {'C': 1.2, 'gamma': 0.3, 'kernel': 'rbf'}\n",
      "0.837265 (0.056666) with: {'C': 1.2, 'gamma': 0.4, 'kernel': 'rbf'}\n",
      "0.835837 (0.053872) with: {'C': 1.2, 'gamma': 0.5, 'kernel': 'rbf'}\n",
      "0.831612 (0.053873) with: {'C': 1.2, 'gamma': 0.6, 'kernel': 'rbf'}\n",
      "0.827406 (0.053855) with: {'C': 1.2, 'gamma': 0.7, 'kernel': 'rbf'}\n",
      "0.824609 (0.055650) with: {'C': 1.2, 'gamma': 0.8, 'kernel': 'rbf'}\n",
      "0.820383 (0.056602) with: {'C': 1.2, 'gamma': 0.9, 'kernel': 'rbf'}\n",
      "0.844249 (0.054701) with: {'C': 1.3, 'gamma': 0.1, 'kernel': 'rbf'}\n",
      "0.845638 (0.052429) with: {'C': 1.3, 'gamma': 0.2, 'kernel': 'rbf'}\n",
      "0.840043 (0.055020) with: {'C': 1.3, 'gamma': 0.3, 'kernel': 'rbf'}\n",
      "0.835857 (0.055925) with: {'C': 1.3, 'gamma': 0.4, 'kernel': 'rbf'}\n",
      "0.831631 (0.054882) with: {'C': 1.3, 'gamma': 0.5, 'kernel': 'rbf'}\n",
      "0.830223 (0.054699) with: {'C': 1.3, 'gamma': 0.6, 'kernel': 'rbf'}\n",
      "0.825998 (0.053558) with: {'C': 1.3, 'gamma': 0.7, 'kernel': 'rbf'}\n",
      "0.824609 (0.055650) with: {'C': 1.3, 'gamma': 0.8, 'kernel': 'rbf'}\n",
      "0.818975 (0.057539) with: {'C': 1.3, 'gamma': 0.9, 'kernel': 'rbf'}\n",
      "0.844249 (0.054701) with: {'C': 1.4, 'gamma': 0.1, 'kernel': 'rbf'}\n",
      "0.845638 (0.052429) with: {'C': 1.4, 'gamma': 0.2, 'kernel': 'rbf'}\n",
      "0.838654 (0.055693) with: {'C': 1.4, 'gamma': 0.3, 'kernel': 'rbf'}\n",
      "0.835857 (0.055925) with: {'C': 1.4, 'gamma': 0.4, 'kernel': 'rbf'}\n",
      "0.833020 (0.054022) with: {'C': 1.4, 'gamma': 0.5, 'kernel': 'rbf'}\n",
      "0.828815 (0.054114) with: {'C': 1.4, 'gamma': 0.6, 'kernel': 'rbf'}\n",
      "0.827406 (0.053855) with: {'C': 1.4, 'gamma': 0.7, 'kernel': 'rbf'}\n",
      "0.823200 (0.055649) with: {'C': 1.4, 'gamma': 0.8, 'kernel': 'rbf'}\n",
      "0.820383 (0.056602) with: {'C': 1.4, 'gamma': 0.9, 'kernel': 'rbf'}\n",
      "0.844249 (0.054701) with: {'C': 1.5, 'gamma': 0.1, 'kernel': 'rbf'}\n",
      "0.845638 (0.052429) with: {'C': 1.5, 'gamma': 0.2, 'kernel': 'rbf'}\n",
      "0.838654 (0.055693) with: {'C': 1.5, 'gamma': 0.3, 'kernel': 'rbf'}\n",
      "0.835857 (0.055925) with: {'C': 1.5, 'gamma': 0.4, 'kernel': 'rbf'}\n",
      "0.833020 (0.054022) with: {'C': 1.5, 'gamma': 0.5, 'kernel': 'rbf'}\n",
      "0.827406 (0.053855) with: {'C': 1.5, 'gamma': 0.6, 'kernel': 'rbf'}\n",
      "0.824609 (0.055650) with: {'C': 1.5, 'gamma': 0.7, 'kernel': 'rbf'}\n",
      "0.821792 (0.055968) with: {'C': 1.5, 'gamma': 0.8, 'kernel': 'rbf'}\n",
      "0.817586 (0.059652) with: {'C': 1.5, 'gamma': 0.9, 'kernel': 'rbf'}\n",
      "0.844249 (0.054701) with: {'C': 1.6, 'gamma': 0.1, 'kernel': 'rbf'}\n",
      "0.845638 (0.052429) with: {'C': 1.6, 'gamma': 0.2, 'kernel': 'rbf'}\n",
      "0.837265 (0.056666) with: {'C': 1.6, 'gamma': 0.3, 'kernel': 'rbf'}\n",
      "0.835837 (0.053872) with: {'C': 1.6, 'gamma': 0.4, 'kernel': 'rbf'}\n",
      "0.831631 (0.054882) with: {'C': 1.6, 'gamma': 0.5, 'kernel': 'rbf'}\n",
      "0.825998 (0.053558) with: {'C': 1.6, 'gamma': 0.6, 'kernel': 'rbf'}\n",
      "0.823200 (0.055649) with: {'C': 1.6, 'gamma': 0.7, 'kernel': 'rbf'}\n",
      "0.821792 (0.055968) with: {'C': 1.6, 'gamma': 0.8, 'kernel': 'rbf'}\n",
      "0.813380 (0.064081) with: {'C': 1.6, 'gamma': 0.9, 'kernel': 'rbf'}\n",
      "0.845638 (0.052050) with: {'C': 1.7, 'gamma': 0.1, 'kernel': 'rbf'}\n",
      "0.845638 (0.052429) with: {'C': 1.7, 'gamma': 0.2, 'kernel': 'rbf'}\n",
      "0.837265 (0.056666) with: {'C': 1.7, 'gamma': 0.3, 'kernel': 'rbf'}\n",
      "0.833040 (0.055387) with: {'C': 1.7, 'gamma': 0.4, 'kernel': 'rbf'}\n",
      "0.830223 (0.054335) with: {'C': 1.7, 'gamma': 0.5, 'kernel': 'rbf'}\n",
      "0.827406 (0.053855) with: {'C': 1.7, 'gamma': 0.6, 'kernel': 'rbf'}\n",
      "0.823200 (0.055649) with: {'C': 1.7, 'gamma': 0.7, 'kernel': 'rbf'}\n",
      "0.821792 (0.055968) with: {'C': 1.7, 'gamma': 0.8, 'kernel': 'rbf'}\n",
      "0.813380 (0.067105) with: {'C': 1.7, 'gamma': 0.9, 'kernel': 'rbf'}\n",
      "0.845638 (0.052050) with: {'C': 1.8, 'gamma': 0.1, 'kernel': 'rbf'}\n",
      "0.845638 (0.052429) with: {'C': 1.8, 'gamma': 0.2, 'kernel': 'rbf'}\n",
      "0.837265 (0.056666) with: {'C': 1.8, 'gamma': 0.3, 'kernel': 'rbf'}\n",
      "0.833040 (0.055387) with: {'C': 1.8, 'gamma': 0.4, 'kernel': 'rbf'}\n",
      "0.830223 (0.054335) with: {'C': 1.8, 'gamma': 0.5, 'kernel': 'rbf'}\n",
      "0.824589 (0.053594) with: {'C': 1.8, 'gamma': 0.6, 'kernel': 'rbf'}\n",
      "0.823200 (0.055649) with: {'C': 1.8, 'gamma': 0.7, 'kernel': 'rbf'}\n",
      "0.820403 (0.060544) with: {'C': 1.8, 'gamma': 0.8, 'kernel': 'rbf'}\n",
      "0.813380 (0.067105) with: {'C': 1.8, 'gamma': 0.9, 'kernel': 'rbf'}\n",
      "0.845638 (0.052050) with: {'C': 1.9, 'gamma': 0.1, 'kernel': 'rbf'}\n",
      "0.845638 (0.052429) with: {'C': 1.9, 'gamma': 0.2, 'kernel': 'rbf'}\n",
      "0.835857 (0.055925) with: {'C': 1.9, 'gamma': 0.3, 'kernel': 'rbf'}\n",
      "0.833040 (0.055387) with: {'C': 1.9, 'gamma': 0.4, 'kernel': 'rbf'}\n",
      "0.828815 (0.054114) with: {'C': 1.9, 'gamma': 0.5, 'kernel': 'rbf'}\n",
      "0.823200 (0.055649) with: {'C': 1.9, 'gamma': 0.6, 'kernel': 'rbf'}\n",
      "0.823200 (0.057749) with: {'C': 1.9, 'gamma': 0.7, 'kernel': 'rbf'}\n",
      "0.820403 (0.060544) with: {'C': 1.9, 'gamma': 0.8, 'kernel': 'rbf'}\n",
      "0.810583 (0.066778) with: {'C': 1.9, 'gamma': 0.9, 'kernel': 'rbf'}\n"
     ]
    }
   ],
   "source": [
    "means = grid_result.cv_results_['mean_test_score']\n",
    "stds = grid_result.cv_results_['std_test_score']\n",
    "params = grid_result.cv_results_['params']\n",
    "\n",
    "for mean, stdev, param in zip(means, stds, params) :\n",
    "    print(\"%f (%f) with: %r\" % (mean, stdev, param))"
   ]
  },
  {
   "cell_type": "code",
   "execution_count": 49,
   "metadata": {},
   "outputs": [
    {
     "data": {
      "text/plain": [
       "SVC(C=1.1, gamma=0.2)"
      ]
     },
     "execution_count": 49,
     "metadata": {},
     "output_type": "execute_result"
    }
   ],
   "source": [
    "svm_clf = SVC(C=1.1, kernel='rbf', gamma=0.2)\n",
    "svm_clf.fit(X_train,y_train)"
   ]
  },
  {
   "cell_type": "code",
   "execution_count": 50,
   "metadata": {},
   "outputs": [],
   "source": [
    "y_pred = svm_clf.predict(X_val)"
   ]
  },
  {
   "cell_type": "code",
   "execution_count": 51,
   "metadata": {},
   "outputs": [],
   "source": [
    "from sklearn.metrics import mean_squared_error"
   ]
  },
  {
   "cell_type": "code",
   "execution_count": 52,
   "metadata": {},
   "outputs": [],
   "source": [
    "svc_mse = mean_squared_error(y_val, y_pred)\n",
    "svc_rmse = np.sqrt(svc_mse)"
   ]
  },
  {
   "cell_type": "code",
   "execution_count": 53,
   "metadata": {},
   "outputs": [
    {
     "data": {
      "text/plain": [
       "0.46677306581685607"
      ]
     },
     "execution_count": 53,
     "metadata": {},
     "output_type": "execute_result"
    }
   ],
   "source": [
    "svc_rmse"
   ]
  },
  {
   "cell_type": "code",
   "execution_count": 54,
   "metadata": {},
   "outputs": [
    {
     "name": "stdout",
     "output_type": "stream",
     "text": [
      "Best: 0.814789 using {'n_neighbors': 21}\n"
     ]
    }
   ],
   "source": [
    "neighbors = [1,3,5,7,9,15,21]\n",
    "param_grid = dict(n_neighbors=neighbors)\n",
    "model = KNeighborsClassifier()\n",
    "grid = GridSearchCV(estimator=model, param_grid=param_grid, scoring=scoring, cv=kfold)\n",
    "grid_result = grid.fit(X_train,y_train)\n",
    "\n",
    "print(\"Best: %f using %s\" %(grid_result.best_score_, grid_result.best_params_))"
   ]
  },
  {
   "cell_type": "code",
   "execution_count": 55,
   "metadata": {},
   "outputs": [],
   "source": [
    "knn_clf = KNeighborsClassifier(n_neighbors= 21)\n",
    "knn_clf.fit(X_train, y_train)\n",
    "\n",
    "y_pred = knn_clf.predict(X_val)"
   ]
  },
  {
   "cell_type": "code",
   "execution_count": 56,
   "metadata": {},
   "outputs": [],
   "source": [
    "knn_mse = mean_squared_error(y_val, y_pred)\n",
    "knn_rmse = np.sqrt(knn_mse)"
   ]
  },
  {
   "cell_type": "code",
   "execution_count": 57,
   "metadata": {},
   "outputs": [
    {
     "data": {
      "text/plain": [
       "0.46677306581685607"
      ]
     },
     "execution_count": 57,
     "metadata": {},
     "output_type": "execute_result"
    }
   ],
   "source": [
    "knn_rmse"
   ]
  },
  {
   "cell_type": "code",
   "execution_count": null,
   "metadata": {},
   "outputs": [],
   "source": []
  }
 ],
 "metadata": {
  "kernelspec": {
   "display_name": "Python 3",
   "language": "python",
   "name": "python3"
  },
  "language_info": {
   "codemirror_mode": {
    "name": "ipython",
    "version": 3
   },
   "file_extension": ".py",
   "mimetype": "text/x-python",
   "name": "python",
   "nbconvert_exporter": "python",
   "pygments_lexer": "ipython3",
   "version": "3.8.1"
  }
 },
 "nbformat": 4,
 "nbformat_minor": 4
}
