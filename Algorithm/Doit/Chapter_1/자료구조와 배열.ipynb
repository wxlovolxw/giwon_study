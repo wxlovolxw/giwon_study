{
 "cells": [
  {
   "cell_type": "markdown",
   "metadata": {},
   "source": [
    "# 자료구조와 배열"
   ]
  },
  {
   "cell_type": "code",
   "execution_count": 1,
   "metadata": {},
   "outputs": [
    {
     "name": "stdout",
     "output_type": "stream",
     "text": [
      "학생 그룹 점수의 합계와 평균을 구합니다.\n",
      "1번 학생의 점수를 입력하세요.: 32\n",
      "2번 학생의 점수를 입력하세요.: 68\n",
      "3번 학생의 점수를 입력하세요.: 72\n",
      "4번 학생의 점수를 입력하세요.: 54\n",
      "5번 학생의 점수를 입력하세요.: 92\n",
      "합계는 318점입니다.\n",
      "평균은 63.6점입니다.\n"
     ]
    }
   ],
   "source": [
    "# 실습 2-1: 학생 5명의 시험 점수를 입력받아 합계와 평균 출력하기\n",
    "\n",
    "print('학생 그룹 점수의 합계와 평균을 구합니다.')\n",
    "\n",
    "score1 = int(input('1번 학생의 점수를 입력하세요.: '))\n",
    "score2 = int(input('2번 학생의 점수를 입력하세요.: '))\n",
    "score3 = int(input('3번 학생의 점수를 입력하세요.: '))\n",
    "score4 = int(input('4번 학생의 점수를 입력하세요.: '))\n",
    "score5 = int(input('5번 학생의 점수를 입력하세요.: '))\n",
    "\n",
    "total = 0\n",
    "total += score1\n",
    "total += score2\n",
    "total += score3\n",
    "total += score4\n",
    "total += score5\n",
    "\n",
    "print(f'합계는 {total}점입니다.')\n",
    "print(f'평균은 {total/5}점입니다.')"
   ]
  },
  {
   "cell_type": "markdown",
   "metadata": {},
   "source": [
    "위의 코드는 다음과 같은 수정 사항이 있을 수 있다.\n",
    "* 학생의 수가 변경되는 경우\n",
    "* 특정 학생의 시험 점수를 확인하거나 변경하는 경우\n",
    "* 최저점과 최고점을 구하거나 정렬이 필요한 경우  "
   ]
  },
  {
   "cell_type": "markdown",
   "metadata": {},
   "source": [
    "## 배열(array)  \n",
    "하나의 값을 저장하는 변수가 아닌 묶음 단위로 값을 저장하는 자료구조.  \n",
    "배열에는 객체가 저장되며, 저장된 객체 하나하나를 원소(element)라고 한다.  \n",
    "각 원소는 0,1,2,...순으로 인덱스(index)를 부여 받는다.  \n",
    "  \n",
    "배열은 원소의 개수를 자유롭게 설정 할 수 있다.  \n",
    "자료형(data type)은 int, float 어떤 것도 설정 할 수 있으며, 서로 다른 형태의 자료형을 같이 저장할 수 있다."
   ]
  },
  {
   "cell_type": "markdown",
   "metadata": {},
   "source": [
    "### 리스트(List)  \n",
    "리스트는 원소를 변경할 수 있는 뮤터블(mutable) 리스트형 객체이다.  \n",
    "[]안에 ,를 통해 원소들을 구분하여 표기하여 생성할 수 있다."
   ]
  },
  {
   "cell_type": "code",
   "execution_count": 1,
   "metadata": {},
   "outputs": [],
   "source": [
    "list_01 = []\n",
    "list_02 = [1, 2, 3]\n",
    "list_03 = ['A', 'B', 'C']"
   ]
  },
  {
   "cell_type": "code",
   "execution_count": 1,
   "metadata": {},
   "outputs": [],
   "source": [
    "list_04 = list()\n",
    "list_05 = list('ABC')\n",
    "list_06 = list([1,2,3])\n",
    "list_07 = list((1,2,3))\n",
    "list_08 = list({1,2,3})"
   ]
  },
  {
   "cell_type": "code",
   "execution_count": 5,
   "metadata": {},
   "outputs": [],
   "source": [
    "list_09 = list(range(7))\n",
    "list_10 = list(range(3,8))\n",
    "list_11 = list(range(3,13,2))"
   ]
  },
  {
   "cell_type": "markdown",
   "metadata": {},
   "source": [
    "* 이터러블을 사용하여 다양한 길이의 리스트를 생성할 수 있다."
   ]
  },
  {
   "cell_type": "code",
   "execution_count": 6,
   "metadata": {},
   "outputs": [],
   "source": [
    "list_12 = [None]*5"
   ]
  },
  {
   "cell_type": "markdown",
   "metadata": {},
   "source": [
    "* None을 이용하여, 자료값은 갖지 않지만 길이는 있는 비어있는 리스트를 생성할 수 있다."
   ]
  },
  {
   "cell_type": "markdown",
   "metadata": {},
   "source": [
    "## 튜플  \n",
    "원소에 순서를 매겨 결합한 것으로, 순서를 바꿀 수 없는 이뮤터블 자료형이다.  \n",
    "리스트와 마찬가지로 ,를 통해 원소들을 구분하고 ()를 통해 생성할 수 있다.  \n",
    "리스트와는 다르게 결합연산자를 생략해도 생성할 수 있다."
   ]
  },
  {
   "cell_type": "code",
   "execution_count": 7,
   "metadata": {},
   "outputs": [],
   "source": [
    "tuple1 = ()\n",
    "tuple2 = 1,\n",
    "tuple3 = (1,)"
   ]
  },
  {
   "cell_type": "code",
   "execution_count": 8,
   "metadata": {},
   "outputs": [],
   "source": [
    "tuple4 = 1,2,3\n",
    "tuple5 = 1,2,3,\n",
    "tuple6 = (1,2,3)\n",
    "tuple7 = (1,2,3,)\n",
    "tuple8 = 'A','B','C',"
   ]
  },
  {
   "cell_type": "markdown",
   "metadata": {},
   "source": [
    "* 튜플의 경우 원소가 하나일 때, 반드시 ,를 입력해야 한다. \n",
    "* ,를 입력하지 않으면 단순 변수로서 여겨지게 된다."
   ]
  },
  {
   "cell_type": "code",
   "execution_count": 10,
   "metadata": {},
   "outputs": [],
   "source": [
    "v01 = 1\n",
    "v02 = (1)"
   ]
  },
  {
   "cell_type": "code",
   "execution_count": 11,
   "metadata": {},
   "outputs": [],
   "source": [
    "tuple09 = tuple()\n",
    "tuple10 = tuple('ABC')\n",
    "tuple11 = tuple([1,2,3])\n",
    "tuple12 = tuple({1,2,3})"
   ]
  },
  {
   "cell_type": "code",
   "execution_count": 13,
   "metadata": {},
   "outputs": [],
   "source": [
    "tuple13 = tuple(range(7))\n",
    "tuple14 = tuple(range(3,8))\n",
    "tuple15 = tuple(range(3,13,2))"
   ]
  },
  {
   "cell_type": "markdown",
   "metadata": {},
   "source": [
    "* 우변에 리스트(튜플)를 놓고 좌변에 여러 변수를 놓으면, 각각의 변수들에 리스트(튜플)의 요소들이 하나씩 대입된다."
   ]
  },
  {
   "cell_type": "code",
   "execution_count": 14,
   "metadata": {},
   "outputs": [],
   "source": [
    "x = [1,2,3]\n",
    "a,b,c = x"
   ]
  },
  {
   "cell_type": "code",
   "execution_count": 15,
   "metadata": {},
   "outputs": [
    {
     "data": {
      "text/plain": [
       "(1, 2, 3)"
      ]
     },
     "execution_count": 15,
     "metadata": {},
     "output_type": "execute_result"
    }
   ],
   "source": [
    "a,b,c"
   ]
  },
  {
   "cell_type": "markdown",
   "metadata": {},
   "source": [
    "#### 인덱스로 접근하기  \n",
    "리스트나 튜플의 원소에 접근할 때에는 인덱스(index)를 사용하면 된다."
   ]
  },
  {
   "cell_type": "code",
   "execution_count": 16,
   "metadata": {},
   "outputs": [],
   "source": [
    "x = [11, 22, 33, 44, 55, 66, 77]"
   ]
  },
  {
   "cell_type": "code",
   "execution_count": 17,
   "metadata": {},
   "outputs": [
    {
     "data": {
      "text/plain": [
       "33"
      ]
     },
     "execution_count": 17,
     "metadata": {},
     "output_type": "execute_result"
    }
   ],
   "source": [
    "x[2]"
   ]
  },
  {
   "cell_type": "code",
   "execution_count": 18,
   "metadata": {},
   "outputs": [
    {
     "data": {
      "text/plain": [
       "55"
      ]
     },
     "execution_count": 18,
     "metadata": {},
     "output_type": "execute_result"
    }
   ],
   "source": [
    "x[-3]"
   ]
  },
  {
   "cell_type": "code",
   "execution_count": 19,
   "metadata": {},
   "outputs": [
    {
     "data": {
      "text/plain": [
       "[11, 22, 33, 3.14, 55, 66, 77]"
      ]
     },
     "execution_count": 19,
     "metadata": {},
     "output_type": "execute_result"
    }
   ],
   "source": [
    "x[-4] = 3.14\n",
    "x"
   ]
  },
  {
   "cell_type": "markdown",
   "metadata": {},
   "source": [
    "* 특정 값을 대입할 때, 인덱스 식은 좌변에 대입식은 우변에 놓는다.\n",
    "* 만약 자료형이 다르다면, 해당 값만 다른 자료형을 갖게 된다.\n",
    "* 이때 다른 값을 갖는 다는 의미는 값 자체가 복사되는 것이 아니라, 참조하는 객체의 식별번호가 변경되는 것이다."
   ]
  },
  {
   "cell_type": "markdown",
   "metadata": {},
   "source": [
    "#### 슬라이스식으로 접근하기  \n",
    "리스트 혹은 튜플의 일부를 연속해서 또는 일정 간격으로 꺼내 새로운 리스트 혹은 튜플을 생성하는 것을 슬라이스(slice)라고 부른다.  \n",
    "* s[i:j] -> s[i]부터 s[j-1]까지 나열한다.\n",
    "* s[i:j:k] -> s[i]부터 s[j-1]까지 k씩 건너뛰며 나열한다."
   ]
  },
  {
   "cell_type": "code",
   "execution_count": 21,
   "metadata": {},
   "outputs": [],
   "source": [
    "s = [11,22,33,44,55,66,77]"
   ]
  },
  {
   "cell_type": "code",
   "execution_count": 22,
   "metadata": {},
   "outputs": [
    {
     "data": {
      "text/plain": [
       "[11, 22, 33, 44, 55, 66]"
      ]
     },
     "execution_count": 22,
     "metadata": {},
     "output_type": "execute_result"
    }
   ],
   "source": [
    "s[0:6]"
   ]
  },
  {
   "cell_type": "code",
   "execution_count": 23,
   "metadata": {},
   "outputs": [
    {
     "data": {
      "text/plain": [
       "[11, 22, 33, 44, 55, 66, 77]"
      ]
     },
     "execution_count": 23,
     "metadata": {},
     "output_type": "execute_result"
    }
   ],
   "source": [
    "s[0:7]"
   ]
  },
  {
   "cell_type": "code",
   "execution_count": 25,
   "metadata": {},
   "outputs": [
    {
     "data": {
      "text/plain": [
       "[44, 55]"
      ]
     },
     "execution_count": 25,
     "metadata": {},
     "output_type": "execute_result"
    }
   ],
   "source": [
    "s[-4:-2]"
   ]
  },
  {
   "cell_type": "markdown",
   "metadata": {},
   "source": [
    "* s[:] -> 리스트의 모든 원소를 출력  \n",
    "* s[:n] -> 리스트의 원소중 맨 앞부터 n개의 원소를 출력  \n",
    "* s[-n:] -> 리스트의 맨 뒤의 원소부터 n개를 출력  \n",
    "* s[::k] -> 리스트의 모든 원소를 처음부터 k개씩 건너 뛰며 출력  \n",
    "* s[::-1] -> 리스트의 모든 원소를 뒤에서 부터 출력"
   ]
  },
  {
   "cell_type": "code",
   "execution_count": 2,
   "metadata": {},
   "outputs": [],
   "source": [
    "x = 6\n",
    "y = 2\n",
    "x,y = y+2, x+3"
   ]
  },
  {
   "cell_type": "code",
   "execution_count": 3,
   "metadata": {},
   "outputs": [
    {
     "data": {
      "text/plain": [
       "4"
      ]
     },
     "execution_count": 3,
     "metadata": {},
     "output_type": "execute_result"
    }
   ],
   "source": [
    "x"
   ]
  },
  {
   "cell_type": "code",
   "execution_count": 4,
   "metadata": {},
   "outputs": [
    {
     "data": {
      "text/plain": [
       "9"
      ]
     },
     "execution_count": 4,
     "metadata": {},
     "output_type": "execute_result"
    }
   ],
   "source": [
    "y"
   ]
  },
  {
   "cell_type": "markdown",
   "metadata": {},
   "source": [
    "* x와 y의 값이 동시에 대입이 되기 때문에, x값이 변하고 그 변한 x값이 대입되는 것이 아니라 대입 전에 정의된 x와 y의 값으로 대입이 된다."
   ]
  },
  {
   "cell_type": "markdown",
   "metadata": {},
   "source": [
    "- 뮤터블 자료형 : 리스트, 딕셔너리, 집합 등 값을 변경할 수 있다.  \n",
    "- 이뮤터블 자료형 : 수, 문자열, 튜플 등 값을 변경할 수 없다."
   ]
  },
  {
   "cell_type": "markdown",
   "metadata": {},
   "source": [
    "##### 파이썬에서 값을 대입하는 방식  \n",
    "- 좌변에 변수의 이름이 처음 나온 경우, 해당 변수에 맞는 자료형으로 자동 선언해준다.  \n",
    "- 다른 언어에서는 자료형을 통해 변수를 선언하는 것 과는 다르다.  \n",
    "- 대입식은 값 자체가 아니라 참조하는 객체의 식별번호를 대입한다.  \n",
    "- 여러 변수에 여러 값을 한번에 대입 할 수 있다.  \n",
    "* 대입기호 '='은 연산에서 사용하는 '+', '*' 등과 다른 방식으로 사용된다."
   ]
  },
  {
   "cell_type": "code",
   "execution_count": 1,
   "metadata": {},
   "outputs": [],
   "source": [
    "x = 0"
   ]
  },
  {
   "cell_type": "code",
   "execution_count": 2,
   "metadata": {},
   "outputs": [
    {
     "data": {
      "text/plain": [
       "int"
      ]
     },
     "execution_count": 2,
     "metadata": {},
     "output_type": "execute_result"
    }
   ],
   "source": [
    "type(x+17)"
   ]
  },
  {
   "cell_type": "code",
   "execution_count": 3,
   "metadata": {},
   "outputs": [
    {
     "ename": "TypeError",
     "evalue": "type() takes 1 or 3 arguments",
     "output_type": "error",
     "traceback": [
      "\u001b[1;31m---------------------------------------------------------------------------\u001b[0m",
      "\u001b[1;31mTypeError\u001b[0m                                 Traceback (most recent call last)",
      "\u001b[1;32m<ipython-input-3-7278350b9f47>\u001b[0m in \u001b[0;36m<module>\u001b[1;34m\u001b[0m\n\u001b[1;32m----> 1\u001b[1;33m \u001b[0mtype\u001b[0m\u001b[1;33m(\u001b[0m\u001b[0mx\u001b[0m\u001b[1;33m=\u001b[0m\u001b[1;36m17\u001b[0m\u001b[1;33m)\u001b[0m\u001b[1;33m\u001b[0m\u001b[1;33m\u001b[0m\u001b[0m\n\u001b[0m",
      "\u001b[1;31mTypeError\u001b[0m: type() takes 1 or 3 arguments"
     ]
    }
   ],
   "source": [
    "type(x=17)"
   ]
  },
  {
   "cell_type": "markdown",
   "metadata": {},
   "source": [
    "- x = 17은 '문'이다. =은 연산자가 아니다.  \n",
    "- x + 17은 '식'이다. +는 덧셈을 연산하는 연산자이다."
   ]
  },
  {
   "cell_type": "markdown",
   "metadata": {},
   "source": [
    "- 파이썬의 =은 연산자가 아니다. 식을 결합할 때 사용하지 않는다는 점을 주의해야 한다."
   ]
  },
  {
   "cell_type": "markdown",
   "metadata": {},
   "source": [
    "## 자료 구조의 개념"
   ]
  },
  {
   "cell_type": "markdown",
   "metadata": {},
   "source": [
    "- 자료구조(data structure)는 논리적인 관계로 이루어진 데이터의 구성을 얘기한다.  \n",
    "- 자료구조 : 데이터 단위와 데이터 자체 사이의 물리적 또는 논리적인 관계"
   ]
  },
  {
   "cell_type": "code",
   "execution_count": 4,
   "metadata": {},
   "outputs": [],
   "source": [
    "x = [15, 64, 7, 3.14, [32,55], 'ABC']"
   ]
  },
  {
   "cell_type": "code",
   "execution_count": 5,
   "metadata": {},
   "outputs": [
    {
     "data": {
      "text/plain": [
       "6"
      ]
     },
     "execution_count": 5,
     "metadata": {},
     "output_type": "execute_result"
    }
   ],
   "source": [
    "len(x)"
   ]
  },
  {
   "cell_type": "markdown",
   "metadata": {},
   "source": [
    "- [32,55]를 하나의 원소로 취급한다. x의 범주에서는 이 리스트 자체가 하나의 원소이다."
   ]
  },
  {
   "cell_type": "markdown",
   "metadata": {},
   "source": [
    "- max(), min()을 통해 배열의 최댓값과 최솟값을 구할 수 있다."
   ]
  },
  {
   "cell_type": "code",
   "execution_count": 8,
   "metadata": {},
   "outputs": [
    {
     "name": "stdout",
     "output_type": "stream",
     "text": [
      "True\n"
     ]
    }
   ],
   "source": [
    "if x: print(True)\n",
    "else : print(False)"
   ]
  },
  {
   "cell_type": "markdown",
   "metadata": {},
   "source": [
    "- 조건문이 참이면 if문을 시행하는데, 배열이 비어있다면 False를 반환하게 된다.\n",
    "- 배열이 비어있는지 아닌지를 확인할 때 유용하게 사용할 수 있다."
   ]
  },
  {
   "cell_type": "code",
   "execution_count": 9,
   "metadata": {},
   "outputs": [
    {
     "data": {
      "text/plain": [
       "True"
      ]
     },
     "execution_count": 9,
     "metadata": {},
     "output_type": "execute_result"
    }
   ],
   "source": [
    "[1,2,3] == [1,2,3]"
   ]
  },
  {
   "cell_type": "code",
   "execution_count": 10,
   "metadata": {},
   "outputs": [
    {
     "data": {
      "text/plain": [
       "True"
      ]
     },
     "execution_count": 10,
     "metadata": {},
     "output_type": "execute_result"
    }
   ],
   "source": [
    "[1,2,3] < [1,2,4]"
   ]
  },
  {
   "cell_type": "code",
   "execution_count": 11,
   "metadata": {},
   "outputs": [
    {
     "data": {
      "text/plain": [
       "True"
      ]
     },
     "execution_count": 11,
     "metadata": {},
     "output_type": "execute_result"
    }
   ],
   "source": [
    "[1,2,3,4] <= [1,2,3,4]"
   ]
  },
  {
   "cell_type": "code",
   "execution_count": 12,
   "metadata": {},
   "outputs": [
    {
     "data": {
      "text/plain": [
       "True"
      ]
     },
     "execution_count": 12,
     "metadata": {},
     "output_type": "execute_result"
    }
   ],
   "source": [
    "[1,2,3] < [1,2,3,5]"
   ]
  },
  {
   "cell_type": "code",
   "execution_count": 13,
   "metadata": {},
   "outputs": [
    {
     "data": {
      "text/plain": [
       "True"
      ]
     },
     "execution_count": 13,
     "metadata": {},
     "output_type": "execute_result"
    }
   ],
   "source": [
    "[1,2,3] < [1,2,3,5] < [1,2,3,5,6]"
   ]
  },
  {
   "cell_type": "markdown",
   "metadata": {},
   "source": [
    "- 배열의 대소관계와 등가관계 확인은 다음과 같이 진행된다.\n",
    "- 배열의 첫번째 수 사이의 대소관계를 확인하고, 같다면 다음 수로 넘어간다.\n",
    "- 배열의 원소 수가 다른 경우에는 원소 수가 많을 때 더 크다고 판단한다."
   ]
  },
  {
   "cell_type": "markdown",
   "metadata": {},
   "source": [
    "#### 등가성과 동일성  \n",
    "- 등가성은 단순히 좌우의 값이 같은지를 확인한다. 기호 = 을 이용해 확인한다.  \n",
    "- 동일성은 값 뿐만 아니라 식별 번호 까지 같은지 확인한다. is 를 이용하여 확인한다."
   ]
  },
  {
   "cell_type": "markdown",
   "metadata": {},
   "source": [
    "#### 내부 표기 생성\n",
    "- 리스트 내에서 for, if문을 사용하여 새로운 리스트를 생성하는 방법.  \n",
    "- 다음과 같은 방법으로 리스트에서 홀수만 추출하여 각 원소에 2를 곱한 새로운 리스트를 만들 수 있다."
   ]
  },
  {
   "cell_type": "code",
   "execution_count": 15,
   "metadata": {},
   "outputs": [],
   "source": [
    "numbers = [1,2,3,4,5]\n",
    "twise = [num * 2 for num in numbers if num % 2 == 1]"
   ]
  },
  {
   "cell_type": "code",
   "execution_count": 16,
   "metadata": {},
   "outputs": [
    {
     "data": {
      "text/plain": [
       "[2, 6, 10]"
      ]
     },
     "execution_count": 16,
     "metadata": {},
     "output_type": "execute_result"
    }
   ],
   "source": [
    "twise"
   ]
  },
  {
   "cell_type": "markdown",
   "metadata": {},
   "source": [
    "## 배열이란?"
   ]
  },
  {
   "cell_type": "markdown",
   "metadata": {},
   "source": [
    "### 배열에서 사용하는 기본적인 알고리즘"
   ]
  },
  {
   "cell_type": "markdown",
   "metadata": {},
   "source": [
    "#### 1. 배열 원소의 최댓값 구하기\n",
    "- 배열의 원소가 3개일 때, 최댓값을 구하는 과정은 다음과 같다.  \n",
    "maximum = a[0]  \n",
    "if a[1] > maximum : maximum = a[1]  \n",
    "if a[2] > maximum : maximum = a[2]"
   ]
  },
  {
   "cell_type": "markdown",
   "metadata": {},
   "source": [
    "- 배열의 원소가 4개일 때, 최댓값을 구하는 과정은 다음과 같다.  \n",
    "maximum = a[0]  \n",
    "if a[1] > maximum : maximum = a[1]  \n",
    "if a[2] > maximum : maximum = a[2]  \n",
    "if a[3] > maximum : maximum = a[3]"
   ]
  },
  {
   "cell_type": "markdown",
   "metadata": {},
   "source": [
    "-> 먼저 첫번째 원소의 값을 maximum에 대입하고, if문을 따라 과정에서 maximum을 새로운 값으로 갱신한다.  \n",
    "이러한 과정을 통해 최댓값을 구하면, 원소의 수가 n일때 총 n-1번의 if문을 수행한다."
   ]
  },
  {
   "cell_type": "code",
   "execution_count": 19,
   "metadata": {},
   "outputs": [],
   "source": [
    "def max_of(a):\n",
    "    maximum = a[0]\n",
    "    for i in range(1, len(a)):\n",
    "        if a[i] > maximum :\n",
    "            maximum = a[i]"
   ]
  },
  {
   "cell_type": "markdown",
   "metadata": {},
   "source": [
    "- 루프를 돌면서 원소의 인덱스가 1씩 증가하고, 이 값들과 maximum의 값을 하나씩 비교하며 최대값을 얻는다.  \n",
    "- 이와 같은 방식으로 배열 원소를 하나씩 차례로 살펴보는 방식을 '스캔(scan)'이라 한다."
   ]
  },
  {
   "cell_type": "markdown",
   "metadata": {},
   "source": [
    "#### 배열 원소의 최대값을 구하는 함수 구현하기"
   ]
  },
  {
   "cell_type": "code",
   "execution_count": 1,
   "metadata": {
    "scrolled": true
   },
   "outputs": [
    {
     "name": "stdout",
     "output_type": "stream",
     "text": [
      "배열의 최댓값을 구합니다.\n",
      "원소 수를 입력하세요.5\n",
      "x[0]값을 입력하세요.: 172\n",
      "x[1]값을 입력하세요.: 153\n",
      "x[2]값을 입력하세요.: 192\n",
      "x[3]값을 입력하세요.: 140\n",
      "x[4]값을 입력하세요.: 165\n",
      "최댓값은 192입니다.\n"
     ]
    }
   ],
   "source": [
    "# 시퀀스 원소의 최댓값 출력하기\n",
    "\n",
    "from typing import Any, Sequence\n",
    "\n",
    "def max_of(a: Sequence) -> Any:\n",
    "    \"\"\"시퀀스형 a 원소의 최댓값을 반환\"\"\"\n",
    "    maximum = a[0]\n",
    "    for i in range(1, len(a)):\n",
    "        if a[i] > maximum:\n",
    "            maximum = a[i]\n",
    "            \n",
    "    return maximum\n",
    "\n",
    "if __name__ == '__main__':\n",
    "    print('배열의 최댓값을 구합니다.')\n",
    "    num = int(input('원소 수를 입력하세요.'))\n",
    "    x = [None] * num\n",
    "    \n",
    "    for i in range(num):\n",
    "        x[i] = int(input(f'x[{i}]값을 입력하세요.: '))\n",
    "        \n",
    "    print(f'최댓값은 {max_of(x)}입니다.')"
   ]
  },
  {
   "cell_type": "markdown",
   "metadata": {},
   "source": [
    "##### 03: from typing import Any, Sequence "
   ]
  },
  {
   "cell_type": "markdown",
   "metadata": {},
   "source": [
    "- Any는 제약이 없는 임의의 자료형을 의미한다.\n",
    "- Sequence는 시퀀스형 데이터로 리스트형, 바이트 배열형, 문자열형, 튜플형, 바이트열형이 있다."
   ]
  },
  {
   "cell_type": "markdown",
   "metadata": {},
   "source": [
    "##### 05: def max_of(a: Sequence) -> Any:"
   ]
  },
  {
   "cell_type": "markdown",
   "metadata": {},
   "source": [
    "- 위의 두 자료형을 이용하여 max_of 함수를 정의하였다.\n",
    "- 건네받게한 변수 a는 시퀀스형 데이터이고, 반환하는 자료형은 Any가 된다."
   ]
  },
  {
   "cell_type": "markdown",
   "metadata": {},
   "source": [
    "##### max_of 함수의 특징은 다음과 같다.  \n",
    "- 함수 안에서는 배열 a의 원솟값이 변경하지 않는다.\n",
    "- 호출하려는 쪽이 넘겨주는 실제 인수의 자료형은 뮤터블인 리스트, 이뮤터블인 튜플/문자열 등 시퀀스 자료형이라면 무엇이라도 상관없다.\n",
    "- 인수의 원소를 비교 연산자 > 로 비교할수 있다면 다른형(int, float)이 섞여있어도 된다.\n",
    "- 최댓값의 원소가 int형이라면 int형 값을 반환하고, float형이면 float형을 반환한다."
   ]
  },
  {
   "cell_type": "markdown",
   "metadata": {},
   "source": [
    "#### *함수 어노테이션\n",
    "- 파이썬 문법의 특성은 제약성이 적어 유연성이 높지만 그로 인한 단점도 있다.\n",
    "- 파이썬에서는 자료형 선언 없이 변수나 함수를 자유롭게 사용할 수 있지만, 명시적으로 해석하기 어려운 경우가 발생한다.\n",
    "- 그로 인해 어노테이션(annotation, 주석달기)를 사용한다.\n",
    "- 어노테이션은 강제성이 없고 코드 자체에 영향을 끼치지 않는다.\n",
    "- 주로 매개변수와 반환값을 나타내는 역할을 한다."
   ]
  },
  {
   "cell_type": "code",
   "execution_count": null,
   "metadata": {},
   "outputs": [
    {
     "name": "stdout",
     "output_type": "stream",
     "text": [
      "배열의 최댓값을 구합니다.\n",
      "주의: \"End\"를 입력하면 종료합니다.\n",
      "x[0]값을 입력하세요.: 15\n"
     ]
    }
   ],
   "source": [
    "from max import max_of\n",
    "\n",
    "print('배열의 최댓값을 구합니다.')\n",
    "print('주의: \"End\"를 입력하면 종료합니다.')\n",
    "\n",
    "number = 0\n",
    "x = []\n",
    "\n",
    "while True:\n",
    "    s = input(f'x[{number}]값을 입력하세요.: ')\n",
    "    if s == 'End':\n",
    "        break\n",
    "    x.append(int(s))\n",
    "    number += 1\n",
    "    \n",
    "print(f'{number}개를 입력했습니다.')\n",
    "print(f'최댓값은 {max_of(x)}입니다. ')"
   ]
  },
  {
   "cell_type": "code",
   "execution_count": null,
   "metadata": {},
   "outputs": [],
   "source": []
  }
 ],
 "metadata": {
  "kernelspec": {
   "display_name": "Python 3",
   "language": "python",
   "name": "python3"
  },
  "language_info": {
   "codemirror_mode": {
    "name": "ipython",
    "version": 3
   },
   "file_extension": ".py",
   "mimetype": "text/x-python",
   "name": "python",
   "nbconvert_exporter": "python",
   "pygments_lexer": "ipython3",
   "version": "3.8.1"
  }
 },
 "nbformat": 4,
 "nbformat_minor": 4
}
