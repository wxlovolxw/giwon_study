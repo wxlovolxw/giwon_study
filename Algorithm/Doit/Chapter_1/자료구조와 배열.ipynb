{
 "cells": [
  {
   "cell_type": "markdown",
   "metadata": {},
   "source": [
    "# 자료구조와 배열"
   ]
  },
  {
   "cell_type": "code",
   "execution_count": 1,
   "metadata": {},
   "outputs": [
    {
     "name": "stdout",
     "output_type": "stream",
     "text": [
      "학생 그룹 점수의 합계와 평균을 구합니다.\n",
      "1번 학생의 점수를 입력하세요.: 32\n",
      "2번 학생의 점수를 입력하세요.: 68\n",
      "3번 학생의 점수를 입력하세요.: 72\n",
      "4번 학생의 점수를 입력하세요.: 54\n",
      "5번 학생의 점수를 입력하세요.: 92\n",
      "합계는 318점입니다.\n",
      "평균은 63.6점입니다.\n"
     ]
    }
   ],
   "source": [
    "# 실습 2-1: 학생 5명의 시험 점수를 입력받아 합계와 평균 출력하기\n",
    "\n",
    "print('학생 그룹 점수의 합계와 평균을 구합니다.')\n",
    "\n",
    "score1 = int(input('1번 학생의 점수를 입력하세요.: '))\n",
    "score2 = int(input('2번 학생의 점수를 입력하세요.: '))\n",
    "score3 = int(input('3번 학생의 점수를 입력하세요.: '))\n",
    "score4 = int(input('4번 학생의 점수를 입력하세요.: '))\n",
    "score5 = int(input('5번 학생의 점수를 입력하세요.: '))\n",
    "\n",
    "total = 0\n",
    "total += score1\n",
    "total += score2\n",
    "total += score3\n",
    "total += score4\n",
    "total += score5\n",
    "\n",
    "print(f'합계는 {total}점입니다.')\n",
    "print(f'평균은 {total/5}점입니다.')"
   ]
  },
  {
   "cell_type": "markdown",
   "metadata": {},
   "source": [
    "위의 코드는 다음과 같은 수정 사항이 있을 수 있다.\n",
    "* 학생의 수가 변경되는 경우\n",
    "* 특정 학생의 시험 점수를 확인하거나 변경하는 경우\n",
    "* 최저점과 최고점을 구하거나 정렬이 필요한 경우  "
   ]
  },
  {
   "cell_type": "markdown",
   "metadata": {},
   "source": [
    "## 배열(array)  \n",
    "하나의 값을 저장하는 변수가 아닌 묶음 단위로 값을 저장하는 자료구조.  \n",
    "배열에는 객체가 저장되며, 저장된 객체 하나하나를 원소(element)라고 한다.  \n",
    "각 원소는 0,1,2,...순으로 인덱스(index)를 부여 받는다.  \n",
    "  \n",
    "배열은 원소의 개수를 자유롭게 설정 할 수 있다.  \n",
    "자료형(data type)은 int, float 어떤 것도 설정 할 수 있으며, 서로 다른 형태의 자료형을 같이 저장할 수 있다."
   ]
  },
  {
   "cell_type": "markdown",
   "metadata": {},
   "source": [
    "### 리스트(List)  \n",
    "리스트는 원소를 변경할 수 있는 뮤터블(mutable) 리스트형 객체이다.  \n",
    "[]안에 ,를 통해 원소들을 구분하여 표기하여 생성할 수 있다."
   ]
  },
  {
   "cell_type": "code",
   "execution_count": 1,
   "metadata": {},
   "outputs": [],
   "source": [
    "list_01 = []\n",
    "list_02 = [1, 2, 3]\n",
    "list_03 = ['A', 'B', 'C']"
   ]
  },
  {
   "cell_type": "code",
   "execution_count": 1,
   "metadata": {},
   "outputs": [],
   "source": [
    "list_04 = list()\n",
    "list_05 = list('ABC')\n",
    "list_06 = list([1,2,3])\n",
    "list_07 = list((1,2,3))\n",
    "list_08 = list({1,2,3})"
   ]
  },
  {
   "cell_type": "code",
   "execution_count": 5,
   "metadata": {},
   "outputs": [],
   "source": [
    "list_09 = list(range(7))\n",
    "list_10 = list(range(3,8))\n",
    "list_11 = list(range(3,13,2))"
   ]
  },
  {
   "cell_type": "markdown",
   "metadata": {},
   "source": [
    "* 이터러블을 사용하여 다양한 길이의 리스트를 생성할 수 있다."
   ]
  },
  {
   "cell_type": "code",
   "execution_count": 6,
   "metadata": {},
   "outputs": [],
   "source": [
    "list_12 = [None]*5"
   ]
  },
  {
   "cell_type": "markdown",
   "metadata": {},
   "source": [
    "* None을 이용하여, 자료값은 갖지 않지만 길이는 있는 비어있는 리스트를 생성할 수 있다."
   ]
  },
  {
   "cell_type": "markdown",
   "metadata": {},
   "source": [
    "## 튜플  \n",
    "원소에 순서를 매겨 결합한 것으로, 순서를 바꿀 수 없는 이뮤터블 자료형이다.  \n",
    "리스트와 마찬가지로 ,를 통해 원소들을 구분하고 ()를 통해 생성할 수 있다.  \n",
    "리스트와는 다르게 결합연산자를 생략해도 생성할 수 있다."
   ]
  },
  {
   "cell_type": "code",
   "execution_count": 7,
   "metadata": {},
   "outputs": [],
   "source": [
    "tuple1 = ()\n",
    "tuple2 = 1,\n",
    "tuple3 = (1,)"
   ]
  },
  {
   "cell_type": "code",
   "execution_count": 8,
   "metadata": {},
   "outputs": [],
   "source": [
    "tuple4 = 1,2,3\n",
    "tuple5 = 1,2,3,\n",
    "tuple6 = (1,2,3)\n",
    "tuple7 = (1,2,3,)\n",
    "tuple8 = 'A','B','C',"
   ]
  },
  {
   "cell_type": "markdown",
   "metadata": {},
   "source": [
    "* 튜플의 경우 원소가 하나일 때, 반드시 ,를 입력해야 한다. \n",
    "* ,를 입력하지 않으면 단순 변수로서 여겨지게 된다."
   ]
  },
  {
   "cell_type": "code",
   "execution_count": 10,
   "metadata": {},
   "outputs": [],
   "source": [
    "v01 = 1\n",
    "v02 = (1)"
   ]
  },
  {
   "cell_type": "code",
   "execution_count": 11,
   "metadata": {},
   "outputs": [],
   "source": [
    "tuple09 = tuple()\n",
    "tuple10 = tuple('ABC')\n",
    "tuple11 = tuple([1,2,3])\n",
    "tuple12 = tuple({1,2,3})"
   ]
  },
  {
   "cell_type": "code",
   "execution_count": 13,
   "metadata": {},
   "outputs": [],
   "source": [
    "tuple13 = tuple(range(7))\n",
    "tuple14 = tuple(range(3,8))\n",
    "tuple15 = tuple(range(3,13,2))"
   ]
  },
  {
   "cell_type": "markdown",
   "metadata": {},
   "source": [
    "* 우변에 리스트(튜플)를 놓고 좌변에 여러 변수를 놓으면, 각각의 변수들에 리스트(튜플)의 요소들이 하나씩 대입된다."
   ]
  },
  {
   "cell_type": "code",
   "execution_count": 14,
   "metadata": {},
   "outputs": [],
   "source": [
    "x = [1,2,3]\n",
    "a,b,c = x"
   ]
  },
  {
   "cell_type": "code",
   "execution_count": 15,
   "metadata": {},
   "outputs": [
    {
     "data": {
      "text/plain": [
       "(1, 2, 3)"
      ]
     },
     "execution_count": 15,
     "metadata": {},
     "output_type": "execute_result"
    }
   ],
   "source": [
    "a,b,c"
   ]
  },
  {
   "cell_type": "markdown",
   "metadata": {},
   "source": [
    "#### 인덱스로 접근하기  \n",
    "리스트나 튜플의 원소에 접근할 때에는 인덱스(index)를 사용하면 된다."
   ]
  },
  {
   "cell_type": "code",
   "execution_count": 16,
   "metadata": {},
   "outputs": [],
   "source": [
    "x = [11, 22, 33, 44, 55, 66, 77]"
   ]
  },
  {
   "cell_type": "code",
   "execution_count": 17,
   "metadata": {},
   "outputs": [
    {
     "data": {
      "text/plain": [
       "33"
      ]
     },
     "execution_count": 17,
     "metadata": {},
     "output_type": "execute_result"
    }
   ],
   "source": [
    "x[2]"
   ]
  },
  {
   "cell_type": "code",
   "execution_count": 18,
   "metadata": {},
   "outputs": [
    {
     "data": {
      "text/plain": [
       "55"
      ]
     },
     "execution_count": 18,
     "metadata": {},
     "output_type": "execute_result"
    }
   ],
   "source": [
    "x[-3]"
   ]
  },
  {
   "cell_type": "code",
   "execution_count": 19,
   "metadata": {},
   "outputs": [
    {
     "data": {
      "text/plain": [
       "[11, 22, 33, 3.14, 55, 66, 77]"
      ]
     },
     "execution_count": 19,
     "metadata": {},
     "output_type": "execute_result"
    }
   ],
   "source": [
    "x[-4] = 3.14\n",
    "x"
   ]
  },
  {
   "cell_type": "markdown",
   "metadata": {},
   "source": [
    "* 특정 값을 대입할 때, 인덱스 식은 좌변에 대입식은 우변에 놓는다.\n",
    "* 만약 자료형이 다르다면, 해당 값만 다른 자료형을 갖게 된다.\n",
    "* 이때 다른 값을 갖는 다는 의미는 값 자체가 복사되는 것이 아니라, 참조하는 객체의 식별번호가 변경되는 것이다."
   ]
  },
  {
   "cell_type": "markdown",
   "metadata": {},
   "source": [
    "#### 슬라이스식으로 접근하기  \n",
    "리스트 혹은 튜플의 일부를 연속해서 또는 일정 간격으로 꺼내 새로운 리스트 혹은 튜플을 생성하는 것을 슬라이스(slice)라고 부른다.  \n",
    "* s[i:j] -> s[i]부터 s[j-1]까지 나열한다.\n",
    "* s[i:j:k] -> s[i]부터 s[j-1]까지 k씩 건너뛰며 나열한다."
   ]
  },
  {
   "cell_type": "code",
   "execution_count": 21,
   "metadata": {},
   "outputs": [],
   "source": [
    "s = [11,22,33,44,55,66,77]"
   ]
  },
  {
   "cell_type": "code",
   "execution_count": 22,
   "metadata": {},
   "outputs": [
    {
     "data": {
      "text/plain": [
       "[11, 22, 33, 44, 55, 66]"
      ]
     },
     "execution_count": 22,
     "metadata": {},
     "output_type": "execute_result"
    }
   ],
   "source": [
    "s[0:6]"
   ]
  },
  {
   "cell_type": "code",
   "execution_count": 23,
   "metadata": {},
   "outputs": [
    {
     "data": {
      "text/plain": [
       "[11, 22, 33, 44, 55, 66, 77]"
      ]
     },
     "execution_count": 23,
     "metadata": {},
     "output_type": "execute_result"
    }
   ],
   "source": [
    "s[0:7]"
   ]
  },
  {
   "cell_type": "code",
   "execution_count": 25,
   "metadata": {},
   "outputs": [
    {
     "data": {
      "text/plain": [
       "[44, 55]"
      ]
     },
     "execution_count": 25,
     "metadata": {},
     "output_type": "execute_result"
    }
   ],
   "source": [
    "s[-4:-2]"
   ]
  },
  {
   "cell_type": "code",
   "execution_count": null,
   "metadata": {},
   "outputs": [],
   "source": []
  }
 ],
 "metadata": {
  "kernelspec": {
   "display_name": "Python 3",
   "language": "python",
   "name": "python3"
  },
  "language_info": {
   "codemirror_mode": {
    "name": "ipython",
    "version": 3
   },
   "file_extension": ".py",
   "mimetype": "text/x-python",
   "name": "python",
   "nbconvert_exporter": "python",
   "pygments_lexer": "ipython3",
   "version": "3.8.1"
  }
 },
 "nbformat": 4,
 "nbformat_minor": 4
}
