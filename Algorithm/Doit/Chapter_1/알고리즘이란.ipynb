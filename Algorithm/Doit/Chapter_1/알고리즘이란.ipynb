{
 "cells": [
  {
   "cell_type": "markdown",
   "metadata": {},
   "source": [
    "# 세 정수의 최댓값 구하기"
   ]
  },
  {
   "cell_type": "code",
   "execution_count": 1,
   "metadata": {},
   "outputs": [
    {
     "name": "stdout",
     "output_type": "stream",
     "text": [
      "정수 a의 값을 입력하세요. :1\n",
      "정수 b의 값을 입력하세요. :3\n",
      "정수 c의 값을 입력하세요. :2\n",
      "최대값은 3입니다.\n"
     ]
    }
   ],
   "source": [
    "# 실습 1-1 : 세 정수를 입력받아 최댓값 구하기\n",
    "\n",
    "print('세 정수의 최댓값을 구합니다.')\n",
    "a = int(input('정수 a의 값을 입력하세요. :'))\n",
    "b = int(input('정수 b의 값을 입력하세요. :'))\n",
    "c = int(input('정수 c의 값을 입력하세요. :'))\n",
    "\n",
    "maximum = a\n",
    "if b > maximum : maximum = b\n",
    "if c > maximum : maximum = c\n",
    "    \n",
    "print(f'최대값은 {maximum}입니다.')"
   ]
  },
  {
   "cell_type": "markdown",
   "metadata": {},
   "source": [
    "- maximum을 구하는 과정과 같이, 한 문장씩 순서대로 처리되는 구조를 순차구조(sequential structure)라 한다.\n",
    "- if와 콜론(:) 사이의 식을 조건식이라 하며, 조건식으로 평가한 결과에 따라 프로그램의 실행 흐름이 변경되는 구조를 선택구조(select structure)라 한다."
   ]
  },
  {
   "cell_type": "code",
   "execution_count": 2,
   "metadata": {},
   "outputs": [
    {
     "name": "stdout",
     "output_type": "stream",
     "text": [
      "이름을 입력하세요.: 고기원\n",
      "안녕하세요? 고기원님.\n"
     ]
    }
   ],
   "source": [
    "# 실습 1C-1 : 이름을 입력받아 인사하기\n",
    "\n",
    "print('이름을 입력하세요.: ', end='')\n",
    "name = input()\n",
    "print(f'안녕하세요? {name}님.')"
   ]
  },
  {
   "cell_type": "code",
   "execution_count": 3,
   "metadata": {},
   "outputs": [
    {
     "name": "stdout",
     "output_type": "stream",
     "text": [
      "이름을 입력하세요.: 고기원\n",
      "안녕하세요? 고기원 님.\n"
     ]
    }
   ],
   "source": [
    "name = input('이름을 입력하세요.: ')\n",
    "print(f'안녕하세요? {name} 님.')"
   ]
  },
  {
   "cell_type": "code",
   "execution_count": 4,
   "metadata": {},
   "outputs": [
    {
     "name": "stdout",
     "output_type": "stream",
     "text": [
      "max3(3,2,1) = 3\n",
      "max3(3,2,2) = 3\n",
      "max3(3,1,2) = 3\n",
      "max3(2,1,3) = 3\n",
      "max3(3,2,3) = 3\n",
      "max3(3,3,2) = 3\n",
      "max3(3,3,3) = 3\n",
      "max3(2,2,3) = 3\n",
      "max3(2,3,1) = 3\n",
      "max3(2,3,2) = 3\n",
      "max3(1,3,2) = 3\n",
      "max3(2,3,3) = 3\n",
      "max3(1,2,3) = 3\n"
     ]
    }
   ],
   "source": [
    "# 어떤 값에 대해서도 최댓값을 잘 구할 수 있도록 함수를 만들고 여러값에 대해서 테스트\n",
    "\n",
    "def max3(a,b,c) :\n",
    "    \"\"\"a, b, c의 최대값을 구하여 반환\"\"\"\n",
    "    maximum = a\n",
    "    if b > maximum : maximum = b\n",
    "    if c > maximum : maximum = c\n",
    "    return maximum # 최대값을 반환\n",
    "\n",
    "print(f'max3(3,2,1) = {max3(3,2,1)}')\n",
    "print(f'max3(3,2,2) = {max3(3,2,2)}')\n",
    "print(f'max3(3,1,2) = {max3(3,1,2)}')\n",
    "print(f'max3(2,1,3) = {max3(2,1,3)}')\n",
    "print(f'max3(3,2,3) = {max3(3,2,3)}')\n",
    "print(f'max3(3,3,2) = {max3(3,3,2)}')\n",
    "print(f'max3(3,3,3) = {max3(3,3,3)}')\n",
    "print(f'max3(2,2,3) = {max3(2,2,3)}')\n",
    "print(f'max3(2,3,1) = {max3(2,3,1)}')\n",
    "print(f'max3(2,3,2) = {max3(2,3,2)}')\n",
    "print(f'max3(1,3,2) = {max3(1,3,2)}')\n",
    "print(f'max3(2,3,3) = {max3(2,3,3)}')\n",
    "print(f'max3(1,2,3) = {max3(1,2,3)}')"
   ]
  },
  {
   "cell_type": "markdown",
   "metadata": {},
   "source": [
    "-> 함수 내부에서 처리한 값을 반환할 때에는 return 문을 사용하면 된다. max3() 함수는 return 문에서 maximum을 반환하며, max3(3,2,1)과 같이 함수를 호출하면 세 값을 평가하여 3이라는 maximum을 반환하게 된다."
   ]
  },
  {
   "cell_type": "markdown",
   "metadata": {},
   "source": [
    "- 알고리즘 : 어떠한 문제를 해결하기 위해 정해 놓은 일련의 절차\n",
    "-> 어떠한 경우에도 실행결과가 같게 나와야 한다."
   ]
  },
  {
   "cell_type": "markdown",
   "metadata": {},
   "source": [
    "* PEP8(파이썬 스타일 가이드) 에 따르면 클래스명은 카멜 케이스(CamelCase)를 사용하고 함수명은 스네이크 케이스(snake_case)를 사용할 것을 권장한다."
   ]
  },
  {
   "cell_type": "markdown",
   "metadata": {},
   "source": [
    "-> 위의 예시에서 세 정수의 13가지 조합을 나열한 방식을 결정트리(decision tree)라 한다. 이를 이용해 모든 경우의 수에 대해서 테스트를 해본다."
   ]
  },
  {
   "cell_type": "code",
   "execution_count": 5,
   "metadata": {},
   "outputs": [
    {
     "name": "stdout",
     "output_type": "stream",
     "text": [
      "세 정수의 중앙값을 구합니다.\n",
      "정수 a의 값을 입력하세요.: 1\n",
      "정수 b의 값을 입력하세요.: 3\n",
      "정수 c의 값을 입력하세요.: 2\n",
      "중앙값은 2입니다.\n"
     ]
    }
   ],
   "source": [
    "# 실습 1C-2 : 세 정수를 입력받아 중앙값 구하기 1\n",
    "\n",
    "def med3(a, b, c) :\n",
    "    \"\"\"a,b,c의 중앙값을 구하여 반환\"\"\"\n",
    "    if a >= b:\n",
    "        if b >= c:\n",
    "            return b\n",
    "        elif a <= c:\n",
    "            return a\n",
    "        else :\n",
    "            return c\n",
    "    elif a > c:\n",
    "        return a\n",
    "    elif b > c:\n",
    "        return c\n",
    "    else :\n",
    "        return b\n",
    "    \n",
    "print('세 정수의 중앙값을 구합니다.')\n",
    "a = int(input('정수 a의 값을 입력하세요.: '))\n",
    "b = int(input('정수 b의 값을 입력하세요.: '))\n",
    "c = int(input('정수 c의 값을 입력하세요.: '))\n",
    "\n",
    "print(f'중앙값은 {med3(a,b,c)}입니다.')"
   ]
  },
  {
   "cell_type": "code",
   "execution_count": 6,
   "metadata": {},
   "outputs": [
    {
     "name": "stdout",
     "output_type": "stream",
     "text": [
      "세 정수의 중앙값을 구합니다.\n",
      "정수 a의 값을 입력하세요.: 1\n",
      "정수 b의 값을 입력하세요.: 3\n",
      "정수 c의 값을 입력하세요.: 2\n",
      "중앙값은 2입니다.\n"
     ]
    }
   ],
   "source": [
    "# 실습 1C-2 : 세 정수를 입력받아 중앙값 구하기 2\n",
    "\n",
    "def med3(a, b, c) :\n",
    "    \"\"\"a,b,c의 중앙값을 구하여 반환(다른방법)\"\"\"\n",
    "    if (b >= a and c <= a) or (b <= a and c >= a):\n",
    "        return a\n",
    "    elif (a > b and c < b) or (a < b and c > b):\n",
    "        return b\n",
    "    else :\n",
    "        return c\n",
    "    \n",
    "print('세 정수의 중앙값을 구합니다.')\n",
    "a = int(input('정수 a의 값을 입력하세요.: '))\n",
    "b = int(input('정수 b의 값을 입력하세요.: '))\n",
    "c = int(input('정수 c의 값을 입력하세요.: '))\n",
    "\n",
    "print(f'중앙값은 {med3(a,b,c)}입니다.')"
   ]
  },
  {
   "cell_type": "markdown",
   "metadata": {},
   "source": [
    "- 중앙값 구하기 1과 2는 같은 결과를 내는 두 코드이다.\n",
    "- 1은 코드의 길이는 2보다 길지만 더 효율적이다.\n",
    "- 2의 코드에서 'or' 로 이루어진 조건문에서 앞의 조건이 충족을 하더라도 뒤의 조건문을 수행하므로 효율적이지 않다."
   ]
  },
  {
   "cell_type": "code",
   "execution_count": 7,
   "metadata": {},
   "outputs": [
    {
     "name": "stdout",
     "output_type": "stream",
     "text": [
      "정수를 입력하세요.: 3\n",
      "이 수는 양수입니다.\n"
     ]
    }
   ],
   "source": [
    "# 실습 1-3 : 입력받은 정수의 부호(양수, 음수, 0)을 출력하기\n",
    "\n",
    "n = int(input('정수를 입력하세요.: '))\n",
    "\n",
    "if n > 0 :\n",
    "    print('이 수는 양수입니다.')\n",
    "elif n < 0 :\n",
    "    print('이 수는 음수입니다.')\n",
    "else :\n",
    "    print('이 수는 0입니다.')"
   ]
  },
  {
   "cell_type": "code",
   "execution_count": 8,
   "metadata": {},
   "outputs": [
    {
     "name": "stdout",
     "output_type": "stream",
     "text": [
      "정수를 입력하세요.: 3\n",
      "C\n"
     ]
    }
   ],
   "source": [
    "# 실습 1-4 : 3개로 분기하는 조건문\n",
    "\n",
    "n = int(input('정수를 입력하세요.: '))\n",
    "\n",
    "if n == 1:\n",
    "    print('A')\n",
    "elif n == 2:\n",
    "    print('B')\n",
    "else :\n",
    "    print('C')"
   ]
  },
  {
   "cell_type": "code",
   "execution_count": 9,
   "metadata": {},
   "outputs": [
    {
     "name": "stdout",
     "output_type": "stream",
     "text": [
      "정수를 입력하세요.: 4\n"
     ]
    }
   ],
   "source": [
    "# 실습 1-5 : 4개로 분기하는 조건문\n",
    "\n",
    "n = int(input('정수를 입력하세요.: '))\n",
    "\n",
    "if n == 1:\n",
    "    print('A')\n",
    "elif n == 2:\n",
    "    print('B')\n",
    "elif n == 3:\n",
    "    print('C')"
   ]
  },
  {
   "cell_type": "markdown",
   "metadata": {},
   "source": [
    "- 실습 1-4와는 다르게 1-5에서는 그 이외의 값이 입력됐을 때 아무값도 반환하지 않는다.\n",
    "- 이 코드는 다음 1-6의 코드와 같다."
   ]
  },
  {
   "cell_type": "code",
   "execution_count": 10,
   "metadata": {},
   "outputs": [
    {
     "name": "stdout",
     "output_type": "stream",
     "text": [
      "정수를 입력하세요.: 3\n",
      "C\n"
     ]
    }
   ],
   "source": [
    "# 실습 1-6 : 4개로 분기하는 조건문\n",
    "\n",
    "n = int(input('정수를 입력하세요.: '))\n",
    "\n",
    "if n == 1:\n",
    "    print('A')\n",
    "elif n == 2:\n",
    "    print('B')\n",
    "elif n == 3:\n",
    "    print('C')\n",
    "else :\n",
    "    pass"
   ]
  },
  {
   "cell_type": "markdown",
   "metadata": {},
   "source": [
    "##### 프로그래밍 언어에서 +와 -같은 기호를 산술연산자(operator), 연산대상을 피연산자(operand)라고 한다. \n",
    "연산자는 연산자의 개수에 따라 3가지로 분류된다.\n",
    "\n",
    "- 단항연산자(unary operator) : 피연산자가 1개 ex) -a\n",
    "- 이항연산자(binaru operator) : 피연산자가 2개 ex) a < b\n",
    "- 삼항연산자(ternary opeartor) : 피연산자가 3개 ex) a if b else c\n",
    "\n",
    "-> 이중 조건 연산자(conditional opeartor)은 파이썬의 유일한 삼항 연산자이다\n",
    "\n",
    "ex) \n",
    "a = x if x > y else y\n",
    "-> x와 y중 큰값을 a에 대입\n",
    "\n",
    "print('c는 0입니다.' if c == 0 else 'c는 0이 아닙니다.')\n",
    "-> c가 0이라면 'c는 0입니다.'를 출력, 아니라면 'c는 0이 아닙니다.'를 출력"
   ]
  },
  {
   "cell_type": "markdown",
   "metadata": {},
   "source": [
    "# 반복하는 알고리즘"
   ]
  },
  {
   "cell_type": "code",
   "execution_count": 11,
   "metadata": {},
   "outputs": [
    {
     "name": "stdout",
     "output_type": "stream",
     "text": [
      "1부터 n까지의 정수의 합을 구합니다.\n",
      "n값을 입력하세요.: 5\n",
      "1부터 5까지 정수의 합은 15입니다.\n"
     ]
    }
   ],
   "source": [
    "# 실습 1-7 : 1부터 n까지 정수의 합 구하기(while문)\n",
    "\n",
    "print('1부터 n까지의 정수의 합을 구합니다.')\n",
    "n = int(input('n값을 입력하세요.: '))\n",
    "\n",
    "sum = 0\n",
    "i = 1\n",
    "\n",
    "while i <= n: # i가 n보다 작거나 같은 동안에 반복한다.\n",
    "    sum += i # sum에 i를 더함\n",
    "    i += 1 # i에 1을 더함\n",
    "    \n",
    "print(f'1부터 {n}까지 정수의 합은 {sum}입니다.')"
   ]
  },
  {
   "cell_type": "markdown",
   "metadata": {},
   "source": [
    "- 어떤 조건이 성립하는 동안 반복해서 처리하는 것을 반복 구조(repetition structure)라 하고 일반적으로 루프(loop)라 한다.\n",
    "- while문은 조건식의 평가 결과가 참인 동안에 명령문이 반복된다.\n",
    "\n",
    "while 조건식 : 명령문"
   ]
  },
  {
   "cell_type": "code",
   "execution_count": 12,
   "metadata": {},
   "outputs": [
    {
     "name": "stdout",
     "output_type": "stream",
     "text": [
      "1부터 n까지의 정수의 합을 구합니다.\n",
      "n값을 입력하세요.: 5\n",
      "1부터 5까지 정수의 합은 15입니다.\n",
      "i의 값은 6입니다.\n"
     ]
    }
   ],
   "source": [
    "# 실습 1-7 : 1부터 n까지 정수의 합 구하기(while문)\n",
    "\n",
    "print('1부터 n까지의 정수의 합을 구합니다.')\n",
    "n = int(input('n값을 입력하세요.: '))\n",
    "\n",
    "sum = 0\n",
    "i = 1\n",
    "\n",
    "while i <= n: # i가 n보다 작거나 같은 동안에 반복한다.\n",
    "    sum += i # sum에 i를 더함\n",
    "    i += 1 # i에 1을 더함\n",
    "    \n",
    "print(f'1부터 {n}까지 정수의 합은 {sum}입니다.')\n",
    "print(f'i의 값은 {i}입니다.')"
   ]
  },
  {
   "cell_type": "markdown",
   "metadata": {},
   "source": [
    "- i와 같이 반복을 제어할 때 사용하는 변수를 '카운터용 변수'라 한다."
   ]
  },
  {
   "cell_type": "code",
   "execution_count": 13,
   "metadata": {},
   "outputs": [
    {
     "name": "stdout",
     "output_type": "stream",
     "text": [
      "1부터 n까지 정수의 합을 구합니다.\n",
      "n값을 입력하세요.: 5\n",
      "1부터 5까지 정수의 합은 15입니다.\n"
     ]
    }
   ],
   "source": [
    "# 실습 1-8: 1부터 n까지 정수의 합 구하기2(for문)\n",
    "\n",
    "print('1부터 n까지 정수의 합을 구합니다.')\n",
    "n = int(input('n값을 입력하세요.: '))\n",
    "\n",
    "sum = 0\n",
    "for i in range(1, n+1):\n",
    "    sum += i\n",
    "    \n",
    "print(f'1부터 {n}까지 정수의 합은 {sum}입니다.')"
   ]
  },
  {
   "cell_type": "markdown",
   "metadata": {},
   "source": [
    "- 변수가 하나만 있을 때는 while문 보다 for 문을 사용하는 것이 좋다."
   ]
  },
  {
   "cell_type": "code",
   "execution_count": 14,
   "metadata": {},
   "outputs": [
    {
     "name": "stdout",
     "output_type": "stream",
     "text": [
      "1부터 n까지 정수의 합을 구합니다.\n",
      "n값을 입력하세요.: 5\n",
      "1부터 5까지 정수의 합은 15입니다.\n"
     ]
    }
   ],
   "source": [
    "# 실습 1-8: 1부터 n까지 정수의 합 구하기3(가우스식)\n",
    "\n",
    "print('1부터 n까지 정수의 합을 구합니다.')\n",
    "n = int(input('n값을 입력하세요.: '))\n",
    "\n",
    "sum = n*(n+1) // 2\n",
    "\n",
    "print(f'1부터 {n}까지 정수의 합은 {sum}입니다.')"
   ]
  },
  {
   "cell_type": "markdown",
   "metadata": {},
   "source": [
    "##### 이터러블 객체란 반복할 수 있는 객체를 의미하며, 위 예제의 range()함수가 그 예시이다.\n",
    "그 외의 대표적인 예시는 list, str, tuple 등이 있다.\n",
    "\n",
    "- range(n) : 0이상 n미만의 수를 나열하는 수열\n",
    "- range(a,b) : a이상 b미안의 수를 차례로 나열하는 수열\n",
    "- range(a,b,step) : a이상 b미만의 수를 step간격으로 나열하는 수열"
   ]
  },
  {
   "cell_type": "code",
   "execution_count": 15,
   "metadata": {},
   "outputs": [
    {
     "name": "stdout",
     "output_type": "stream",
     "text": [
      "a부터 b까지 정수의 합을 구합니다.\n",
      "정수 a를 입력하세요.: 3\n",
      "정수 b를 입력하세요.: 7\n",
      "3부터 7까지 정수의 합은 25입니다.\n"
     ]
    }
   ],
   "source": [
    "# 실습 1-9: a부터 b까지 정수의 합을 구하기(for문)\n",
    "\n",
    "print('a부터 b까지 정수의 합을 구합니다.')\n",
    "a = int(input('정수 a를 입력하세요.: '))\n",
    "b = int(input('정수 b를 입력하세요.: '))\n",
    "\n",
    "if a > b:\n",
    "    a,b = b,a #a와 b를 오름차순으로 정렬\n",
    "    \n",
    "sum = 0\n",
    "for i in range(a, b+1): #뒤의 범위 미만의 수열을 만든다.\n",
    "    sum += i\n",
    "    \n",
    "print(f'{a}부터 {b}까지 정수의 합은 {sum}입니다.')"
   ]
  },
  {
   "cell_type": "code",
   "execution_count": 16,
   "metadata": {},
   "outputs": [
    {
     "name": "stdout",
     "output_type": "stream",
     "text": [
      "a부터 b까지 정수의 합을 구합니다.\n",
      "정수 a를 입력하세요.: 3\n",
      "정수 b를 입력하세요.: 7\n",
      "3 + 4 + 5 + 6 + 7 = 25\n"
     ]
    }
   ],
   "source": [
    "#실습 1-10: a부터 b까지 정수의 합을 구하기1\n",
    "\n",
    "print('a부터 b까지 정수의 합을 구합니다.')\n",
    "a = int(input('정수 a를 입력하세요.: '))\n",
    "b = int(input('정수 b를 입력하세요.: '))\n",
    "\n",
    "if a > b:\n",
    "    a,b = b,a\n",
    "\n",
    "sum = 0\n",
    "for i in range(a, b+1):\n",
    "    if i < b: #i가 b보다 작으면 숫자뒤에 '+'를 추가\n",
    "        print(f'{i} + ', end='')\n",
    "    else:\n",
    "        print(f'{i} = ', end='')\n",
    "    sum += i\n",
    "    \n",
    "print(sum)"
   ]
  },
  {
   "cell_type": "code",
   "execution_count": 17,
   "metadata": {},
   "outputs": [
    {
     "name": "stdout",
     "output_type": "stream",
     "text": [
      "a부터 b까지 정수의 합을 구합니다.\n",
      "정수 a를 입력하세요.: 3\n",
      "정수 b를 입력하세요.: 7\n",
      "3 + 4 + 5 + 6 + 7 = 25\n"
     ]
    }
   ],
   "source": [
    "#실습 1-11: a부터 b까지 정수의 합을 구하기2\n",
    "\n",
    "print('a부터 b까지 정수의 합을 구합니다.')\n",
    "a = int(input('정수 a를 입력하세요.: '))\n",
    "b = int(input('정수 b를 입력하세요.: '))\n",
    "\n",
    "if a > b:\n",
    "    a,b = b,a\n",
    "\n",
    "sum = 0\n",
    "for i in range(a, b): #마지막 b값은 마지막에 따로 더해준다. if문을 최소화 하기 위해\n",
    "    print(f'{i} + ',end='')\n",
    "    sum += i\n",
    "    \n",
    "print(f'{b} = ',end='')\n",
    "sum += b\n",
    "\n",
    "print(sum)"
   ]
  },
  {
   "cell_type": "markdown",
   "metadata": {},
   "source": [
    "- 실습 10과 11의 차이는 루프 안에서 if문의 실행 여부이다. 실습 10의 경우, 모든 루프에서 if문의 비교를 매번 시행하는 반면, 실습 11은 루프 안에서 if를 실행하지 않으므로 훨씬 효율이 좋은 알고리즘이라고 할 수 있다."
   ]
  },
  {
   "cell_type": "code",
   "execution_count": 18,
   "metadata": {},
   "outputs": [
    {
     "name": "stdout",
     "output_type": "stream",
     "text": [
      "+와 -를 번갈아 출력합니다.\n",
      "몇 개를 출력할까요?: 12\n",
      "+-+-+-+-+-+-\n"
     ]
    }
   ],
   "source": [
    "#실습 1-11 : +와 -를 번갈아 출력하기 1\n",
    "\n",
    "print('+와 -를 번갈아 출력합니다.')\n",
    "n = int(input('몇 개를 출력할까요?: '))\n",
    "\n",
    "for i in range(n):\n",
    "    if i % 2:\n",
    "        print('-', end='')\n",
    "    else : \n",
    "        print('+', end='')\n",
    "\n",
    "print()"
   ]
  },
  {
   "cell_type": "markdown",
   "metadata": {},
   "source": [
    "- 마찬가지로 for문을 반복할 때 마다 if문이 실행되는 것은 비효율적이다.\n",
    "- 상황에 따라 유연하게 코드를 수정하기 어렵다."
   ]
  },
  {
   "cell_type": "code",
   "execution_count": 19,
   "metadata": {},
   "outputs": [
    {
     "name": "stdout",
     "output_type": "stream",
     "text": [
      "+와 -를 번갈아 출력합니다.\n",
      "몇 개를 출력할까요?: 12\n",
      "+-+-+-+-+-+-\n"
     ]
    }
   ],
   "source": [
    "#실습 1-12: +와 -를 번갈아 출력하기(for문 수정)\n",
    "\n",
    "print('+와 -를 번갈아 출력합니다.')\n",
    "n = int(input('몇 개를 출력할까요?: '))\n",
    "\n",
    "for i in range(1, n+1):\n",
    "    if i % 2:\n",
    "        print('+', end='')\n",
    "    else :\n",
    "        print('-', end='')\n",
    "        \n",
    "print()"
   ]
  },
  {
   "cell_type": "markdown",
   "metadata": {},
   "source": [
    "- 위의 예시에서는 range를 0부터 n-1까지 설정한 반면, 아래에서는 1부터 n까지 설정한 것이므로 +와 -를 반환하는 i 값들이 반대가 된다. 이를 반대로 설정해 주어야 한다."
   ]
  },
  {
   "cell_type": "code",
   "execution_count": 20,
   "metadata": {},
   "outputs": [
    {
     "name": "stdout",
     "output_type": "stream",
     "text": [
      "+와 -를 번갈아 출력합니다.\n",
      "몇 개를 출력할까요?: 12\n",
      "+-+-+-+-+-+-\n"
     ]
    }
   ],
   "source": [
    "#실습 1-13: +와 -를 번갈아 출력하기2\n",
    "\n",
    "print('+와 -를 번갈아 출력합니다.')\n",
    "n = int(input('몇 개를 출력할까요?: '))\n",
    "\n",
    "for _ in range(n // 2):\n",
    "    print('+-', end='') # +-를 n//2개 출력한다.\n",
    "    \n",
    "if n % 2:\n",
    "    print('+',end='') # 나머지가 1이면 +를 한번 출력, 아니라면 출력하지 않는다.\n",
    "    \n",
    "# else : pass\n",
    "    \n",
    "print()"
   ]
  },
  {
   "cell_type": "markdown",
   "metadata": {},
   "source": [
    "- 위의 코드는 반복문에서 if문을 수행하지 않으므로 효율적이며 나눗셈도 총 2번밖에 수행되지 않는다.  \n",
    "- 카운트용 코드도 0에서 1로 변경 되었지만 본문은 수정할 필요 없이 단순히 range(1, n//2 +1)로 변경하면 된다."
   ]
  },
  {
   "cell_type": "markdown",
   "metadata": {},
   "source": [
    "for문의 언더스코어(_)는 for문을 순환할 시에 반환하는 값(인덱스)를 사용할 필요가 없을때 사용한다.  \n",
    "무시하고 싶은 값을 언더스코어로 표현할 수 있다."
   ]
  },
  {
   "cell_type": "code",
   "execution_count": 21,
   "metadata": {},
   "outputs": [
    {
     "name": "stdout",
     "output_type": "stream",
     "text": [
      "*를 출력합니다.\n",
      "몇 개를 출력할까요?: 14\n",
      "몇 개마다 줄바꿈할까요?: 5\n",
      "*****\n",
      "*****\n",
      "****\n"
     ]
    }
   ],
   "source": [
    "#실습 1-14: *를 출력하되 w개마다 줄바꿈하기 1\n",
    "\n",
    "print('*를 출력합니다.')\n",
    "n = int(input('몇 개를 출력할까요?: '))\n",
    "w = int(input('몇 개마다 줄바꿈할까요?: '))\n",
    "\n",
    "for i in range(n):\n",
    "    print('*', end='')\n",
    "    if i % w == w-1:\n",
    "        print() # i가 w로 나눈 값이 w-1이 될 때 마다 줄바꿈을 한다.\n",
    "        \n",
    "if n % w:\n",
    "    print() # n이 w의 배수가 아니면 줄바꿈을 for문 밖에서 따로 해줘야 한다."
   ]
  },
  {
   "cell_type": "markdown",
   "metadata": {},
   "source": [
    "- i를 1씩 증가시키면서 줄바꿈은 if문에서 실행한다. \n",
    "- 위의 if문에서는 i를 w로 나눈 나머지가 w-1일 때 줄바꿈을 하고, n이 w의 배수이면 마지막 *를 출력하고 줄바꿈을 한다.(i가 0부터 카운트 이기 때문에)\n",
    "- 위의 코드에서도 for 문에서 if문을 수행하기에 효율적이지 않다."
   ]
  },
  {
   "cell_type": "code",
   "execution_count": 22,
   "metadata": {},
   "outputs": [
    {
     "name": "stdout",
     "output_type": "stream",
     "text": [
      "*를 출력합니다.\n",
      "몇 개를 출력할까요?: 14\n",
      "몇 개마다 줄바꿈할까요?: 5\n",
      "*****\n",
      "*****\n",
      "****\n"
     ]
    }
   ],
   "source": [
    "#실습 1-15: *를 출력하되 w개마다 줄바꿈하기 2\n",
    "\n",
    "print('*를 출력합니다.')\n",
    "n = int(input('몇 개를 출력할까요?: '))\n",
    "w = int(input('몇 개마다 줄바꿈할까요?: '))\n",
    "\n",
    "for _ in range(n // w):\n",
    "    print('*' * w)\n",
    "    \n",
    "rest = n % w # n을 w로 나눈 값이 0이 아니라면 그만큼 *를 출력한다.\n",
    "if rest :\n",
    "    print('*' * rest)"
   ]
  },
  {
   "cell_type": "markdown",
   "metadata": {},
   "source": [
    "- n을 w로 나눈 몫 만큼 루프를 반복하며 *를 w개만큼씩 출력한다.\n",
    "- 나눠지지 않는 값들은 rest에 저장되며, 마지막 if문을 통해 출력된다."
   ]
  },
  {
   "cell_type": "code",
   "execution_count": 23,
   "metadata": {},
   "outputs": [
    {
     "name": "stdout",
     "output_type": "stream",
     "text": [
      "1부터 n까지 정수의 합을 구합니다.\n",
      "n값을 입력하세요.: 5\n",
      "1부터 5까지 정수의 합은 15입니다.\n"
     ]
    }
   ],
   "source": [
    "#실습 1-16: 1부터 n까지 정수의 합 구하기(n값은 양수만 입력받음)\n",
    "\n",
    "print('1부터 n까지 정수의 합을 구합니다.')\n",
    "\n",
    "while True:\n",
    "    n = int(input('n값을 입력하세요.: '))\n",
    "    if n > 0:\n",
    "        break\n",
    "        \n",
    "sum = 0\n",
    "i = 1\n",
    "\n",
    "for i in range(1, n+1):\n",
    "    sum += i\n",
    "    i += 1\n",
    "    \n",
    "print(f'1부터 {n}까지 정수의 합은 {sum}입니다.')"
   ]
  },
  {
   "cell_type": "markdown",
   "metadata": {},
   "source": [
    "- 5행의 while문은 무한이 반복되도록 만든 무한 루프로 n > 0로 break하기 전까지는 while문을 빠져나올 수 없다.\n",
    "- 반복문이 종료될 때, while문의 카운팅 변수 i값은 n이 아니라 n+1이며 for문의 종료시 카운팅 변수 i는 n이된다."
   ]
  },
  {
   "cell_type": "code",
   "execution_count": 24,
   "metadata": {
    "scrolled": false
   },
   "outputs": [
    {
     "name": "stdout",
     "output_type": "stream",
     "text": [
      "직사각형의 넓이를 입력하세요.: 32\n",
      "1 * 32\n",
      "2 * 16\n",
      "4 * 8\n"
     ]
    }
   ],
   "source": [
    "#실습 1-17: 가로, 세로 길이가 정수이고 넓이가 area인 직사각형에서 변의 길이 나열하기\n",
    "\n",
    "area = int(input('직사각형의 넓이를 입력하세요.: '))\n",
    "\n",
    "for i in range(1, area+1):\n",
    "    if i * i > area : break # 만약 이 조건을 만족하면 i가 긴변이 되어버리기 때문에 break를 통해 종료\n",
    "    if area % i : continue # i가 area의 약수가 되도록\n",
    "    print(f'{i} * {area//i}')"
   ]
  },
  {
   "cell_type": "markdown",
   "metadata": {},
   "source": [
    "* for문 내에 두개의 if문이 포함되어 있다. 좀 더 효율적인 방법에 대해서 고려해 봐야 할 것 같다."
   ]
  },
  {
   "cell_type": "code",
   "execution_count": 25,
   "metadata": {},
   "outputs": [
    {
     "name": "stdout",
     "output_type": "stream",
     "text": [
      "난수의 개수를 입력하세요.: 5\n",
      "49 69 18 76 35 \n",
      "난수 생성을 종료합니다.\n"
     ]
    }
   ],
   "source": [
    "#실습 1-18: 10-99사이의 난수 n개 생성하기(13이 나오면 중단)\n",
    "\n",
    "import random\n",
    "\n",
    "n = int(input('난수의 개수를 입력하세요.: '))\n",
    "\n",
    "for _ in range(n):\n",
    "    r = random.randint(10,99) #10-99까지 난수(정수)를 생성\n",
    "    print(r, end=' ') #숫자들을 나열할 때, 줄을 띄우지 않고 숫자사이에 띄워쓰기\n",
    "    if r == 13: # 난수가 13일때 '프로그램을 중단합니다.'를 출력하며 break를 통해 종료\n",
    "        print('\\n프로그램을 중단합니다.')\n",
    "        break\n",
    "\n",
    "else :\n",
    "    print('\\n난수 생성을 종료합니다.') # n개의 난수가 출력이 다 됐다면 '난수 생성을 종료합니다.'와 함께 종료"
   ]
  },
  {
   "cell_type": "code",
   "execution_count": 26,
   "metadata": {},
   "outputs": [
    {
     "name": "stdout",
     "output_type": "stream",
     "text": [
      "1 2 3 4 5 6 7 9 10 11 12 \n"
     ]
    }
   ],
   "source": [
    "#실습 1-19: 1-12까지 8을 건너뛰고 출력하기 1\n",
    "\n",
    "for i in range(1,13):\n",
    "    if i == 8:\n",
    "        continue\n",
    "    print(i, end=' ')\n",
    "    \n",
    "print()"
   ]
  },
  {
   "cell_type": "markdown",
   "metadata": {},
   "source": [
    "- 위의 코드에서 건너뛰는 판단을 하려면 비용이 많이 든다. 단 한번의 건너뛰기를 위해 범위 내에서 계속 판단을 해야한다."
   ]
  },
  {
   "cell_type": "code",
   "execution_count": 28,
   "metadata": {},
   "outputs": [
    {
     "name": "stdout",
     "output_type": "stream",
     "text": [
      "1 2 3 4 5 6 7 9 10 11 12 \n"
     ]
    }
   ],
   "source": [
    "#실습 1-20: 1-12까지 8을 건너뛰고 출력하기 2\n",
    "\n",
    "for i in list(range(1,8))+list(range(9,13)):\n",
    "    print(i, end=' ')\n",
    "print()"
   ]
  },
  {
   "cell_type": "markdown",
   "metadata": {},
   "source": [
    "- 단순히 리스트를 사용하여 8을 건너 뛰었지만, 여전히 for문을 통해 리스트를 하나씩 꺼내는 것을 반복하므로 비용이 여전히 발생한다."
   ]
  },
  {
   "cell_type": "code",
   "execution_count": 29,
   "metadata": {},
   "outputs": [
    {
     "name": "stdout",
     "output_type": "stream",
     "text": [
      "2자리 양수를 입력하세요.\n",
      "값을 입력하세요.: 9\n",
      "값을 입력하세요.: 146\n",
      "값을 입력하세요.: 57\n",
      "입력받은 양수는 57입니다.\n"
     ]
    }
   ],
   "source": [
    "#실습 1C-3: 2자리 양수(10-99) 입력받기\n",
    "\n",
    "print('2자리 양수를 입력하세요.')\n",
    "\n",
    "while True:\n",
    "    no = int(input('값을 입력하세요.: '))\n",
    "    if no >= 10 and no <= 99:\n",
    "        break\n",
    "        \n",
    "print(f'입력받은 양수는 {no}입니다.')"
   ]
  },
  {
   "cell_type": "markdown",
   "metadata": {},
   "source": [
    "7행의 비교 연산자는 다음과 같이 사용될 수도 있다.  \n",
    "\n",
    "- no >= 10 and no <= 99\n",
    "- 10 <= no <= 99\n",
    "- not(no < 10 or no > 99)"
   ]
  },
  {
   "cell_type": "markdown",
   "metadata": {},
   "source": [
    "##### 구조적 프로그래밍(Structured programming)이란  \n",
    "입력과 출력으로 이루어진 구성요소를 계층으로 배치하여 프로그램을 구성하는 방법.  \n",
    "순차, 선택, 반복이라는 세 종류의 제어 흐름을 사용."
   ]
  },
  {
   "cell_type": "code",
   "execution_count": 30,
   "metadata": {},
   "outputs": [
    {
     "name": "stdout",
     "output_type": "stream",
     "text": [
      "---------------------------\n",
      "  1  2  3  4  5  6  7  8  9\n",
      "  2  4  6  8 10 12 14 16 18\n",
      "  3  6  9 12 15 18 21 24 27\n",
      "  4  8 12 16 20 24 28 32 36\n",
      "  5 10 15 20 25 30 35 40 45\n",
      "  6 12 18 24 30 36 42 48 54\n",
      "  7 14 21 28 35 42 49 56 63\n",
      "  8 16 24 32 40 48 56 64 72\n",
      "  9 18 27 36 45 54 63 72 81\n",
      "---------------------------\n"
     ]
    }
   ],
   "source": [
    "#실습 1-21: 구구단 곱셈표 출력하기\n",
    "\n",
    "print('-'*27)\n",
    "for i in range(1,10):\n",
    "    for j in range(1,10):\n",
    "        print(f'{i*j:3}',end='') #f를 통한 문자열 포맷팅 시에 :뒤의 숫자를 통해 몇자리 까지 표현할껀지 지정\n",
    "    print()\n",
    "print('-'*27)"
   ]
  },
  {
   "cell_type": "code",
   "execution_count": 31,
   "metadata": {
    "scrolled": true
   },
   "outputs": [
    {
     "name": "stdout",
     "output_type": "stream",
     "text": [
      "왼쪽 아래가 직각인 이등변 삼각형을 출력합니다.\n",
      "짧은 변의 길이를 입력하세요.: 5\n",
      "*\n",
      "**\n",
      "***\n",
      "****\n",
      "*****\n"
     ]
    }
   ],
   "source": [
    "#실습 1-22: 왼쪽 아래가 직각인 이등변 삼각형으로 * 출력하기\n",
    "\n",
    "print('왼쪽 아래가 직각인 이등변 삼각형을 출력합니다.')\n",
    "n = int(input('짧은 변의 길이를 입력하세요.: '))\n",
    "\n",
    "for i in range(n):\n",
    "    for j in range(i+1): #첫행부터 *가 1개부터 시작해 늘어나야한다.\n",
    "        print('*',end='')\n",
    "    print()"
   ]
  },
  {
   "cell_type": "markdown",
   "metadata": {},
   "source": [
    "- 루프를 두번 돌다 보니 효율적인 코드는 아니다. 1번의 루프를 통해 i+1개씩의 * 를 출력해 주는 것이 더 효율적으로 보인다.\n",
    "- 한 번의 루프만 도는 코드가 훨씬 효율적이였다. 시간이 최소 50배에서 100가량 차이가 났다.O(n^2)과 O(n)의 차이인 것 같다."
   ]
  },
  {
   "cell_type": "code",
   "execution_count": 32,
   "metadata": {},
   "outputs": [
    {
     "name": "stdout",
     "output_type": "stream",
     "text": [
      "오른쪽 아래가 직각인 이등변 삼각형을 출력합니다.\n",
      "짧은 변의 길이를 입력하세요.: 5\n",
      "    *\n",
      "   **\n",
      "  ***\n",
      " ****\n",
      "*****\n"
     ]
    }
   ],
   "source": [
    "#실습 1-23: 오른쪽 아래가 직각인 이등변 삼각형으로 * 출력하기\n",
    "\n",
    "print('오른쪽 아래가 직각인 이등변 삼각형을 출력합니다.')\n",
    "n = int(input('짧은 변의 길이를 입력하세요.: '))\n",
    "\n",
    "for i in range(n):\n",
    "    for _ in range(n-i-1): #공백의 갯수\n",
    "        print(' ',end='')\n",
    "    for _ in range(i+1):\n",
    "        print('*',end='')\n",
    "    print()"
   ]
  },
  {
   "cell_type": "markdown",
   "metadata": {},
   "source": [
    "##### 파이썬의 변수  \n",
    "파이썬에서는 데이터, 함수, 클래스, 모듈, 패키지 등을 모두 객체(object)로 취급한다.  \n",
    "객체는 자료형(data type)을 가지며 메모리(저장공간)을 차지한다.  \n",
    "이러한 특징 때문에 파이썬 변수는 값을 갖지 않는다.\n",
    "\n",
    "- 변수는 객체를 참조하는 객체에 연결된 이름에 불과하다.\n",
    "- 모든 객체는 메모리를 차지하고, 자료형 뿐만 아니라 식별번호(identity)를 가진다."
   ]
  },
  {
   "cell_type": "code",
   "execution_count": 35,
   "metadata": {},
   "outputs": [
    {
     "name": "stdout",
     "output_type": "stream",
     "text": [
      "id(1) = 140714684434080\n",
      "id(n) = 140714684434080\n",
      "id(x) = 140714684434080\n"
     ]
    }
   ],
   "source": [
    "#실습 1C-4: 함수 내부/외부에서 정의한 변수와 객체의 식별 번호를 출력하기\n",
    "\n",
    "n = 1\n",
    "def put_id():\n",
    "    x = 1\n",
    "    print(f'id(x) = {id(x)}')\n",
    "    \n",
    "print(f'id(1) = {id(1)}')\n",
    "print(f'id(n) = {id(n)}')\n",
    "put_id()"
   ]
  },
  {
   "cell_type": "markdown",
   "metadata": {},
   "source": [
    "- n은 함수 외부에서 정의한 변수로 프로그램 전체에서 사용할 수 있는 전역 변수(global variable)이고, x는 put_id()함수 내부에서 정의한 변수로 함수 내부에서만 사용할 수 있는 지역 변수(local variable)이다.\n",
    "- 위의 예시에서 1, n, x는 모두 식별 번호가 같은데, 모두 int형 객체 1을 참조하는 이름에 불과하는 것을 알 수 있다."
   ]
  },
  {
   "cell_type": "code",
   "execution_count": 36,
   "metadata": {},
   "outputs": [
    {
     "name": "stdout",
     "output_type": "stream",
     "text": [
      "i =   1    id(i) = 140714684434080\n",
      "i =   2    id(i) = 140714684434112\n",
      "i =   3    id(i) = 140714684434144\n",
      "i =   4    id(i) = 140714684434176\n",
      "i =   5    id(i) = 140714684434208\n",
      "i =   6    id(i) = 140714684434240\n",
      "i =   7    id(i) = 140714684434272\n",
      "i =   8    id(i) = 140714684434304\n",
      "i =   9    id(i) = 140714684434336\n",
      "i =  10    id(i) = 140714684434368\n",
      "i =  11    id(i) = 140714684434400\n",
      "i =  12    id(i) = 140714684434432\n",
      "i =  13    id(i) = 140714684434464\n",
      "i =  14    id(i) = 140714684434496\n",
      "i =  15    id(i) = 140714684434528\n",
      "i =  16    id(i) = 140714684434560\n",
      "i =  17    id(i) = 140714684434592\n",
      "i =  18    id(i) = 140714684434624\n",
      "i =  19    id(i) = 140714684434656\n",
      "i =  20    id(i) = 140714684434688\n",
      "i =  21    id(i) = 140714684434720\n",
      "i =  22    id(i) = 140714684434752\n",
      "i =  23    id(i) = 140714684434784\n",
      "i =  24    id(i) = 140714684434816\n",
      "i =  25    id(i) = 140714684434848\n",
      "i =  26    id(i) = 140714684434880\n",
      "i =  27    id(i) = 140714684434912\n",
      "i =  28    id(i) = 140714684434944\n",
      "i =  29    id(i) = 140714684434976\n",
      "i =  30    id(i) = 140714684435008\n",
      "i =  31    id(i) = 140714684435040\n",
      "i =  32    id(i) = 140714684435072\n",
      "i =  33    id(i) = 140714684435104\n",
      "i =  34    id(i) = 140714684435136\n",
      "i =  35    id(i) = 140714684435168\n",
      "i =  36    id(i) = 140714684435200\n",
      "i =  37    id(i) = 140714684435232\n",
      "i =  38    id(i) = 140714684435264\n",
      "i =  39    id(i) = 140714684435296\n",
      "i =  40    id(i) = 140714684435328\n",
      "i =  41    id(i) = 140714684435360\n",
      "i =  42    id(i) = 140714684435392\n",
      "i =  43    id(i) = 140714684435424\n",
      "i =  44    id(i) = 140714684435456\n",
      "i =  45    id(i) = 140714684435488\n",
      "i =  46    id(i) = 140714684435520\n",
      "i =  47    id(i) = 140714684435552\n",
      "i =  48    id(i) = 140714684435584\n",
      "i =  49    id(i) = 140714684435616\n",
      "i =  50    id(i) = 140714684435648\n",
      "i =  51    id(i) = 140714684435680\n",
      "i =  52    id(i) = 140714684435712\n",
      "i =  53    id(i) = 140714684435744\n",
      "i =  54    id(i) = 140714684435776\n",
      "i =  55    id(i) = 140714684435808\n",
      "i =  56    id(i) = 140714684435840\n",
      "i =  57    id(i) = 140714684435872\n",
      "i =  58    id(i) = 140714684435904\n",
      "i =  59    id(i) = 140714684435936\n",
      "i =  60    id(i) = 140714684435968\n",
      "i =  61    id(i) = 140714684436000\n",
      "i =  62    id(i) = 140714684436032\n",
      "i =  63    id(i) = 140714684436064\n",
      "i =  64    id(i) = 140714684436096\n",
      "i =  65    id(i) = 140714684436128\n",
      "i =  66    id(i) = 140714684436160\n",
      "i =  67    id(i) = 140714684436192\n",
      "i =  68    id(i) = 140714684436224\n",
      "i =  69    id(i) = 140714684436256\n",
      "i =  70    id(i) = 140714684436288\n",
      "i =  71    id(i) = 140714684436320\n",
      "i =  72    id(i) = 140714684436352\n",
      "i =  73    id(i) = 140714684436384\n",
      "i =  74    id(i) = 140714684436416\n",
      "i =  75    id(i) = 140714684436448\n",
      "i =  76    id(i) = 140714684436480\n",
      "i =  77    id(i) = 140714684436512\n",
      "i =  78    id(i) = 140714684436544\n",
      "i =  79    id(i) = 140714684436576\n",
      "i =  80    id(i) = 140714684436608\n",
      "i =  81    id(i) = 140714684436640\n",
      "i =  82    id(i) = 140714684436672\n",
      "i =  83    id(i) = 140714684436704\n",
      "i =  84    id(i) = 140714684436736\n",
      "i =  85    id(i) = 140714684436768\n",
      "i =  86    id(i) = 140714684436800\n",
      "i =  87    id(i) = 140714684436832\n",
      "i =  88    id(i) = 140714684436864\n",
      "i =  89    id(i) = 140714684436896\n",
      "i =  90    id(i) = 140714684436928\n",
      "i =  91    id(i) = 140714684436960\n",
      "i =  92    id(i) = 140714684436992\n",
      "i =  93    id(i) = 140714684437024\n",
      "i =  94    id(i) = 140714684437056\n",
      "i =  95    id(i) = 140714684437088\n",
      "i =  96    id(i) = 140714684437120\n",
      "i =  97    id(i) = 140714684437152\n",
      "i =  98    id(i) = 140714684437184\n",
      "i =  99    id(i) = 140714684437216\n",
      "i = 100    id(i) = 140714684437248\n"
     ]
    }
   ],
   "source": [
    "#실습 1C-5: 1부터 100까지 반복하여 출력하기\n",
    "for i in range(1, 101):\n",
    "    print(f'i = {i:3}    id(i) = {id(i)}')"
   ]
  },
  {
   "cell_type": "code",
   "execution_count": null,
   "metadata": {},
   "outputs": [],
   "source": []
  }
 ],
 "metadata": {
  "kernelspec": {
   "display_name": "Python 3",
   "language": "python",
   "name": "python3"
  },
  "language_info": {
   "codemirror_mode": {
    "name": "ipython",
    "version": 3
   },
   "file_extension": ".py",
   "mimetype": "text/x-python",
   "name": "python",
   "nbconvert_exporter": "python",
   "pygments_lexer": "ipython3",
   "version": "3.8.1"
  }
 },
 "nbformat": 4,
 "nbformat_minor": 4
}
