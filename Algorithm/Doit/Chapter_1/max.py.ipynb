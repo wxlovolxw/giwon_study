{
 "cells": [
  {
   "cell_type": "code",
   "execution_count": null,
   "metadata": {},
   "outputs": [
    {
     "name": "stdout",
     "output_type": "stream",
     "text": [
      "배열의 최댓값을 구합니다.\n"
     ]
    }
   ],
   "source": [
    "# 시퀀스 원소의 최댓값 출력하기\n",
    "\n",
    "from typing import Any, Sequence\n",
    "\n",
    "def max_of(a: Sequence) -> Any:\n",
    "    \"\"\"시퀀스형 a 원소의 최댓값을 반환\"\"\"\n",
    "    maximum = a[0]\n",
    "    for i in range(1, len(a)):\n",
    "        if a[i] > maximum:\n",
    "            maximum = a[i]\n",
    "            \n",
    "    return maximum\n",
    "\n",
    "if __name__ == '__main__':\n",
    "    print('배열의 최댓값을 구합니다.')\n",
    "    num = int(input('원소 수를 입력하세요.'))\n",
    "    x = [None] * num\n",
    "    \n",
    "    for i in range(num):\n",
    "        x[i] = int(input(f'x[{i}]값을 입력하세요.: '))\n",
    "        \n",
    "    print(f'최댓값은 {max_of(x)}입니다.')"
   ]
  },
  {
   "cell_type": "code",
   "execution_count": null,
   "metadata": {},
   "outputs": [],
   "source": []
  }
 ],
 "metadata": {
  "kernelspec": {
   "display_name": "Python 3",
   "language": "python",
   "name": "python3"
  },
  "language_info": {
   "codemirror_mode": {
    "name": "ipython",
    "version": 3
   },
   "file_extension": ".py",
   "mimetype": "text/x-python",
   "name": "python",
   "nbconvert_exporter": "python",
   "pygments_lexer": "ipython3",
   "version": "3.8.1"
  }
 },
 "nbformat": 4,
 "nbformat_minor": 4
}
