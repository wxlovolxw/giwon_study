{
 "cells": [
  {
   "cell_type": "markdown",
   "metadata": {},
   "source": [
    "# 자료구조와 배열"
   ]
  },
  {
   "cell_type": "code",
   "execution_count": 1,
   "metadata": {},
   "outputs": [
    {
     "name": "stdout",
     "output_type": "stream",
     "text": [
      "학생 그룹 점수의 합계와 평균을 구합니다.\n",
      "1번 학생의 점수를 입력하세요.: 32\n",
      "2번 학생의 점수를 입력하세요.: 68\n",
      "3번 학생의 점수를 입력하세요.: 72\n",
      "4번 학생의 점수를 입력하세요.: 54\n",
      "5번 학생의 점수를 입력하세요.: 92\n",
      "합계는 318점입니다.\n",
      "평균은 63.6점입니다.\n"
     ]
    }
   ],
   "source": [
    "# 실습 2-1: 학생 5명의 시험 점수를 입력받아 합계와 평균 출력하기\n",
    "\n",
    "print('학생 그룹 점수의 합계와 평균을 구합니다.')\n",
    "\n",
    "score1 = int(input('1번 학생의 점수를 입력하세요.: '))\n",
    "score2 = int(input('2번 학생의 점수를 입력하세요.: '))\n",
    "score3 = int(input('3번 학생의 점수를 입력하세요.: '))\n",
    "score4 = int(input('4번 학생의 점수를 입력하세요.: '))\n",
    "score5 = int(input('5번 학생의 점수를 입력하세요.: '))\n",
    "\n",
    "total = 0\n",
    "total += score1\n",
    "total += score2\n",
    "total += score3\n",
    "total += score4\n",
    "total += score5\n",
    "\n",
    "print(f'합계는 {total}점입니다.')\n",
    "print(f'평균은 {total/5}점입니다.')"
   ]
  },
  {
   "cell_type": "markdown",
   "metadata": {},
   "source": [
    "위의 코드는 다음과 같은 수정 사항이 있을 수 있다.\n",
    "* 학생의 수가 변경되는 경우\n",
    "* 특정 학생의 시험 점수를 확인하거나 변경하는 경우\n",
    "* 최저점과 최고점을 구하거나 정렬이 필요한 경우  "
   ]
  },
  {
   "cell_type": "markdown",
   "metadata": {},
   "source": [
    "#### 배열(array)  \n",
    "하나의 값을 저장하는 변수가 아닌 묶음 단위로 값을 저장하는 자료구조.  \n",
    "배열에는 객체가 저장되며, 저장된 객체 하나하나를 원소(element)라고 한다.  \n",
    "각 원소는 0,1,2,...순으로 인덱스(index)를 부여 받는다.  \n",
    "  \n",
    "배열은 원소의 개수를 자유롭게 설정 할 수 있다.  \n",
    "자료형(data type)은 int, float 어떤 것도 설정 할 수 있으며, 서로 다른 형태의 자료형을 같이 저장할 수 있다."
   ]
  },
  {
   "cell_type": "markdown",
   "metadata": {},
   "source": [
    "#### 리스트(List)  \n",
    "리스트는 원소를 변경할 수 있는 뮤터블(mutable) 리스트형 객체이다.  \n",
    "[]안에 ,를 통해 원소들을 구분하여 표기하여 생성할 수 있다."
   ]
  },
  {
   "cell_type": "code",
   "execution_count": 1,
   "metadata": {},
   "outputs": [],
   "source": [
    "list_01 = []\n",
    "list_02 = [1, 2, 3]\n",
    "list_03 = ['A', 'B', 'C']"
   ]
  },
  {
   "cell_type": "code",
   "execution_count": null,
   "metadata": {},
   "outputs": [],
   "source": []
  }
 ],
 "metadata": {
  "kernelspec": {
   "display_name": "Python 3",
   "language": "python",
   "name": "python3"
  },
  "language_info": {
   "codemirror_mode": {
    "name": "ipython",
    "version": 3
   },
   "file_extension": ".py",
   "mimetype": "text/x-python",
   "name": "python",
   "nbconvert_exporter": "python",
   "pygments_lexer": "ipython3",
   "version": "3.8.1"
  }
 },
 "nbformat": 4,
 "nbformat_minor": 4
}
