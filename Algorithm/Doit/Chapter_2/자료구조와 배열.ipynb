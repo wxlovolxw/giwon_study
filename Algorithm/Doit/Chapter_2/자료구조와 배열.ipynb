{
 "cells": [
  {
   "cell_type": "markdown",
   "metadata": {},
   "source": [
    "# 자료구조와 배열"
   ]
  },
  {
   "cell_type": "code",
   "execution_count": 1,
   "metadata": {},
   "outputs": [
    {
     "name": "stdout",
     "output_type": "stream",
     "text": [
      "학생 그룹 점수의 합계와 평균을 구합니다.\n",
      "1번 학생의 점수를 입력하세요.: 32\n",
      "2번 학생의 점수를 입력하세요.: 68\n",
      "3번 학생의 점수를 입력하세요.: 72\n",
      "4번 학생의 점수를 입력하세요.: 54\n",
      "5번 학생의 점수를 입력하세요.: 92\n",
      "합계는 318점입니다.\n",
      "평균은 63.6점입니다.\n"
     ]
    }
   ],
   "source": [
    "# 실습 2-1: 학생 5명의 시험 점수를 입력받아 합계와 평균 출력하기\n",
    "\n",
    "print('학생 그룹 점수의 합계와 평균을 구합니다.')\n",
    "\n",
    "score1 = int(input('1번 학생의 점수를 입력하세요.: '))\n",
    "score2 = int(input('2번 학생의 점수를 입력하세요.: '))\n",
    "score3 = int(input('3번 학생의 점수를 입력하세요.: '))\n",
    "score4 = int(input('4번 학생의 점수를 입력하세요.: '))\n",
    "score5 = int(input('5번 학생의 점수를 입력하세요.: '))\n",
    "\n",
    "total = 0\n",
    "total += score1\n",
    "total += score2\n",
    "total += score3\n",
    "total += score4\n",
    "total += score5\n",
    "\n",
    "print(f'합계는 {total}점입니다.')\n",
    "print(f'평균은 {total/5}점입니다.')"
   ]
  },
  {
   "cell_type": "markdown",
   "metadata": {},
   "source": [
    "위의 코드는 다음과 같은 수정 사항이 있을 수 있다.\n",
    "* 학생의 수가 변경되는 경우\n",
    "* 특정 학생의 시험 점수를 확인하거나 변경하는 경우\n",
    "* 최저점과 최고점을 구하거나 정렬이 필요한 경우  "
   ]
  },
  {
   "cell_type": "markdown",
   "metadata": {},
   "source": [
    "## 배열(array)  \n",
    "하나의 값을 저장하는 변수가 아닌 묶음 단위로 값을 저장하는 자료구조.  \n",
    "배열에는 객체가 저장되며, 저장된 객체 하나하나를 원소(element)라고 한다.  \n",
    "각 원소는 0,1,2,...순으로 인덱스(index)를 부여 받는다.  \n",
    "  \n",
    "배열은 원소의 개수를 자유롭게 설정 할 수 있다.  \n",
    "자료형(data type)은 int, float 어떤 것도 설정 할 수 있으며, 서로 다른 형태의 자료형을 같이 저장할 수 있다."
   ]
  },
  {
   "cell_type": "markdown",
   "metadata": {},
   "source": [
    "### 리스트(List)  \n",
    "리스트는 원소를 변경할 수 있는 뮤터블(mutable) 리스트형 객체이다.  \n",
    "[]안에 ,를 통해 원소들을 구분하여 표기하여 생성할 수 있다."
   ]
  },
  {
   "cell_type": "code",
   "execution_count": 1,
   "metadata": {},
   "outputs": [],
   "source": [
    "list_01 = []\n",
    "list_02 = [1, 2, 3]\n",
    "list_03 = ['A', 'B', 'C']"
   ]
  },
  {
   "cell_type": "code",
   "execution_count": 1,
   "metadata": {},
   "outputs": [],
   "source": [
    "list_04 = list()\n",
    "list_05 = list('ABC')\n",
    "list_06 = list([1,2,3])\n",
    "list_07 = list((1,2,3))\n",
    "list_08 = list({1,2,3})"
   ]
  },
  {
   "cell_type": "code",
   "execution_count": 5,
   "metadata": {},
   "outputs": [],
   "source": [
    "list_09 = list(range(7))\n",
    "list_10 = list(range(3,8))\n",
    "list_11 = list(range(3,13,2))"
   ]
  },
  {
   "cell_type": "markdown",
   "metadata": {},
   "source": [
    "* 이터러블을 사용하여 다양한 길이의 리스트를 생성할 수 있다."
   ]
  },
  {
   "cell_type": "code",
   "execution_count": 6,
   "metadata": {},
   "outputs": [],
   "source": [
    "list_12 = [None]*5"
   ]
  },
  {
   "cell_type": "markdown",
   "metadata": {},
   "source": [
    "* None을 이용하여, 자료값은 갖지 않지만 길이는 있는 비어있는 리스트를 생성할 수 있다."
   ]
  },
  {
   "cell_type": "markdown",
   "metadata": {},
   "source": [
    "## 튜플  \n",
    "원소에 순서를 매겨 결합한 것으로, 순서를 바꿀 수 없는 이뮤터블 자료형이다.  \n",
    "리스트와 마찬가지로 ,를 통해 원소들을 구분하고 ()를 통해 생성할 수 있다.  \n",
    "리스트와는 다르게 결합연산자를 생략해도 생성할 수 있다."
   ]
  },
  {
   "cell_type": "code",
   "execution_count": 7,
   "metadata": {},
   "outputs": [],
   "source": [
    "tuple1 = ()\n",
    "tuple2 = 1,\n",
    "tuple3 = (1,)"
   ]
  },
  {
   "cell_type": "code",
   "execution_count": 8,
   "metadata": {},
   "outputs": [],
   "source": [
    "tuple4 = 1,2,3\n",
    "tuple5 = 1,2,3,\n",
    "tuple6 = (1,2,3)\n",
    "tuple7 = (1,2,3,)\n",
    "tuple8 = 'A','B','C',"
   ]
  },
  {
   "cell_type": "markdown",
   "metadata": {},
   "source": [
    "* 튜플의 경우 원소가 하나일 때, 반드시 ,를 입력해야 한다. \n",
    "* ,를 입력하지 않으면 단순 변수로서 여겨지게 된다."
   ]
  },
  {
   "cell_type": "code",
   "execution_count": 10,
   "metadata": {},
   "outputs": [],
   "source": [
    "v01 = 1\n",
    "v02 = (1)"
   ]
  },
  {
   "cell_type": "code",
   "execution_count": 11,
   "metadata": {},
   "outputs": [],
   "source": [
    "tuple09 = tuple()\n",
    "tuple10 = tuple('ABC')\n",
    "tuple11 = tuple([1,2,3])\n",
    "tuple12 = tuple({1,2,3})"
   ]
  },
  {
   "cell_type": "code",
   "execution_count": 13,
   "metadata": {},
   "outputs": [],
   "source": [
    "tuple13 = tuple(range(7))\n",
    "tuple14 = tuple(range(3,8))\n",
    "tuple15 = tuple(range(3,13,2))"
   ]
  },
  {
   "cell_type": "markdown",
   "metadata": {},
   "source": [
    "* 우변에 리스트(튜플)를 놓고 좌변에 여러 변수를 놓으면, 각각의 변수들에 리스트(튜플)의 요소들이 하나씩 대입된다."
   ]
  },
  {
   "cell_type": "code",
   "execution_count": 14,
   "metadata": {},
   "outputs": [],
   "source": [
    "x = [1,2,3]\n",
    "a,b,c = x"
   ]
  },
  {
   "cell_type": "code",
   "execution_count": 15,
   "metadata": {},
   "outputs": [
    {
     "data": {
      "text/plain": [
       "(1, 2, 3)"
      ]
     },
     "execution_count": 15,
     "metadata": {},
     "output_type": "execute_result"
    }
   ],
   "source": [
    "a,b,c"
   ]
  },
  {
   "cell_type": "markdown",
   "metadata": {},
   "source": [
    "#### 인덱스로 접근하기  \n",
    "리스트나 튜플의 원소에 접근할 때에는 인덱스(index)를 사용하면 된다."
   ]
  },
  {
   "cell_type": "code",
   "execution_count": 16,
   "metadata": {},
   "outputs": [],
   "source": [
    "x = [11, 22, 33, 44, 55, 66, 77]"
   ]
  },
  {
   "cell_type": "code",
   "execution_count": 17,
   "metadata": {},
   "outputs": [
    {
     "data": {
      "text/plain": [
       "33"
      ]
     },
     "execution_count": 17,
     "metadata": {},
     "output_type": "execute_result"
    }
   ],
   "source": [
    "x[2]"
   ]
  },
  {
   "cell_type": "code",
   "execution_count": 18,
   "metadata": {},
   "outputs": [
    {
     "data": {
      "text/plain": [
       "55"
      ]
     },
     "execution_count": 18,
     "metadata": {},
     "output_type": "execute_result"
    }
   ],
   "source": [
    "x[-3]"
   ]
  },
  {
   "cell_type": "code",
   "execution_count": 19,
   "metadata": {},
   "outputs": [
    {
     "data": {
      "text/plain": [
       "[11, 22, 33, 3.14, 55, 66, 77]"
      ]
     },
     "execution_count": 19,
     "metadata": {},
     "output_type": "execute_result"
    }
   ],
   "source": [
    "x[-4] = 3.14\n",
    "x"
   ]
  },
  {
   "cell_type": "markdown",
   "metadata": {},
   "source": [
    "* 특정 값을 대입할 때, 인덱스 식은 좌변에 대입식은 우변에 놓는다.\n",
    "* 만약 자료형이 다르다면, 해당 값만 다른 자료형을 갖게 된다.\n",
    "* 이때 다른 값을 갖는 다는 의미는 값 자체가 복사되는 것이 아니라, 참조하는 객체의 식별번호가 변경되는 것이다."
   ]
  },
  {
   "cell_type": "markdown",
   "metadata": {},
   "source": [
    "#### 슬라이스식으로 접근하기  \n",
    "리스트 혹은 튜플의 일부를 연속해서 또는 일정 간격으로 꺼내 새로운 리스트 혹은 튜플을 생성하는 것을 슬라이스(slice)라고 부른다.  \n",
    "* s[i:j] -> s[i]부터 s[j-1]까지 나열한다.\n",
    "* s[i:j:k] -> s[i]부터 s[j-1]까지 k씩 건너뛰며 나열한다."
   ]
  },
  {
   "cell_type": "code",
   "execution_count": 21,
   "metadata": {},
   "outputs": [],
   "source": [
    "s = [11,22,33,44,55,66,77]"
   ]
  },
  {
   "cell_type": "code",
   "execution_count": 22,
   "metadata": {},
   "outputs": [
    {
     "data": {
      "text/plain": [
       "[11, 22, 33, 44, 55, 66]"
      ]
     },
     "execution_count": 22,
     "metadata": {},
     "output_type": "execute_result"
    }
   ],
   "source": [
    "s[0:6]"
   ]
  },
  {
   "cell_type": "code",
   "execution_count": 23,
   "metadata": {},
   "outputs": [
    {
     "data": {
      "text/plain": [
       "[11, 22, 33, 44, 55, 66, 77]"
      ]
     },
     "execution_count": 23,
     "metadata": {},
     "output_type": "execute_result"
    }
   ],
   "source": [
    "s[0:7]"
   ]
  },
  {
   "cell_type": "code",
   "execution_count": 25,
   "metadata": {},
   "outputs": [
    {
     "data": {
      "text/plain": [
       "[44, 55]"
      ]
     },
     "execution_count": 25,
     "metadata": {},
     "output_type": "execute_result"
    }
   ],
   "source": [
    "s[-4:-2]"
   ]
  },
  {
   "cell_type": "markdown",
   "metadata": {},
   "source": [
    "* s[:] -> 리스트의 모든 원소를 출력  \n",
    "* s[:n] -> 리스트의 원소중 맨 앞부터 n개의 원소를 출력  \n",
    "* s[-n:] -> 리스트의 맨 뒤의 원소부터 n개를 출력  \n",
    "* s[::k] -> 리스트의 모든 원소를 처음부터 k개씩 건너 뛰며 출력  \n",
    "* s[::-1] -> 리스트의 모든 원소를 뒤에서 부터 출력"
   ]
  },
  {
   "cell_type": "code",
   "execution_count": 2,
   "metadata": {},
   "outputs": [],
   "source": [
    "x = 6\n",
    "y = 2\n",
    "x,y = y+2, x+3"
   ]
  },
  {
   "cell_type": "code",
   "execution_count": 3,
   "metadata": {},
   "outputs": [
    {
     "data": {
      "text/plain": [
       "4"
      ]
     },
     "execution_count": 3,
     "metadata": {},
     "output_type": "execute_result"
    }
   ],
   "source": [
    "x"
   ]
  },
  {
   "cell_type": "code",
   "execution_count": 4,
   "metadata": {},
   "outputs": [
    {
     "data": {
      "text/plain": [
       "9"
      ]
     },
     "execution_count": 4,
     "metadata": {},
     "output_type": "execute_result"
    }
   ],
   "source": [
    "y"
   ]
  },
  {
   "cell_type": "markdown",
   "metadata": {},
   "source": [
    "* x와 y의 값이 동시에 대입이 되기 때문에, x값이 변하고 그 변한 x값이 대입되는 것이 아니라 대입 전에 정의된 x와 y의 값으로 대입이 된다."
   ]
  },
  {
   "cell_type": "markdown",
   "metadata": {},
   "source": [
    "- 뮤터블 자료형 : 리스트, 딕셔너리, 집합 등 값을 변경할 수 있다.  \n",
    "- 이뮤터블 자료형 : 수, 문자열, 튜플 등 값을 변경할 수 없다."
   ]
  },
  {
   "cell_type": "markdown",
   "metadata": {},
   "source": [
    "##### 파이썬에서 값을 대입하는 방식  \n",
    "- 좌변에 변수의 이름이 처음 나온 경우, 해당 변수에 맞는 자료형으로 자동 선언해준다.  \n",
    "- 다른 언어에서는 자료형을 통해 변수를 선언하는 것 과는 다르다.  \n",
    "- 대입식은 값 자체가 아니라 참조하는 객체의 식별번호를 대입한다.  \n",
    "- 여러 변수에 여러 값을 한번에 대입 할 수 있다.  \n",
    "* 대입기호 '='은 연산에서 사용하는 '+', '*' 등과 다른 방식으로 사용된다."
   ]
  },
  {
   "cell_type": "code",
   "execution_count": 1,
   "metadata": {},
   "outputs": [],
   "source": [
    "x = 0"
   ]
  },
  {
   "cell_type": "code",
   "execution_count": 2,
   "metadata": {},
   "outputs": [
    {
     "data": {
      "text/plain": [
       "int"
      ]
     },
     "execution_count": 2,
     "metadata": {},
     "output_type": "execute_result"
    }
   ],
   "source": [
    "type(x+17)"
   ]
  },
  {
   "cell_type": "code",
   "execution_count": 3,
   "metadata": {},
   "outputs": [
    {
     "ename": "TypeError",
     "evalue": "type() takes 1 or 3 arguments",
     "output_type": "error",
     "traceback": [
      "\u001b[1;31m---------------------------------------------------------------------------\u001b[0m",
      "\u001b[1;31mTypeError\u001b[0m                                 Traceback (most recent call last)",
      "\u001b[1;32m<ipython-input-3-7278350b9f47>\u001b[0m in \u001b[0;36m<module>\u001b[1;34m\u001b[0m\n\u001b[1;32m----> 1\u001b[1;33m \u001b[0mtype\u001b[0m\u001b[1;33m(\u001b[0m\u001b[0mx\u001b[0m\u001b[1;33m=\u001b[0m\u001b[1;36m17\u001b[0m\u001b[1;33m)\u001b[0m\u001b[1;33m\u001b[0m\u001b[1;33m\u001b[0m\u001b[0m\n\u001b[0m",
      "\u001b[1;31mTypeError\u001b[0m: type() takes 1 or 3 arguments"
     ]
    }
   ],
   "source": [
    "type(x=17)"
   ]
  },
  {
   "cell_type": "markdown",
   "metadata": {},
   "source": [
    "- x = 17은 '문'이다. =은 연산자가 아니다.  \n",
    "- x + 17은 '식'이다. +는 덧셈을 연산하는 연산자이다."
   ]
  },
  {
   "cell_type": "markdown",
   "metadata": {},
   "source": [
    "- 파이썬의 =은 연산자가 아니다. 식을 결합할 때 사용하지 않는다는 점을 주의해야 한다."
   ]
  },
  {
   "cell_type": "markdown",
   "metadata": {},
   "source": [
    "## 자료 구조의 개념"
   ]
  },
  {
   "cell_type": "markdown",
   "metadata": {},
   "source": [
    "- 자료구조(data structure)는 논리적인 관계로 이루어진 데이터의 구성을 얘기한다.  \n",
    "- 자료구조 : 데이터 단위와 데이터 자체 사이의 물리적 또는 논리적인 관계"
   ]
  },
  {
   "cell_type": "code",
   "execution_count": 4,
   "metadata": {},
   "outputs": [],
   "source": [
    "x = [15, 64, 7, 3.14, [32,55], 'ABC']"
   ]
  },
  {
   "cell_type": "code",
   "execution_count": 5,
   "metadata": {},
   "outputs": [
    {
     "data": {
      "text/plain": [
       "6"
      ]
     },
     "execution_count": 5,
     "metadata": {},
     "output_type": "execute_result"
    }
   ],
   "source": [
    "len(x)"
   ]
  },
  {
   "cell_type": "markdown",
   "metadata": {},
   "source": [
    "- [32,55]를 하나의 원소로 취급한다. x의 범주에서는 이 리스트 자체가 하나의 원소이다."
   ]
  },
  {
   "cell_type": "markdown",
   "metadata": {},
   "source": [
    "- max(), min()을 통해 배열의 최댓값과 최솟값을 구할 수 있다."
   ]
  },
  {
   "cell_type": "code",
   "execution_count": 8,
   "metadata": {},
   "outputs": [
    {
     "name": "stdout",
     "output_type": "stream",
     "text": [
      "True\n"
     ]
    }
   ],
   "source": [
    "if x: print(True)\n",
    "else : print(False)"
   ]
  },
  {
   "cell_type": "markdown",
   "metadata": {},
   "source": [
    "- 조건문이 참이면 if문을 시행하는데, 배열이 비어있다면 False를 반환하게 된다.\n",
    "- 배열이 비어있는지 아닌지를 확인할 때 유용하게 사용할 수 있다."
   ]
  },
  {
   "cell_type": "code",
   "execution_count": 9,
   "metadata": {},
   "outputs": [
    {
     "data": {
      "text/plain": [
       "True"
      ]
     },
     "execution_count": 9,
     "metadata": {},
     "output_type": "execute_result"
    }
   ],
   "source": [
    "[1,2,3] == [1,2,3]"
   ]
  },
  {
   "cell_type": "code",
   "execution_count": 10,
   "metadata": {},
   "outputs": [
    {
     "data": {
      "text/plain": [
       "True"
      ]
     },
     "execution_count": 10,
     "metadata": {},
     "output_type": "execute_result"
    }
   ],
   "source": [
    "[1,2,3] < [1,2,4]"
   ]
  },
  {
   "cell_type": "code",
   "execution_count": 11,
   "metadata": {},
   "outputs": [
    {
     "data": {
      "text/plain": [
       "True"
      ]
     },
     "execution_count": 11,
     "metadata": {},
     "output_type": "execute_result"
    }
   ],
   "source": [
    "[1,2,3,4] <= [1,2,3,4]"
   ]
  },
  {
   "cell_type": "code",
   "execution_count": 12,
   "metadata": {},
   "outputs": [
    {
     "data": {
      "text/plain": [
       "True"
      ]
     },
     "execution_count": 12,
     "metadata": {},
     "output_type": "execute_result"
    }
   ],
   "source": [
    "[1,2,3] < [1,2,3,5]"
   ]
  },
  {
   "cell_type": "code",
   "execution_count": 13,
   "metadata": {},
   "outputs": [
    {
     "data": {
      "text/plain": [
       "True"
      ]
     },
     "execution_count": 13,
     "metadata": {},
     "output_type": "execute_result"
    }
   ],
   "source": [
    "[1,2,3] < [1,2,3,5] < [1,2,3,5,6]"
   ]
  },
  {
   "cell_type": "markdown",
   "metadata": {},
   "source": [
    "- 배열의 대소관계와 등가관계 확인은 다음과 같이 진행된다.\n",
    "- 배열의 첫번째 수 사이의 대소관계를 확인하고, 같다면 다음 수로 넘어간다.\n",
    "- 배열의 원소 수가 다른 경우에는 원소 수가 많을 때 더 크다고 판단한다."
   ]
  },
  {
   "cell_type": "markdown",
   "metadata": {},
   "source": [
    "#### 등가성과 동일성  \n",
    "- 등가성은 단순히 좌우의 값이 같은지를 확인한다. 기호 = 을 이용해 확인한다.  \n",
    "- 동일성은 값 뿐만 아니라 식별 번호 까지 같은지 확인한다. is 를 이용하여 확인한다."
   ]
  },
  {
   "cell_type": "markdown",
   "metadata": {},
   "source": [
    "#### 내부 표기 생성\n",
    "- 리스트 내에서 for, if문을 사용하여 새로운 리스트를 생성하는 방법.  \n",
    "- 다음과 같은 방법으로 리스트에서 홀수만 추출하여 각 원소에 2를 곱한 새로운 리스트를 만들 수 있다."
   ]
  },
  {
   "cell_type": "code",
   "execution_count": 15,
   "metadata": {},
   "outputs": [],
   "source": [
    "numbers = [1,2,3,4,5]\n",
    "twise = [num * 2 for num in numbers if num % 2 == 1]"
   ]
  },
  {
   "cell_type": "code",
   "execution_count": 16,
   "metadata": {},
   "outputs": [
    {
     "data": {
      "text/plain": [
       "[2, 6, 10]"
      ]
     },
     "execution_count": 16,
     "metadata": {},
     "output_type": "execute_result"
    }
   ],
   "source": [
    "twise"
   ]
  },
  {
   "cell_type": "markdown",
   "metadata": {},
   "source": [
    "## 배열이란?"
   ]
  },
  {
   "cell_type": "markdown",
   "metadata": {},
   "source": [
    "### 배열에서 사용하는 기본적인 알고리즘"
   ]
  },
  {
   "cell_type": "markdown",
   "metadata": {},
   "source": [
    "#### 1. 배열 원소의 최댓값 구하기\n",
    "- 배열의 원소가 3개일 때, 최댓값을 구하는 과정은 다음과 같다.  \n",
    "maximum = a[0]  \n",
    "if a[1] > maximum : maximum = a[1]  \n",
    "if a[2] > maximum : maximum = a[2]"
   ]
  },
  {
   "cell_type": "markdown",
   "metadata": {},
   "source": [
    "- 배열의 원소가 4개일 때, 최댓값을 구하는 과정은 다음과 같다.  \n",
    "maximum = a[0]  \n",
    "if a[1] > maximum : maximum = a[1]  \n",
    "if a[2] > maximum : maximum = a[2]  \n",
    "if a[3] > maximum : maximum = a[3]"
   ]
  },
  {
   "cell_type": "markdown",
   "metadata": {},
   "source": [
    "-> 먼저 첫번째 원소의 값을 maximum에 대입하고, if문을 따라 과정에서 maximum을 새로운 값으로 갱신한다.  \n",
    "이러한 과정을 통해 최댓값을 구하면, 원소의 수가 n일때 총 n-1번의 if문을 수행한다."
   ]
  },
  {
   "cell_type": "code",
   "execution_count": 19,
   "metadata": {},
   "outputs": [],
   "source": [
    "def max_of(a):\n",
    "    maximum = a[0]\n",
    "    for i in range(1, len(a)):\n",
    "        if a[i] > maximum :\n",
    "            maximum = a[i]"
   ]
  },
  {
   "cell_type": "markdown",
   "metadata": {},
   "source": [
    "- 루프를 돌면서 원소의 인덱스가 1씩 증가하고, 이 값들과 maximum의 값을 하나씩 비교하며 최대값을 얻는다.  \n",
    "- 이와 같은 방식으로 배열 원소를 하나씩 차례로 살펴보는 방식을 '스캔(scan)'이라 한다."
   ]
  },
  {
   "cell_type": "markdown",
   "metadata": {},
   "source": [
    "#### 배열 원소의 최대값을 구하는 함수 구현하기"
   ]
  },
  {
   "cell_type": "code",
   "execution_count": 1,
   "metadata": {
    "scrolled": true
   },
   "outputs": [
    {
     "name": "stdout",
     "output_type": "stream",
     "text": [
      "배열의 최댓값을 구합니다.\n",
      "원소 수를 입력하세요.5\n",
      "x[0]값을 입력하세요.: 172\n",
      "x[1]값을 입력하세요.: 153\n",
      "x[2]값을 입력하세요.: 192\n",
      "x[3]값을 입력하세요.: 140\n",
      "x[4]값을 입력하세요.: 165\n",
      "최댓값은 192입니다.\n"
     ]
    }
   ],
   "source": [
    "# 시퀀스 원소의 최댓값 출력하기\n",
    "\n",
    "from typing import Any, Sequence\n",
    "\n",
    "def max_of(a: Sequence) -> Any:\n",
    "    \"\"\"시퀀스형 a 원소의 최댓값을 반환\"\"\"\n",
    "    maximum = a[0]\n",
    "    for i in range(1, len(a)):\n",
    "        if a[i] > maximum:\n",
    "            maximum = a[i]\n",
    "            \n",
    "    return maximum\n",
    "\n",
    "if __name__ == '__main__':\n",
    "    print('배열의 최댓값을 구합니다.')\n",
    "    num = int(input('원소 수를 입력하세요.'))\n",
    "    x = [None] * num\n",
    "    \n",
    "    for i in range(num):\n",
    "        x[i] = int(input(f'x[{i}]값을 입력하세요.: '))\n",
    "        \n",
    "    print(f'최댓값은 {max_of(x)}입니다.')"
   ]
  },
  {
   "cell_type": "markdown",
   "metadata": {},
   "source": [
    "##### 03: from typing import Any, Sequence "
   ]
  },
  {
   "cell_type": "markdown",
   "metadata": {},
   "source": [
    "- Any는 제약이 없는 임의의 자료형을 의미한다.\n",
    "- Sequence는 시퀀스형 데이터로 리스트형, 바이트 배열형, 문자열형, 튜플형, 바이트열형이 있다."
   ]
  },
  {
   "cell_type": "markdown",
   "metadata": {},
   "source": [
    "##### 05: def max_of(a: Sequence) -> Any:"
   ]
  },
  {
   "cell_type": "markdown",
   "metadata": {},
   "source": [
    "- 위의 두 자료형을 이용하여 max_of 함수를 정의하였다.\n",
    "- 건네받게한 변수 a는 시퀀스형 데이터이고, 반환하는 자료형은 Any가 된다."
   ]
  },
  {
   "cell_type": "markdown",
   "metadata": {},
   "source": [
    "##### max_of 함수의 특징은 다음과 같다.  \n",
    "- 함수 안에서는 배열 a의 원솟값이 변경하지 않는다.\n",
    "- 호출하려는 쪽이 넘겨주는 실제 인수의 자료형은 뮤터블인 리스트, 이뮤터블인 튜플/문자열 등 시퀀스 자료형이라면 무엇이라도 상관없다.\n",
    "- 인수의 원소를 비교 연산자 > 로 비교할수 있다면 다른형(int, float)이 섞여있어도 된다.\n",
    "- 최댓값의 원소가 int형이라면 int형 값을 반환하고, float형이면 float형을 반환한다."
   ]
  },
  {
   "cell_type": "markdown",
   "metadata": {},
   "source": [
    "#### *함수 어노테이션\n",
    "- 파이썬 문법의 특성은 제약성이 적어 유연성이 높지만 그로 인한 단점도 있다.\n",
    "- 파이썬에서는 자료형 선언 없이 변수나 함수를 자유롭게 사용할 수 있지만, 명시적으로 해석하기 어려운 경우가 발생한다.\n",
    "- 그로 인해 어노테이션(annotation, 주석달기)를 사용한다.\n",
    "- 어노테이션은 강제성이 없고 코드 자체에 영향을 끼치지 않는다.\n",
    "- 주로 매개변수와 반환값을 나타내는 역할을 한다."
   ]
  },
  {
   "cell_type": "markdown",
   "metadata": {},
   "source": [
    "### 재사용할 수 있는 모듈 작성하기\n",
    "- 하나의 스크립트 프로그램을 모듈이라고 한다.\n",
    "- 확장자(.py)를 포함하지 않은 파일 이름 자체를 모듈 이름으로서 사용한다.\n",
    "- 프로그램 내에서 __name__ 이 '__main__'과 같은지 확인한다. 왼쪽 피연산자 __name__은 모듈 이름을 나타내는 변수이다.\n",
    "- 스크립트 프로그램이 직접 실행될 때에는 __name__이 '__main__'이 된다.\n",
    "- 만약 스크립트 프로그램이 임포트 될 때에는 __name__이 원래 모듈의 이름이 된다.\n",
    "  \n",
    "- max.py를 직접 시행한 경우, if __name__ == '__main__' 이 참이 되어 아래의 행을 실행하지만 임포트 되는 경우 달라지기 때문에 if문이 실행되지 않는다."
   ]
  },
  {
   "cell_type": "markdown",
   "metadata": {},
   "source": [
    "#### 모듈 테스트 하기\n",
    "- 다른 프로그램에서 max.py를 호출해 본다.\n",
    "- 이 프로그램은 max.py와 같은 경로상에 존재해야 한다."
   ]
  },
  {
   "cell_type": "code",
   "execution_count": null,
   "metadata": {},
   "outputs": [
    {
     "name": "stdout",
     "output_type": "stream",
     "text": [
      "배열의 최댓값을 구합니다.\n",
      "주의: \"End\"를 입력하면 종료합니다.\n",
      "x[0]값을 입력하세요.: 15\n"
     ]
    }
   ],
   "source": [
    "from max import max_of\n",
    "\n",
    "print('배열의 최댓값을 구합니다.')\n",
    "print('주의: \"End\"를 입력하면 종료합니다.')\n",
    "\n",
    "number = 0\n",
    "x = []\n",
    "\n",
    "while True:\n",
    "    s = input(f'x[{number}]값을 입력하세요.: ')\n",
    "    if s == 'End':\n",
    "        break\n",
    "    x.append(int(s))\n",
    "    number += 1\n",
    "    \n",
    "print(f'{number}개를 입력했습니다.')\n",
    "print(f'최댓값은 {max_of(x)}입니다. ')"
   ]
  },
  {
   "cell_type": "markdown",
   "metadata": {},
   "source": [
    "#### 03: from max import max_of\n",
    "- 모듈 max로 정의된 max_of() 함수를 사용할 수 있도록 임포트 하였다.\n",
    "  \n",
    "- x = []를 통해 비어잇는 리스트를 생성하고, while을 통해 비어잇는 리스트에 int형 데이터를 추가한다.\n",
    "- 만약 입력값으로 End가 입력된다면 break를 통해 while문을 정지하고, 더이상 값을 입력받지 않는다.\n",
    "  \n",
    "- 변수 number는 입력받는 정수의 갯수를 count 해준다. 배열 x의 원소 갯수와 같다.  \n",
    "-> 매 루프마다 count를 더해주는 방식으로 정수의 갯수를 세어주는 것이 아니라 len을 통해 배열의 길이를 재는 것이 더 효율적이지 않을까?"
   ]
  },
  {
   "cell_type": "markdown",
   "metadata": {},
   "source": [
    "#### 배열의 원소값을 난수로 결정하기"
   ]
  },
  {
   "cell_type": "code",
   "execution_count": 1,
   "metadata": {},
   "outputs": [
    {
     "name": "stdout",
     "output_type": "stream",
     "text": [
      "난수의 최댓값을 구합니다.\n",
      "난수의 개수를 입력하세요.: 5\n",
      "난수의 최솟값을 입력하세요.: 10\n",
      "난수의 최댓값을 입력하세요.: 99\n",
      "[60, 36, 81, 47, 66]\n",
      "이 가운데 최댓값은 81입니다.\n"
     ]
    }
   ],
   "source": [
    "# 배열 원소의 최댓값을 구해서 출력하기(원솟값을 난수로 결정)\n",
    "\n",
    "import random\n",
    "from max import max_of\n",
    "\n",
    "print('난수의 최댓값을 구합니다.')\n",
    "num = int(input('난수의 개수를 입력하세요.: '))\n",
    "lo = int(input('난수의 최솟값을 입력하세요.: '))\n",
    "hi = int(input('난수의 최댓값을 입력하세요.: '))\n",
    "x = [None] * num\n",
    "\n",
    "for i in range(num):\n",
    "    x[i] = random.randint(lo, hi)\n",
    "    \n",
    "print(f'{(x)}')\n",
    "print(f'이 가운데 최댓값은 {max_of(x)}입니다.')"
   ]
  },
  {
   "cell_type": "markdown",
   "metadata": {},
   "source": [
    "#### 튜플, 문자열, 문자열 리스트의 최댓값 구하기"
   ]
  },
  {
   "cell_type": "code",
   "execution_count": 3,
   "metadata": {},
   "outputs": [
    {
     "name": "stdout",
     "output_type": "stream",
     "text": [
      "(4, 7, 5.6, 2, 3.14, 1)의 최댓값은 7입니다.\n",
      "string의 최댓값은 t입니다.\n",
      "['DTS', 'AAC', 'FLAC']의 최댓값은 FLAC입니다.\n"
     ]
    }
   ],
   "source": [
    "# 각 배열 원소의 최댓값을 구해서 출력하기(튜플, 문자열, 문자열 리스트)\n",
    "\n",
    "from max import max_of\n",
    "\n",
    "t = (4, 7, 5.6, 2, 3.14, 1)\n",
    "s = 'string'\n",
    "a = ['DTS', 'AAC', 'FLAC']\n",
    "\n",
    "print(f'{t}의 최댓값은 {max_of(t)}입니다.')\n",
    "print(f'{s}의 최댓값은 {max_of(s)}입니다.')\n",
    "print(f'{a}의 최댓값은 {max_of(a)}입니다.')"
   ]
  },
  {
   "cell_type": "markdown",
   "metadata": {},
   "source": [
    "- 튜플 t의 경우 int형과 float형의 크기비교가 가능하므로 가장 큰 수를 반환한다.\n",
    "- string의 경우 문자 가운데에 가장 큰 t를 반환한다.(순서상 뒤에 있으면 큰 값으로 취급)\n",
    "- 리스트 a에서는 문자열의 길이가 가장 긴 FLAC이 최댓값이다."
   ]
  },
  {
   "cell_type": "markdown",
   "metadata": {},
   "source": [
    "#### 리스트와 튜플의 동일성\n",
    "- 따로 생성한 리스트에서 원소의 모든 값이 같더라도 실체는 다르다."
   ]
  },
  {
   "cell_type": "code",
   "execution_count": 4,
   "metadata": {},
   "outputs": [
    {
     "data": {
      "text/plain": [
       "False"
      ]
     },
     "execution_count": 4,
     "metadata": {},
     "output_type": "execute_result"
    }
   ],
   "source": [
    "lst1 = [1,2,3,4,5]\n",
    "lst2 = [1,2,3,4,5]\n",
    "lst1 is lst2"
   ]
  },
  {
   "cell_type": "markdown",
   "metadata": {},
   "source": [
    "- 동일성(identity)는 식별번호가 같은지를 is를 통해 판단한다.\n",
    "- 여기서 같은 리스트를 생성한 것처럼 보이지만, 리터럴(literal, 고정된 값)이 아니기 때문에 같지 않다."
   ]
  },
  {
   "cell_type": "code",
   "execution_count": 5,
   "metadata": {},
   "outputs": [
    {
     "data": {
      "text/plain": [
       "True"
      ]
     },
     "execution_count": 5,
     "metadata": {},
     "output_type": "execute_result"
    }
   ],
   "source": [
    "lst1 = [1,2,3,4,5]\n",
    "lst2 = lst1\n",
    "lst1 is lst2"
   ]
  },
  {
   "cell_type": "code",
   "execution_count": 6,
   "metadata": {},
   "outputs": [
    {
     "data": {
      "text/plain": [
       "[1, 2, 9, 4, 5]"
      ]
     },
     "execution_count": 6,
     "metadata": {},
     "output_type": "execute_result"
    }
   ],
   "source": [
    "lst1[2] = 9\n",
    "lst1"
   ]
  },
  {
   "cell_type": "code",
   "execution_count": 7,
   "metadata": {},
   "outputs": [
    {
     "data": {
      "text/plain": [
       "[1, 2, 9, 4, 5]"
      ]
     },
     "execution_count": 7,
     "metadata": {},
     "output_type": "execute_result"
    }
   ],
   "source": [
    "lst2"
   ]
  },
  {
   "cell_type": "markdown",
   "metadata": {},
   "source": [
    "- lst2는 lst1을 참조하기 때문에, 원래의 리스트 lst1의 원소값이 변경된다면 lst2도 원소값이 변하게 된다."
   ]
  },
  {
   "cell_type": "markdown",
   "metadata": {},
   "source": [
    "#### 리스트 스캔"
   ]
  },
  {
   "cell_type": "code",
   "execution_count": 8,
   "metadata": {},
   "outputs": [
    {
     "name": "stdout",
     "output_type": "stream",
     "text": [
      "x[0] = John\n",
      "x[1] = George\n",
      "x[2] = Paul\n",
      "x[3] = Ringo\n"
     ]
    }
   ],
   "source": [
    "# 리스트의 모든 원소를 스캔하기(원소 수를 미리 파악)\n",
    "\n",
    "x = ['John', 'George', 'Paul', 'Ringo']\n",
    "\n",
    "for i in range(len(x)):\n",
    "    print(f'x[{i}] = {x[i]}')"
   ]
  },
  {
   "cell_type": "code",
   "execution_count": 9,
   "metadata": {},
   "outputs": [
    {
     "name": "stdout",
     "output_type": "stream",
     "text": [
      "x[0] = John\n",
      "x[1] = George\n",
      "x[2] = Paul\n",
      "x[3] = Ringo\n"
     ]
    }
   ],
   "source": [
    "# 리스트의 모든 원소를 enumerate()함수로 스캔하기\n",
    "\n",
    "x = ['John', 'George', 'Paul', 'Ringo']\n",
    "\n",
    "for i,name in enumerate(x):\n",
    "    print(f'x[{i}] = {name}')"
   ]
  },
  {
   "cell_type": "code",
   "execution_count": 10,
   "metadata": {},
   "outputs": [
    {
     "name": "stdout",
     "output_type": "stream",
     "text": [
      "1번째 = John\n",
      "2번째 = George\n",
      "3번째 = Paul\n",
      "4번째 = Ringo\n"
     ]
    }
   ],
   "source": [
    "# 리스트의 모든 원소를 enumerate()함수로 스캔하기(1부터 카운트)\n",
    "\n",
    "x = ['John', 'George', 'Paul', 'Ringo']\n",
    "\n",
    "for i,name in enumerate(x,1):\n",
    "    print(f'{i}번째 = {name}')"
   ]
  },
  {
   "cell_type": "code",
   "execution_count": 11,
   "metadata": {},
   "outputs": [
    {
     "name": "stdout",
     "output_type": "stream",
     "text": [
      "John\n",
      "George\n",
      "Paul\n",
      "Ringo\n"
     ]
    }
   ],
   "source": [
    "# 리스트의 모든 원소를 스캔하기(인덱스값을 사용하지 않음)\n",
    "\n",
    "x = ['John', 'George', 'Paul', 'Ringo']\n",
    "\n",
    "for i in x:\n",
    "    print(i)"
   ]
  },
  {
   "cell_type": "markdown",
   "metadata": {},
   "source": [
    "- 리스트를 스캔함에 있어서 인덱스를 따로 지정해 주지 않아도 되는 이유는 리스트가 이터러블(iterable) 객체이기 때문이다. 순차 반복 객체이기 때문에 따로 지정해 주지 않아도 된다."
   ]
  },
  {
   "cell_type": "markdown",
   "metadata": {},
   "source": [
    "> 튜플\n",
    "- 튜플은 리스트로 작성한 x = []를 x = ()로 수정함으로서 스캔할 수 있다."
   ]
  },
  {
   "cell_type": "code",
   "execution_count": 12,
   "metadata": {},
   "outputs": [],
   "source": [
    "x = ('John', 'George', 'Paul', 'Ringo')"
   ]
  },
  {
   "cell_type": "markdown",
   "metadata": {},
   "source": [
    "#### 이터러블\n",
    "- 문자열, 리스트, 튜플, 집합, 딕셔너리 등의 자료형 객체는 모두 이터러블(반복가능)하다는 공통점이 있다.\n",
    "- 이터러블 객체는 원소를 하나씩 꺼내는 구조이며, 이터러블 객체를 내장 함수 iter()의 인수로 전달하면 그 객체에 대한 이터레이터(반복자)가 반환된다.\n",
    "- 이터레이터는 데이터의 나열을 포현하는 객체이다. 이터레이터의 __next__ 함수를 호출하거나 내장 함수인 next() 함수에 이터레이터를 전달하면 원소를 순차적으로 꺼낼 수 있다. 만약 꺼낼 원소가 더이상 없다면 StopIteration으로 예외를 발생 시킨다."
   ]
  },
  {
   "cell_type": "markdown",
   "metadata": {},
   "source": [
    "#### 배열의 순서를 역순으로 정렬하기\n",
    "- 예를 들어 [2,5,1,3,9,6,7]과 같은 형태의 리스트가 주어진다면, [7,6,9,3,1,5,2]와 같은 형태로 만들어야 한다.\n",
    "- 맨 앞의 원소 a[0]과 a[6]을 바꾸고, a[1]과 a[5]의 값을 바꿔준다. 이렇게 바꾸어 가다가, 가운데 값인 a[3]은 그대로 둔다.  -> 값을 바꾸는 횟수는 원소수//2 번 시행해주면 된다.\n",
    "- 위 알고리즘의 pseudo code는 다음과 같다"
   ]
  },
  {
   "cell_type": "markdown",
   "metadata": {},
   "source": [
    "```python\n",
    "for i in range(n//2):  \n",
    "    a[i]와 a[n-i-1]의 값을 교환\n",
    "```"
   ]
  },
  {
   "cell_type": "code",
   "execution_count": 14,
   "metadata": {},
   "outputs": [
    {
     "name": "stdout",
     "output_type": "stream",
     "text": [
      "배열 원소를 역순으로 정렬합니다.\n",
      "원소 수를 입력하세요.: 7\n",
      "x[0]값을 입력하세요.: 2\n",
      "x[1]값을 입력하세요.: 5\n",
      "x[2]값을 입력하세요.: 1\n",
      "x[3]값을 입력하세요.: 3\n",
      "x[4]값을 입력하세요.: 9\n",
      "x[5]값을 입력하세요.: 6\n",
      "x[6]값을 입력하세요.: 7\n",
      "배열 원소를 역순으로 정렬했습니다.\n",
      "x[0] = 7\n",
      "x[1] = 6\n",
      "x[2] = 9\n",
      "x[3] = 3\n",
      "x[4] = 1\n",
      "x[5] = 5\n",
      "x[6] = 2\n"
     ]
    }
   ],
   "source": [
    "# 뮤터블 시퀀스 원소를 역순으로 정렬\n",
    "\n",
    "from typing import Any, MutableSequence\n",
    "\n",
    "def reverse_array(a: MutableSequence) -> None:\n",
    "    \"\"\"뮤터블 시퀀스 a의 원소를 역순으로 정렬\"\"\"\n",
    "    n = len(a)\n",
    "    for i in range(n // 2):\n",
    "        a[i], a[n - i - 1] = a[n - i - 1], a[i]\n",
    "        \n",
    "if __name__ == '__main__':\n",
    "    print('배열 원소를 역순으로 정렬합니다.')\n",
    "    nx = int(input('원소 수를 입력하세요.: '))\n",
    "    x = [None] * nx\n",
    "    \n",
    "    for i in range(nx):\n",
    "        x[i] = int(input(f'x[{i}]값을 입력하세요.: '))\n",
    "        \n",
    "    reverse_array(x)\n",
    "    \n",
    "    print('배열 원소를 역순으로 정렬했습니다.')\n",
    "    for i in range(nx):\n",
    "        print(f'x[{i}] = {x[i]}')"
   ]
  },
  {
   "cell_type": "markdown",
   "metadata": {},
   "source": [
    "#### 리스트를 역순으로 정렬하기  \n",
    "- 파이썬의 표준 라이브러리를 사용하여 리스트를 역순으로 정렬하거나, 정렬한 리스트를 새로 생성할 수 있다.  \n",
    "- 리스트 자기 자신을 역순으로 정렬하려면 list형의 reverse() 함수를 사용할 수 있다.\n",
    "\n",
    "x.reverse()\n",
    "\n",
    "- 단 튜플은 이뮤터블 하므로 역순으로 정렬할 수 없다.\n",
    "\n",
    "#### 역순으로 정렬한 리스트의 생성\n",
    "- reversed() 함수를 호출하는 reversed(x)는 x의 원소를 역순으로 정렬하는 이터러블 객체를 생성한다.\n",
    "- 엄밀하게 말하자면 x의 원소를 역순으로 생성하는 이터레이터(반복자)를 반환한다. 따라서 리스트의 원소를 역순으로 정렬하고자 한다면, reversed() 함수가 반환하는 이터러블 객체를 list() 함수에 넘기고 새로운 리스트를 생성해야 한다.\n",
    "\n",
    "y = list(reversed(x))"
   ]
  },
  {
   "cell_type": "markdown",
   "metadata": {},
   "source": [
    "### 기수 변환하기(n진수 구하기)\n",
    "- 10진수 정수를 n진수로 변환하기 위해서는 정수를 몫이 0이 될 때지 반복하여 n으로 나누어 준 뒤, 나머지들을 역순으로 나열하면 된다."
   ]
  },
  {
   "cell_type": "code",
   "execution_count": 1,
   "metadata": {},
   "outputs": [],
   "source": [
    "# 10진수 정숫값을 입력받아 2~36진수로 변환하여 출력하기\n",
    "\n",
    "def card_conv(x: int, r: int) -> str:\n",
    "    \"\"\"정숫값 x를 r진수로 변환한 뒤 그 수를 나타내는 문자열을 반환\"\"\"\n",
    "    \n",
    "    d = '' # 변환 후의 문자열\n",
    "    dchar = '0123456789ABCDEFGHIJKLMNOPQRSTUVWXYZ'\n",
    "    \n",
    "    while x > 0:\n",
    "        d += dchar[x % r]\n",
    "        x //= r\n",
    "        \n",
    "    return d[::-1] # 역순으로 반환"
   ]
  },
  {
   "cell_type": "markdown",
   "metadata": {},
   "source": [
    "- 10~11행에서 x를 r로 나눈 나머지를 인덱스로 하는 문자(dchar[x%r])를 문자열 d에 추가한다.\n",
    "- 그리고 x가 0이 될때가지 이 과정을 반복하는데, 이 순서는 마지막에 구한 d 문자열의 맨 앞에 배열되므로 슬라이스식 d[::-1]을 통해 역순으로 배열해준다."
   ]
  },
  {
   "cell_type": "code",
   "execution_count": 2,
   "metadata": {},
   "outputs": [
    {
     "name": "stdout",
     "output_type": "stream",
     "text": [
      "10진수를 n진수로 변환합니다.\n",
      "변환할 값으로 음이 아닌 정수를 입력하세요.: 29\n",
      "어떤 진수로 변환할까요?: 2\n",
      "2진수로는 11101입니다.\n",
      "한 번 더 변환할까요?(Y … 예 / N … 아니요): n\n"
     ]
    }
   ],
   "source": [
    "if __name__ == '__main__':\n",
    "    print('10진수를 n진수로 변환합니다.')\n",
    "    \n",
    "    while True:\n",
    "        while True : # 음이 아닌 정수를 입력받음\n",
    "            no = int(input('변환할 값으로 음이 아닌 정수를 입력하세요.: '))\n",
    "            if no > 0:\n",
    "                break\n",
    "                \n",
    "        while True : # 2~36진수의 정숫값을 입력받음\n",
    "            cd = int(input('어떤 진수로 변환할까요?: '))\n",
    "            if 2 <= cd <= 36:\n",
    "                break\n",
    "                \n",
    "        print(f'{cd}진수로는 {card_conv(no, cd)}입니다.')\n",
    "        \n",
    "        retry = input( \"한 번 더 변환할까요?(Y … 예 / N … 아니요): \")\n",
    "        if retry in {'N', 'n'}:\n",
    "            break"
   ]
  },
  {
   "cell_type": "code",
   "execution_count": 6,
   "metadata": {},
   "outputs": [
    {
     "name": "stdout",
     "output_type": "stream",
     "text": [
      "10진수를 n진수로 변환합니다.\n",
      "변환할 값으로 음이 아닌 정수를 입력하세요.: 29\n",
      "어떤 진수로 변환할까요?: 2\n",
      " 2 | 29\n",
      "   +----\n",
      " 2 | 14 … 1\n",
      "   +----\n",
      " 2 |  7 … 0\n",
      "   +----\n",
      " 2 |  3 … 1\n",
      "   +----\n",
      " 2 |  1 … 1\n",
      "   +----\n",
      "      0 … 1\n",
      "2진수로는 11101입니다.\n",
      "한 번 더 변환할까요?(Y … 예 / N … 아니요): n\n"
     ]
    }
   ],
   "source": [
    "# 10진수 정숫값을 입력받아 2~36진수로 변환하여 출력하기(실습2-7[A] 수정)\n",
    "\n",
    "def card_conv(x: int, r: int) -> str:\n",
    "    \"\"\"정숫값 x를 r진수로 변환한 뒤 그 수를 나타내는 문자열을 반환\"\"\"\n",
    "    \n",
    "    d = '' # 변환 후의 문자열\n",
    "    dchar = '0123456789ABCDEFGHIJKLMNOPQRSTUVWXYZ'\n",
    "    n = len(str(x))\n",
    "    \n",
    "    print(f'{r:2} | {x:{n}d}')\n",
    "    while x > 0:\n",
    "        print('   +' + (n + 2) * '-')\n",
    "        if x // r:\n",
    "            print(f'{r:2} | {x // r:{n}d} … {x % r}')\n",
    "        else :\n",
    "            print(f'     {x // r:{n}d} … {x % r}')\n",
    "        d += dchar [x % r]\n",
    "        x //= r\n",
    "        \n",
    "    return d[::-1]\n",
    "\n",
    "if __name__ == '__main__':\n",
    "    print('10진수를 n진수로 변환합니다.')\n",
    "    \n",
    "    while True:\n",
    "        while True : # 음이 아닌 정수를 입력받음\n",
    "            no = int(input('변환할 값으로 음이 아닌 정수를 입력하세요.: '))\n",
    "            if no > 0:\n",
    "                break\n",
    "                \n",
    "        while True : # 2~36진수의 정숫값을 입력받음\n",
    "            cd = int(input('어떤 진수로 변환할까요?: '))\n",
    "            if 2 <= cd <= 36:\n",
    "                break\n",
    "                \n",
    "        print(f'{cd}진수로는 {card_conv(no, cd)}입니다.')\n",
    "        \n",
    "        retry = input( \"한 번 더 변환할까요?(Y … 예 / N … 아니요): \")\n",
    "        if retry in {'N', 'n'}:\n",
    "            break"
   ]
  },
  {
   "cell_type": "markdown",
   "metadata": {},
   "source": [
    "### 함수 사이에 인수 주고받기\n",
    "- 아래 프로그램에서는 1부터 n까지 정수이 합을 구해 반환하는 sum_1ton()함수를 구현하여 함수가 전달받는 매개변수와 호출하는 곳에서 전달하는 실제 인수 사이의 관계를 살펴보고자 한다."
   ]
  },
  {
   "cell_type": "markdown",
   "metadata": {},
   "source": [
    "#### 인수의 형이 이뮤터블인 경우"
   ]
  },
  {
   "cell_type": "code",
   "execution_count": 8,
   "metadata": {},
   "outputs": [
    {
     "name": "stdout",
     "output_type": "stream",
     "text": [
      "x의 값을 입력하세요.: 5\n",
      "1부터 5까지 정수의 합은 15입니다.\n"
     ]
    }
   ],
   "source": [
    "# 1부터 n까지 정수의 합 구하기\n",
    "\n",
    "def sum_1ton(n):\n",
    "    \"\"\"1부터 n까지 정수의 합\"\"\"\n",
    "    s = 0\n",
    "    while n > 0:\n",
    "        s += n\n",
    "        n -= 1\n",
    "    return s\n",
    "\n",
    "x = int(input('x의 값을 입력하세요.: '))\n",
    "print(f'1부터 {x}까지 정수의 합은 {sum_1ton(x)}입니다.')"
   ]
  },
  {
   "cell_type": "markdown",
   "metadata": {},
   "source": [
    "- 함수에 실제 전달되는 인수는 x로 호출하기 전의 값을 그대로 갖는다.\n",
    "- 반면 매개변수 n의 값은 5 -> 4 -> 3 -> 2 -> 1 -> 0으로 함수가 종료될 때의 값은 0이 된다.\n",
    "- 이는 매개변수 n으로 실제 인수 x의 값이 복사된 것이 아니다."
   ]
  },
  {
   "cell_type": "markdown",
   "metadata": {},
   "source": [
    "- 파이썬 에서는 매개변수에 실제 인수의 값이 대입이 되고, 참조하는 주소가 같게끔 값이 대입된다.\n",
    "- 여기서 x은 int로 이뮤터블이기 때문에 값이 변경되지 않고, n은 값이 업데이트 되는 시점에서 다른 객체를 참조하게 된다. 따라서 함수가 종료될 때 n이 참조하는 곳은 정수 0이 된다."
   ]
  },
  {
   "cell_type": "markdown",
   "metadata": {},
   "source": [
    "- 함수의 실행 시작 시점에서 매개변수는 실제 인수와 같은 객체를 참조한다. 이때 매개변수의 값을 변경하면 인수의 형에 따라서 다음과 같이 구분된다.  \n",
    "-> 인수가 이뮤터블일 때 : 매개변수의 값을 변경하면 다른 객체를 생성하고, 그 객체에 대한 참조로 업데이트 된다. 매개변수의 값을 변경하더라도 실제 인수에는 영향을 주지 않는다.  \n",
    "-> 인수가 뮤터블일 때 : 함수 안에서 매개변수의 값을 변경하면 객체 자체를 업데이트한다. 따라서 매개변수의 값을 변경하면 호출하는 쪽의 실제 인수 값이 변경된다."
   ]
  },
  {
   "cell_type": "markdown",
   "metadata": {},
   "source": [
    "#### 인수의 형이 뮤터블인 경우"
   ]
  },
  {
   "cell_type": "code",
   "execution_count": 1,
   "metadata": {},
   "outputs": [
    {
     "name": "stdout",
     "output_type": "stream",
     "text": [
      "x = [11, 22, 33, 44, 55]\n",
      "업데이트할 인덱스를 선택하세요.: 2\n",
      "새로운 값을 입력하세요.: 99\n",
      "x = [11, 22, 99, 44, 55]\n"
     ]
    }
   ],
   "source": [
    "# 리스트에서 임의의 원솟값을 업데이트하기\n",
    "\n",
    "def change(lst, idx, val):\n",
    "    \"\"\"lst[idx]의 값을 val로 업데이트\"\"\"\n",
    "    lst[idx] = val\n",
    "    \n",
    "x = [11, 22, 33, 44, 55]\n",
    "print('x =', x)\n",
    "\n",
    "index = int(input('업데이트할 인덱스를 선택하세요.: '))\n",
    "value = int(input('새로운 값을 입력하세요.: '))\n",
    "\n",
    "change(x, index, value)\n",
    "print(f'x = {x}')"
   ]
  },
  {
   "cell_type": "markdown",
   "metadata": {},
   "source": [
    "### 소수 나열하기\n",
    "어떤 정수 이하의 소수를 모두 나열하는 알고리즘을 살펴보자.  \n",
    "어떤 정수 n은 2부터 n-1까지의 어떤 정수로도 나누어지지 않는다면 소수임을 확인할 수 있다."
   ]
  },
  {
   "cell_type": "code",
   "execution_count": 2,
   "metadata": {},
   "outputs": [
    {
     "name": "stdout",
     "output_type": "stream",
     "text": [
      "2\n",
      "3\n",
      "5\n",
      "7\n",
      "11\n",
      "13\n",
      "17\n",
      "19\n",
      "23\n",
      "29\n",
      "31\n",
      "37\n",
      "41\n",
      "43\n",
      "47\n",
      "53\n",
      "59\n",
      "61\n",
      "67\n",
      "71\n",
      "73\n",
      "79\n",
      "83\n",
      "89\n",
      "97\n",
      "101\n",
      "103\n",
      "107\n",
      "109\n",
      "113\n",
      "127\n",
      "131\n",
      "137\n",
      "139\n",
      "149\n",
      "151\n",
      "157\n",
      "163\n",
      "167\n",
      "173\n",
      "179\n",
      "181\n",
      "191\n",
      "193\n",
      "197\n",
      "199\n",
      "211\n",
      "223\n",
      "227\n",
      "229\n",
      "233\n",
      "239\n",
      "241\n",
      "251\n",
      "257\n",
      "263\n",
      "269\n",
      "271\n",
      "277\n",
      "281\n",
      "283\n",
      "293\n",
      "307\n",
      "311\n",
      "313\n",
      "317\n",
      "331\n",
      "337\n",
      "347\n",
      "349\n",
      "353\n",
      "359\n",
      "367\n",
      "373\n",
      "379\n",
      "383\n",
      "389\n",
      "397\n",
      "401\n",
      "409\n",
      "419\n",
      "421\n",
      "431\n",
      "433\n",
      "439\n",
      "443\n",
      "449\n",
      "457\n",
      "461\n",
      "463\n",
      "467\n",
      "479\n",
      "487\n",
      "491\n",
      "499\n",
      "503\n",
      "509\n",
      "521\n",
      "523\n",
      "541\n",
      "547\n",
      "557\n",
      "563\n",
      "569\n",
      "571\n",
      "577\n",
      "587\n",
      "593\n",
      "599\n",
      "601\n",
      "607\n",
      "613\n",
      "617\n",
      "619\n",
      "631\n",
      "641\n",
      "643\n",
      "647\n",
      "653\n",
      "659\n",
      "661\n",
      "673\n",
      "677\n",
      "683\n",
      "691\n",
      "701\n",
      "709\n",
      "719\n",
      "727\n",
      "733\n",
      "739\n",
      "743\n",
      "751\n",
      "757\n",
      "761\n",
      "769\n",
      "773\n",
      "787\n",
      "797\n",
      "809\n",
      "811\n",
      "821\n",
      "823\n",
      "827\n",
      "829\n",
      "839\n",
      "853\n",
      "857\n",
      "859\n",
      "863\n",
      "877\n",
      "881\n",
      "883\n",
      "887\n",
      "907\n",
      "911\n",
      "919\n",
      "929\n",
      "937\n",
      "941\n",
      "947\n",
      "953\n",
      "967\n",
      "971\n",
      "977\n",
      "983\n",
      "991\n",
      "997\n",
      "나눗셈을 실행한 횟수: 78022\n"
     ]
    }
   ],
   "source": [
    "# 1,000 이하의 소수를 나열하기\n",
    "\n",
    "counter = 0\n",
    "\n",
    "for n in range(2, 1001):\n",
    "    for i in range(2, n):\n",
    "        counter += 1\n",
    "        if n % i == 0: # 나누어 떨어지면 소수가 아님\n",
    "            break # 반복은 더이상 필요하지 않기때문에 중단\n",
    "    else: # 끝까지 나누어 떨어지지 않으면 다음을 수행\n",
    "        print(n)\n",
    "print(f'나눗셈을 실행한 횟수: {counter}')"
   ]
  },
  {
   "cell_type": "markdown",
   "metadata": {},
   "source": [
    "- 위의 예시에서는 불필요한 연산의 횟수가 너무 많다. 단순히 소수들을 이용해 나누어 보는 것으로 나누어 떨어지는지 아닌지 확인할 수 있다.\n",
    "- 소수를 구하는 과정에서 지금까지 구한 소수를 배열 prime의 원소로 저장하여 연산의 횟수를 줄이도록 해보자."
   ]
  },
  {
   "cell_type": "code",
   "execution_count": 3,
   "metadata": {},
   "outputs": [
    {
     "name": "stdout",
     "output_type": "stream",
     "text": [
      "2\n",
      "3\n",
      "5\n",
      "7\n",
      "11\n",
      "13\n",
      "17\n",
      "19\n",
      "23\n",
      "29\n",
      "31\n",
      "37\n",
      "41\n",
      "43\n",
      "47\n",
      "53\n",
      "59\n",
      "61\n",
      "67\n",
      "71\n",
      "73\n",
      "79\n",
      "83\n",
      "89\n",
      "97\n",
      "101\n",
      "103\n",
      "107\n",
      "109\n",
      "113\n",
      "127\n",
      "131\n",
      "137\n",
      "139\n",
      "149\n",
      "151\n",
      "157\n",
      "163\n",
      "167\n",
      "173\n",
      "179\n",
      "181\n",
      "191\n",
      "193\n",
      "197\n",
      "199\n",
      "211\n",
      "223\n",
      "227\n",
      "229\n",
      "233\n",
      "239\n",
      "241\n",
      "251\n",
      "257\n",
      "263\n",
      "269\n",
      "271\n",
      "277\n",
      "281\n",
      "283\n",
      "293\n",
      "307\n",
      "311\n",
      "313\n",
      "317\n",
      "331\n",
      "337\n",
      "347\n",
      "349\n",
      "353\n",
      "359\n",
      "367\n",
      "373\n",
      "379\n",
      "383\n",
      "389\n",
      "397\n",
      "401\n",
      "409\n",
      "419\n",
      "421\n",
      "431\n",
      "433\n",
      "439\n",
      "443\n",
      "449\n",
      "457\n",
      "461\n",
      "463\n",
      "467\n",
      "479\n",
      "487\n",
      "491\n",
      "499\n",
      "503\n",
      "509\n",
      "521\n",
      "523\n",
      "541\n",
      "547\n",
      "557\n",
      "563\n",
      "569\n",
      "571\n",
      "577\n",
      "587\n",
      "593\n",
      "599\n",
      "601\n",
      "607\n",
      "613\n",
      "617\n",
      "619\n",
      "631\n",
      "641\n",
      "643\n",
      "647\n",
      "653\n",
      "659\n",
      "661\n",
      "673\n",
      "677\n",
      "683\n",
      "691\n",
      "701\n",
      "709\n",
      "719\n",
      "727\n",
      "733\n",
      "739\n",
      "743\n",
      "751\n",
      "757\n",
      "761\n",
      "769\n",
      "773\n",
      "787\n",
      "797\n",
      "809\n",
      "811\n",
      "821\n",
      "823\n",
      "827\n",
      "829\n",
      "839\n",
      "853\n",
      "857\n",
      "859\n",
      "863\n",
      "877\n",
      "881\n",
      "883\n",
      "887\n",
      "907\n",
      "911\n",
      "919\n",
      "929\n",
      "937\n",
      "941\n",
      "947\n",
      "953\n",
      "967\n",
      "971\n",
      "977\n",
      "983\n",
      "991\n",
      "997\n",
      "나눗셈을 실행한 횟수: 14622\n"
     ]
    }
   ],
   "source": [
    "# 1,000 이하의 소수를 나열하기(알고리즘 개선 1)\n",
    "\n",
    "counter = 0 # 나눗셈 횟수를 카운트\n",
    "ptr = 0 # 이미 찾은 소수의 개수\n",
    "prime = [None] * 500 # 소수를 저장하는 배열\n",
    "\n",
    "prime[ptr] = 2 # 2는 소수이므로 초기값으로 지정\n",
    "ptr += 1\n",
    "\n",
    "for n in range(3, 1001, 2): # 짝수는 소수가 아니므로 홀수만 대상으로 설정\n",
    "    for i in range(1, ptr): #이미 찾은 소수로 나눔\n",
    "        counter += 1\n",
    "        if n % prime[i] == 0: # 나누어 떨어지면 소수가 아님\n",
    "            break\n",
    "    else: # 끝까지 나누어 떨어지지 않았아면 소수로 배열에 추가\n",
    "        prime[ptr] = n\n",
    "        ptr += 1\n",
    "        \n",
    "for i in range(ptr): # ptr의 소수를 출력\n",
    "    print(prime[i])\n",
    "print(f'나눗셈을 실행한 횟수: {counter}')"
   ]
  },
  {
   "cell_type": "markdown",
   "metadata": {},
   "source": [
    "- 위의 두 알고리즘의 비교를 통해 다음과 같은 사실을 알 수 있다.\n",
    "- 같은 결과를 얻는 알고리즘은 여러 개일 수 있다.\n",
    "- 빠른 알고리즘은 더 많은 메모리를 요구한다."
   ]
  },
  {
   "cell_type": "markdown",
   "metadata": {},
   "source": [
    "***** 제곱을 구하는게 제곱근을 구하는 것 보다 연산이 더 빠르다. 항상 유의해서 사용하자!"
   ]
  },
  {
   "cell_type": "code",
   "execution_count": 4,
   "metadata": {},
   "outputs": [
    {
     "name": "stdout",
     "output_type": "stream",
     "text": [
      "2\n",
      "3\n",
      "5\n",
      "7\n",
      "11\n",
      "13\n",
      "17\n",
      "19\n",
      "23\n",
      "29\n",
      "31\n",
      "37\n",
      "41\n",
      "43\n",
      "47\n",
      "53\n",
      "59\n",
      "61\n",
      "67\n",
      "71\n",
      "73\n",
      "79\n",
      "83\n",
      "89\n",
      "97\n",
      "101\n",
      "103\n",
      "107\n",
      "109\n",
      "113\n",
      "127\n",
      "131\n",
      "137\n",
      "139\n",
      "149\n",
      "151\n",
      "157\n",
      "163\n",
      "167\n",
      "173\n",
      "179\n",
      "181\n",
      "191\n",
      "193\n",
      "197\n",
      "199\n",
      "211\n",
      "223\n",
      "227\n",
      "229\n",
      "233\n",
      "239\n",
      "241\n",
      "251\n",
      "257\n",
      "263\n",
      "269\n",
      "271\n",
      "277\n",
      "281\n",
      "283\n",
      "293\n",
      "307\n",
      "311\n",
      "313\n",
      "317\n",
      "331\n",
      "337\n",
      "347\n",
      "349\n",
      "353\n",
      "359\n",
      "367\n",
      "373\n",
      "379\n",
      "383\n",
      "389\n",
      "397\n",
      "401\n",
      "409\n",
      "419\n",
      "421\n",
      "431\n",
      "433\n",
      "439\n",
      "443\n",
      "449\n",
      "457\n",
      "461\n",
      "463\n",
      "467\n",
      "479\n",
      "487\n",
      "491\n",
      "499\n",
      "503\n",
      "509\n",
      "521\n",
      "523\n",
      "541\n",
      "547\n",
      "557\n",
      "563\n",
      "569\n",
      "571\n",
      "577\n",
      "587\n",
      "593\n",
      "599\n",
      "601\n",
      "607\n",
      "613\n",
      "617\n",
      "619\n",
      "631\n",
      "641\n",
      "643\n",
      "647\n",
      "653\n",
      "659\n",
      "661\n",
      "673\n",
      "677\n",
      "683\n",
      "691\n",
      "701\n",
      "709\n",
      "719\n",
      "727\n",
      "733\n",
      "739\n",
      "743\n",
      "751\n",
      "757\n",
      "761\n",
      "769\n",
      "773\n",
      "787\n",
      "797\n",
      "809\n",
      "811\n",
      "821\n",
      "823\n",
      "827\n",
      "829\n",
      "839\n",
      "853\n",
      "857\n",
      "859\n",
      "863\n",
      "877\n",
      "881\n",
      "883\n",
      "887\n",
      "907\n",
      "911\n",
      "919\n",
      "929\n",
      "937\n",
      "941\n",
      "947\n",
      "953\n",
      "967\n",
      "971\n",
      "977\n",
      "983\n",
      "991\n",
      "997\n",
      "곱셈과 나눗셈을 실행한 횟수: 3774\n"
     ]
    }
   ],
   "source": [
    "# 1,000 이하의 소수를 나열하기(알고리즘 개선 2)\n",
    "\n",
    "counter = 0 # 곱셈과 나눗셈을 합한 횟수\n",
    "ptr = 0 # 이미 찾은 소수의 개수\n",
    "prime = [None] * 500 # 소수를 저장하는 배열\n",
    "\n",
    "prime[ptr] = 2 # 2는 소수\n",
    "ptr += 1\n",
    "\n",
    "prime[ptr] = 3 # 3은 소수\n",
    "ptr += 1\n",
    "\n",
    "for n in range(5, 1001, 2): # 홀수만을 대상으로 지정\n",
    "    i = 1\n",
    "    while prime[i] * prime[i] <= n:\n",
    "        counter += 2\n",
    "        if n % prime[i] == 0: # 나누어 떨어진다면 소수가 아니므로 반복 중단\n",
    "            break\n",
    "        i += 1\n",
    "    else:\n",
    "        prime[ptr] = n\n",
    "        ptr += 1\n",
    "        counter += 1\n",
    "        \n",
    "for i in range(ptr):\n",
    "    print(prime[i])\n",
    "print(f'곱셈과 나눗셈을 실행한 횟수: {counter}')"
   ]
  },
  {
   "cell_type": "markdown",
   "metadata": {},
   "source": [
    "### copy와 deepcopy\n",
    "- copy : copy를 통해 리스트를 복사한 후 원소값을 변경하면 복사된 원솟값까지 변경될 수 있다. 이는 리스트의 얕은 복사를 하기 때문이다. 얕은 복사에서는 리스트 안의 모든 원소가 참조하는 곳까지 복사하게 된다. 리스트 x가 참조하는 곳이 달라지면 y가 참조하는 곳도 달라지게 된다. 이러한 상황을 피하기 위해서 원소 수준으로의 복사가 필요하고 이를 deepcopy라고 한다.\n",
    "- deepcopy : 리스트의 원소 뿐만 아니라 구성원소(원소의 원소)까지 복사를 한다. 깊은 복사는 참조값 뿐만 아니라 참조하는 객체 자체를 복사한다. 객체가 갖는 모든 멤버를 복사하므로 전체 복사라고도 한다."
   ]
  },
  {
   "cell_type": "code",
   "execution_count": null,
   "metadata": {},
   "outputs": [],
   "source": []
  }
 ],
 "metadata": {
  "kernelspec": {
   "display_name": "Python 3",
   "language": "python",
   "name": "python3"
  },
  "language_info": {
   "codemirror_mode": {
    "name": "ipython",
    "version": 3
   },
   "file_extension": ".py",
   "mimetype": "text/x-python",
   "name": "python",
   "nbconvert_exporter": "python",
   "pygments_lexer": "ipython3",
   "version": "3.8.1"
  }
 },
 "nbformat": 4,
 "nbformat_minor": 4
}
