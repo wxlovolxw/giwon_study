{
 "cells": [
  {
   "cell_type": "markdown",
   "metadata": {},
   "source": [
    "# 스택이란?  \n",
    "스택(stack)은 데이터를 임시 저장할 때 사용하는 구조로, 데이터의 입력과 출력의 순서가 후입선출(LIFO)방식이다.  \n",
    "LIFO(last in first out)은 가장 나중에 넣은 데이터를 가장 먼저 꺼낸다는 뜻이다."
   ]
  },
  {
   "cell_type": "markdown",
   "metadata": {},
   "source": [
    "- 스택에서 데이터를 넣는 작업은 푸시(push)라 하고, 꺼내는 작업은 팝(pop)이라 한다.\n",
    "- 푸시하고 팝을 진행하는 데이터의 윗 부분을 꼭대기(top)이라 하고, 아랫부분은 바닥(bottom)이라 한다."
   ]
  },
  {
   "cell_type": "markdown",
   "metadata": {},
   "source": [
    "## 스택 구현하기"
   ]
  },
  {
   "cell_type": "markdown",
   "metadata": {},
   "source": [
    "#### 스택 배열 : stk  \n",
    "푸시한 데이터를 저장하는 스택 본체인 list형 배열. 인덱스가 0인 원소를 스택의 바닥이라고 한다. 따라서 가장 먼저 푸시를 통해 데이터를 저장하는 곳이 stk[0]이 된다."
   ]
  },
  {
   "cell_type": "markdown",
   "metadata": {},
   "source": [
    "#### 스택 크기 : capacity  \n",
    "스택의 최대 크기를 나타내는 int형 정수. stk의 원소수인 len(stk)와 일치한다."
   ]
  },
  {
   "cell_type": "markdown",
   "metadata": {},
   "source": [
    "#### 스택 포인터 : ptr  \n",
    "스택에 쌓여있는 데이터의 갯수를 나타내는 정수값을 스택포인터라고 한다. 스택이 비어있다면 그 값이 0이 되며 가득 차 있다면 capacity와 같은 값을 갖게 된다.  \n",
    "  \n",
    "***** 스택 포인터의 범위를 지정할 때 주의할 점  \n",
    "FixedStack 클래스를 사용하여 스택 작업을 수행하는 경우 스택 포인터 ptr의 값은 반드시 0 이상이거나 capacity값 이하가 된다. 따라서 is_empty(), is_full() 함수는 <,>= 연산자가 아니라 ==를 사용해 다음과 같이 정의할 수 있다."
   ]
  },
  {
   "cell_type": "code",
   "execution_count": 1,
   "metadata": {},
   "outputs": [],
   "source": [
    "def is_empty(self) -> bool:\n",
    "    \"\"\"스택이 비어 있는지 판단\"\"\"\n",
    "    return self.ptr == 0"
   ]
  },
  {
   "cell_type": "code",
   "execution_count": 2,
   "metadata": {},
   "outputs": [],
   "source": [
    "def is_full(self) -> bool:\n",
    "    \"\"\"스택이 가득 차 있는지 판단\"\"\"\n",
    "    return self.ptr == self.capacity"
   ]
  },
  {
   "cell_type": "markdown",
   "metadata": {},
   "source": [
    "하지만 프로그램의 오류 등으로 ptr이 0보다 작아지거나 capacity보다 커질 가능성도 있으므로 부등호를 사용하여 판단하면 스택 배열의 최솟값과 최댓값을 벗어나는 것을 막을 수 있다."
   ]
  },
  {
   "cell_type": "markdown",
   "metadata": {},
   "source": [
    "#### 예외 처리 클래스 Empty  \n",
    "pop() 함수 또는 peek() 함수를 호출할 때 스택이 비어 있으면 내보내는 예외 처리입니다."
   ]
  },
  {
   "cell_type": "markdown",
   "metadata": {},
   "source": [
    "#### 예외 처리 클래스 Full\n",
    "push() 함수를 호출할 때 스택이 가득 차 있으면 내보내는 예외 처리입니다."
   ]
  },
  {
   "cell_type": "markdown",
   "metadata": {},
   "source": [
    "#### 초기화하는 __init__() 함수  \n",
    "__init__()함수는 스택 배열을 생성하는 등의 준비 작업을 한다. 매개변수 capacity로 전달받은 값을 스택의 크기를 나타내는 필드인 capacity로 복사하여, 원소 수가 capacity이고 모든 원소가 None인 리스트형 stk를 생성한다. 이때 스택이 비어있으므로 스택 초인트 ptr의 값을 0으로 초기화한다."
   ]
  },
  {
   "cell_type": "markdown",
   "metadata": {},
   "source": [
    "#### 쌓여 있는 데이터 개수를 알아내는 __len__() 함수\n",
    "__len__() 함수는 스택에 쌓여 있는 데이터 개수를 반환한다. ptr의 값을 그대로 반환한다."
   ]
  },
  {
   "cell_type": "markdown",
   "metadata": {},
   "source": [
    "#### 스택이 비어 있는지를 판단하는 is_empty() 함수\n",
    "is_empty() 함수는 데이터가 하나도 쌓여 있지 않은 상태, 즉 스택이 비어 있는지 판단한다. 스택이 비어있으면 True, 그렇지 않으면 False를 반환한다."
   ]
  },
  {
   "cell_type": "markdown",
   "metadata": {},
   "source": [
    "#### 스택이 가득 차 있는지를 판단하는 함수 is_full() 함수\n",
    "is_full() 함수는 더 이상 데이터를 푸시할 수 없는 상태, 즉 스택이 가득 차 있는지 판단한다. 스택이 가득 차 있으면 True, 그렇지 않으면 False를 반환한다."
   ]
  },
  {
   "cell_type": "code",
   "execution_count": 3,
   "metadata": {},
   "outputs": [],
   "source": [
    "# 고정 길이 스택 클래스 FixedStack 구현하기\n",
    "\n",
    "from typing import Any\n",
    "\n",
    "class FixedStack:\n",
    "    \"\"\"고정 길이 스택 클래스\"\"\"\n",
    "\n",
    "    class Empty(Exception):\n",
    "        \"\"\"비어 있는 FixedStack에 팝 또는 피크를 내보내는 예외 처리\"\"\"\n",
    "        pass\n",
    "\n",
    "    class Full(Exception):\n",
    "        \"\"\"가득 찬 FixedStack에 푸시할 때 내보내는 예외 처리\"\"\"\n",
    "        pass\n",
    "\n",
    "    def __init__(self, capacity: int = 256) -> None:\n",
    "        \"\"\"스택 초기화\"\"\"\n",
    "        self.stk = [None] * capacity    # 스택 본체\n",
    "        self.capacity = capacity        # 스택의 크기\n",
    "        self.ptr = 0                    # 스택 포인터\n",
    "\n",
    "    def __len__(self) -> int:\n",
    "        \"\"\"스택에 쌓여 있는 데이터 개수를 반환\"\"\"\n",
    "        return self.ptr\n",
    "\n",
    "    def is_empty(self) -> bool:\n",
    "        \"\"\"스택이 비어 있는지 판단\"\"\"\n",
    "        return self.ptr <= 0\n",
    "\n",
    "    def is_full(self) -> bool:\n",
    "        \"\"\"스택이 가득 차 있는지 판단\"\"\"\n",
    "        return self.ptr >= self.capacity"
   ]
  },
  {
   "cell_type": "markdown",
   "metadata": {},
   "source": [
    "**** 예외 처리의 기본 구조  \n",
    "프로그램을 실행하다가 오류가 발생하면 예외 처리 메시지를 보낼 수 있다. 예외 처리를 수행하면 오류를 복구하여 프로그램이 실행되다가 중단되는 것을 피할 수 있다.  \n",
    "또한 예외 처리하는 코드와 오류가 발생할 때 대체하는 코드를 분리할 수 있다는 장점이 있다.  \n",
    "try문을 사용하여 예외 처리를 할 수 있다."
   ]
  },
  {
   "cell_type": "markdown",
   "metadata": {},
   "source": [
    "#### 데이터를 푸시하는 push() 함수  \n",
    "push() 함수는 스택에 데이터를 추가한다. 그러나 스택이 가득 차 더이상 데이터를 추가할 수 없을 때 FixedStack.Full을 통해 예외처리를 보낸다.  \n",
    "스택이 가득 차 있지 않을 때, 배열 원소 stk[ptr]에 데이터를 저장하고 ptr을 1 증가시킨다."
   ]
  },
  {
   "cell_type": "markdown",
   "metadata": {},
   "source": [
    "#### 데이터를 팝하는 pop() 함수  \n",
    "pop() 함수는 스택의 꼭대기에서 데이터를 꺼내 그 값을 반환한다. 그러나 스택이 비어서 팝할 수 없는 경우에는 FixedStack.Empty를 통해 예외처리를 보낸다.  \n",
    "스택이 비어있지 않으면, 스택포인터 ptr의 값을 1 감소시키고 stk[ptr]의 값을 반환한다."
   ]
  },
  {
   "cell_type": "markdown",
   "metadata": {},
   "source": [
    "#### 데이터를 들여다보는 peek() 함수  \n",
    "peek() 함수는 스택의 꼭대기 데이터를 들여다 본다. 그러나 스택이 비어있는 경우에는 예외 처리를 내보낸다. 스택이 비어있지 않다면 꼭대기 원소 stk[ptr]의 값을 반환한다. 데이터의 입출력이 없으므로 ptr은 변하지 않는다."
   ]
  },
  {
   "cell_type": "code",
   "execution_count": 4,
   "metadata": {},
   "outputs": [],
   "source": [
    "    def push(self, value: Any) -> None:\n",
    "        \"\"\"스택에 value를 푸시(데이터를 넣음)\"\"\"\n",
    "        if self.is_full():          # 스택이 가득 차 있는 경우\n",
    "            raise FixedStack.Full   # 예외 처리 발생\n",
    "        self.stk[self.ptr] = value\n",
    "        self.ptr += 1\n",
    "\n",
    "    def pop(self) -> Any:\n",
    "        \"\"\"스택에서 데이터를 팝(꼭대기 데이터를 꺼냄)\"\"\"\n",
    "        if self.is_empty():         # 스택이 비어있는 경우\n",
    "            raise FixedStack.Empty  # 예외 처리 발생\n",
    "        self.ptr -= 1\n",
    "        return self.stk[self.ptr]\n",
    "    \n",
    "    def peek(self) -> Any:\n",
    "        \"\"\"스택에서 데이터 피크(꼭대기 데이터를 들여다봄\"\"\"\n",
    "        if self.is_empty():         # 스택이 비어있는 경우\n",
    "            raise FixedStack.Empty  # 예외 처리 발생\n",
    "        return self.stk[self.ptr - 1]\n",
    "    \n",
    "    def clear(self) -> None:\n",
    "        \"\"\"스택을 비움(모든 데이터를 삭제)\"\"\"\n",
    "        self.ptr = 0"
   ]
  },
  {
   "cell_type": "code",
   "execution_count": null,
   "metadata": {},
   "outputs": [],
   "source": []
  }
 ],
 "metadata": {
  "kernelspec": {
   "display_name": "Python 3",
   "language": "python",
   "name": "python3"
  },
  "language_info": {
   "codemirror_mode": {
    "name": "ipython",
    "version": 3
   },
   "file_extension": ".py",
   "mimetype": "text/x-python",
   "name": "python",
   "nbconvert_exporter": "python",
   "pygments_lexer": "ipython3",
   "version": "3.8.1"
  }
 },
 "nbformat": 4,
 "nbformat_minor": 4
}
