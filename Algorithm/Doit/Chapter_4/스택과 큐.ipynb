{
 "cells": [
  {
   "cell_type": "markdown",
   "metadata": {},
   "source": [
    "# 스택이란?  \n",
    "스택(stack)은 데이터를 임시 저장할 때 사용하는 구조로, 데이터의 입력과 출력의 순서가 후입선출(LIFO)방식이다.  \n",
    "LIFO(last in first out)은 가장 나중에 넣은 데이터를 가장 먼저 꺼낸다는 뜻이다."
   ]
  },
  {
   "cell_type": "markdown",
   "metadata": {},
   "source": [
    "- 스택에서 데이터를 넣는 작업은 푸시(push)라 하고, 꺼내는 작업은 팝(pop)이라 한다.\n",
    "- 푸시하고 팝을 진행하는 데이터의 윗 부분을 꼭대기(top)이라 하고, 아랫부분은 바닥(bottom)이라 한다."
   ]
  },
  {
   "cell_type": "markdown",
   "metadata": {},
   "source": [
    "## 스택 구현하기"
   ]
  },
  {
   "cell_type": "markdown",
   "metadata": {},
   "source": [
    "#### 스택 배열 : stk  \n",
    "푸시한 데이터를 저장하는 스택 본체인 list형 배열. 인덱스가 0인 원소를 스택의 바닥이라고 한다. 따라서 가장 먼저 푸시를 통해 데이터를 저장하는 곳이 stk[0]이 된다."
   ]
  },
  {
   "cell_type": "markdown",
   "metadata": {},
   "source": [
    "#### 스택 크기 : capacity  \n",
    "스택의 최대 크기를 나타내는 int형 정수. stk의 원소수인 len(stk)와 일치한다."
   ]
  },
  {
   "cell_type": "markdown",
   "metadata": {},
   "source": [
    "#### 스택 포인터 : ptr  \n",
    "스택에 쌓여있는 데이터의 갯수를 나타내는 정수값을 스택포인터라고 한다. 스택이 비어있다면 그 값이 0이 되며 가득 차 있다면 capacity와 같은 값을 갖게 된다.  \n",
    "  \n",
    "***** 스택 포인터의 범위를 지정할 때 주의할 점  \n",
    "FixedStack 클래스를 사용하여 스택 작업을 수행하는 경우 스택 포인터 ptr의 값은 반드시 0 이상이거나 capacity값 이하가 된다. 따라서 is_empty(), is_full() 함수는 <,>= 연산자가 아니라 ==를 사용해 다음과 같이 정의할 수 있다."
   ]
  },
  {
   "cell_type": "code",
   "execution_count": 1,
   "metadata": {},
   "outputs": [],
   "source": [
    "def is_empty(self) -> bool:\n",
    "    \"\"\"스택이 비어 있는지 판단\"\"\"\n",
    "    return self.ptr == 0"
   ]
  },
  {
   "cell_type": "code",
   "execution_count": 2,
   "metadata": {},
   "outputs": [],
   "source": [
    "def is_full(self) -> bool:\n",
    "    \"\"\"스택이 가득 차 있는지 판단\"\"\"\n",
    "    return self.ptr == self.capacity"
   ]
  },
  {
   "cell_type": "markdown",
   "metadata": {},
   "source": [
    "하지만 프로그램의 오류 등으로 ptr이 0보다 작아지거나 capacity보다 커질 가능성도 있으므로 부등호를 사용하여 판단하면 스택 배열의 최솟값과 최댓값을 벗어나는 것을 막을 수 있다."
   ]
  },
  {
   "cell_type": "markdown",
   "metadata": {},
   "source": [
    "#### 예외 처리 클래스 Empty  \n",
    "pop() 함수 또는 peek() 함수를 호출할 때 스택이 비어 있으면 내보내는 예외 처리입니다."
   ]
  },
  {
   "cell_type": "markdown",
   "metadata": {},
   "source": [
    "#### 예외 처리 클래스 Full\n",
    "push() 함수를 호출할 때 스택이 가득 차 있으면 내보내는 예외 처리입니다."
   ]
  },
  {
   "cell_type": "markdown",
   "metadata": {},
   "source": [
    "#### 초기화하는 __init__() 함수  \n",
    "__init__()함수는 스택 배열을 생성하는 등의 준비 작업을 한다. 매개변수 capacity로 전달받은 값을 스택의 크기를 나타내는 필드인 capacity로 복사하여, 원소 수가 capacity이고 모든 원소가 None인 리스트형 stk를 생성한다. 이때 스택이 비어있으므로 스택 초인트 ptr의 값을 0으로 초기화한다."
   ]
  },
  {
   "cell_type": "markdown",
   "metadata": {},
   "source": [
    "#### 쌓여 있는 데이터 개수를 알아내는 __len__() 함수\n",
    "__len__() 함수는 스택에 쌓여 있는 데이터 개수를 반환한다. ptr의 값을 그대로 반환한다."
   ]
  },
  {
   "cell_type": "markdown",
   "metadata": {},
   "source": [
    "#### 스택이 비어 있는지를 판단하는 is_empty() 함수\n",
    "is_empty() 함수는 데이터가 하나도 쌓여 있지 않은 상태, 즉 스택이 비어 있는지 판단한다. 스택이 비어있으면 True, 그렇지 않으면 False를 반환한다."
   ]
  },
  {
   "cell_type": "markdown",
   "metadata": {},
   "source": [
    "#### 스택이 가득 차 있는지를 판단하는 함수 is_full() 함수\n",
    "is_full() 함수는 더 이상 데이터를 푸시할 수 없는 상태, 즉 스택이 가득 차 있는지 판단한다. 스택이 가득 차 있으면 True, 그렇지 않으면 False를 반환한다."
   ]
  },
  {
   "cell_type": "code",
   "execution_count": 3,
   "metadata": {},
   "outputs": [],
   "source": [
    "# 고정 길이 스택 클래스 FixedStack 구현하기\n",
    "\n",
    "from typing import Any\n",
    "\n",
    "class FixedStack:\n",
    "    \"\"\"고정 길이 스택 클래스\"\"\"\n",
    "\n",
    "    class Empty(Exception):\n",
    "        \"\"\"비어 있는 FixedStack에 팝 또는 피크를 내보내는 예외 처리\"\"\"\n",
    "        pass\n",
    "\n",
    "    class Full(Exception):\n",
    "        \"\"\"가득 찬 FixedStack에 푸시할 때 내보내는 예외 처리\"\"\"\n",
    "        pass\n",
    "\n",
    "    def __init__(self, capacity: int = 256) -> None:\n",
    "        \"\"\"스택 초기화\"\"\"\n",
    "        self.stk = [None] * capacity    # 스택 본체\n",
    "        self.capacity = capacity        # 스택의 크기\n",
    "        self.ptr = 0                    # 스택 포인터\n",
    "\n",
    "    def __len__(self) -> int:\n",
    "        \"\"\"스택에 쌓여 있는 데이터 개수를 반환\"\"\"\n",
    "        return self.ptr\n",
    "\n",
    "    def is_empty(self) -> bool:\n",
    "        \"\"\"스택이 비어 있는지 판단\"\"\"\n",
    "        return self.ptr <= 0\n",
    "\n",
    "    def is_full(self) -> bool:\n",
    "        \"\"\"스택이 가득 차 있는지 판단\"\"\"\n",
    "        return self.ptr >= self.capacity"
   ]
  },
  {
   "cell_type": "markdown",
   "metadata": {},
   "source": [
    "**** 예외 처리의 기본 구조  \n",
    "프로그램을 실행하다가 오류가 발생하면 예외 처리 메시지를 보낼 수 있다. 예외 처리를 수행하면 오류를 복구하여 프로그램이 실행되다가 중단되는 것을 피할 수 있다.  \n",
    "또한 예외 처리하는 코드와 오류가 발생할 때 대체하는 코드를 분리할 수 있다는 장점이 있다.  \n",
    "try문을 사용하여 예외 처리를 할 수 있다."
   ]
  },
  {
   "cell_type": "markdown",
   "metadata": {},
   "source": [
    "#### 데이터를 푸시하는 push() 함수  \n",
    "push() 함수는 스택에 데이터를 추가한다. 그러나 스택이 가득 차 더이상 데이터를 추가할 수 없을 때 FixedStack.Full을 통해 예외처리를 보낸다.  \n",
    "스택이 가득 차 있지 않을 때, 배열 원소 stk[ptr]에 데이터를 저장하고 ptr을 1 증가시킨다."
   ]
  },
  {
   "cell_type": "markdown",
   "metadata": {},
   "source": [
    "#### 데이터를 팝하는 pop() 함수  \n",
    "pop() 함수는 스택의 꼭대기에서 데이터를 꺼내 그 값을 반환한다. 그러나 스택이 비어서 팝할 수 없는 경우에는 FixedStack.Empty를 통해 예외처리를 보낸다.  \n",
    "스택이 비어있지 않으면, 스택포인터 ptr의 값을 1 감소시키고 stk[ptr]의 값을 반환한다."
   ]
  },
  {
   "cell_type": "markdown",
   "metadata": {},
   "source": [
    "#### 데이터를 들여다보는 peek() 함수  \n",
    "peek() 함수는 스택의 꼭대기 데이터를 들여다 본다. 그러나 스택이 비어있는 경우에는 예외 처리를 내보낸다. 스택이 비어있지 않다면 꼭대기 원소 stk[ptr]의 값을 반환한다. 데이터의 입출력이 없으므로 ptr은 변하지 않는다."
   ]
  },
  {
   "cell_type": "code",
   "execution_count": 4,
   "metadata": {},
   "outputs": [],
   "source": [
    "    def push(self, value: Any) -> None:\n",
    "        \"\"\"스택에 value를 푸시(데이터를 넣음)\"\"\"\n",
    "        if self.is_full():          # 스택이 가득 차 있는 경우\n",
    "            raise FixedStack.Full   # 예외 처리 발생\n",
    "        self.stk[self.ptr] = value\n",
    "        self.ptr += 1\n",
    "\n",
    "    def pop(self) -> Any:\n",
    "        \"\"\"스택에서 데이터를 팝(꼭대기 데이터를 꺼냄)\"\"\"\n",
    "        if self.is_empty():         # 스택이 비어있는 경우\n",
    "            raise FixedStack.Empty  # 예외 처리 발생\n",
    "        self.ptr -= 1\n",
    "        return self.stk[self.ptr]\n",
    "    \n",
    "    def peek(self) -> Any:\n",
    "        \"\"\"스택에서 데이터 피크(꼭대기 데이터를 들여다봄\"\"\"\n",
    "        if self.is_empty():         # 스택이 비어있는 경우\n",
    "            raise FixedStack.Empty  # 예외 처리 발생\n",
    "        return self.stk[self.ptr - 1]\n",
    "    \n",
    "    def clear(self) -> None:\n",
    "        \"\"\"스택을 비움(모든 데이터를 삭제)\"\"\"\n",
    "        self.ptr = 0"
   ]
  },
  {
   "cell_type": "markdown",
   "metadata": {},
   "source": [
    "#### 스택의 모든 데이터를 삭제하는 clear() 함수  \n",
    "clear() 함수는 스택에 쌓여 있는 데이터를 모두 삭제하여 빈 스택을 만든다. 스택 포인터 ptr의 값을 0으로 설정해 주면 된다."
   ]
  },
  {
   "cell_type": "markdown",
   "metadata": {},
   "source": [
    "***** raise 문을 통한 예외 처리  \n",
    "파이썬에서는 raise statement를 통해 의도적으로 예외 처리를 할 수 있다. FixedStack 클래스의 push(), pop(), peek() 함수는 스택이 가득 차 있거나 비어 있을 때 raise 문을 통해 예외 처리를 내보낸다.  \n",
    "ValueError, ZeroDivisionError 클래스 등 파이썬이 제공하는 예외 클래스를 표준 내장 예외 처리라고 한다.  \n",
    "표준 내장 예외 처리는 BaseException 클래스와 직간접적으로 파생한 클래스를 제공한다.  \n",
    "  \n",
    "프로그래머가 정의하는 사용자 정의 예외 처리는 BaseException 클래스가 아니라 Exception 클래스에서 파생하는 것이 원칙이다. 이번 챕터에서 사용하는 Empty와 Full은 모두 Exception 클래스의 하위 클래스로 정의한다."
   ]
  },
  {
   "cell_type": "markdown",
   "metadata": {},
   "source": [
    "#### 데이터를 검색하는 find() 함수\n",
    "스택 본체의 배열 stk 안에 value와 값이 같은 데이터가 포함되어 있는지 확인하고, 포함되어 있다면 배열의 어디에 포함되어있는지를 검색한다."
   ]
  },
  {
   "cell_type": "markdown",
   "metadata": {},
   "source": [
    "- find() 함수는 꼭대기에서 바닥쪽으로 선형 탐색을 통해 해당 value를 갖는 인덱스가 어디 있는지를 탐색한다. 발견한다면 인덱스를 반환하며, 반환하지 못한다면 -1를 반환한다."
   ]
  },
  {
   "cell_type": "markdown",
   "metadata": {},
   "source": [
    "#### 데이터 개수를 세는 count() 함수\n",
    "count() 함수는 스택에 쌓여 있는 데이터(value)의 개수를 구하여 반환한다."
   ]
  },
  {
   "cell_type": "markdown",
   "metadata": {},
   "source": [
    "#### 데이터가 포함되어 있는지 판단하는 __contain__() 함수  \n",
    "__contain__() 함수는 스택에 데이터(value)가 있는지 판단한다. 있으면 True를 반환하고 그렇지 않으면 False를 반환한다. 이는 멤버십 판단 연산자 in을 사용해도 수행할 수 있다."
   ]
  },
  {
   "cell_type": "code",
   "execution_count": 5,
   "metadata": {},
   "outputs": [],
   "source": [
    "    def find(self, value: Any) -> Any:\n",
    "        \"\"\"스택에서 value를 찾아 인덱스를 반환(없으면 -1를 반환)\"\"\"\n",
    "        for i in range(self.ptr -1, -1, -1):     # 꼭대기 쪽부터 선형 검색. ptr를 -1까지 1씩 감소시키며 탐색\n",
    "            if self.stk[i] == value:\n",
    "                return i        # 검색 성공\n",
    "            return -1           # 검색 실패\n",
    "\n",
    "    def count(self, value: Any) -> bool:\n",
    "        \"\"\"스택에 있는 value의 개수를 반환\"\"\"\n",
    "        c = 0\n",
    "        for i in range(self.ptr):   # 바닥 쪽부터 선형 검색\n",
    "            if self.stk[i] == value:    # 검색 성공\n",
    "                c += 1\n",
    "        return c\n",
    "\n",
    "    def __contain__(self, value: Any) -> bool:\n",
    "        \"\"\"스택에 value가 있는지 판단\"\"\"\n",
    "        return self.count(value)\n",
    "\n",
    "    def dump(self) -> None:\n",
    "        \"\"\"덤프(스택 안의 모든 데이터를 바닥부터 꼭대기 순으로 출력)\"\"\"\n",
    "        if self.is_empty():     # 스택이 비어 있음\n",
    "            print('스택이 비어 있습니다.')\n",
    "        else:\n",
    "            print(self.stk[:self.ptr])"
   ]
  },
  {
   "cell_type": "markdown",
   "metadata": {},
   "source": [
    "#### 스택의 모든 데이터를 출력하는 dump() 함수\n",
    "dump() 함수는 스택에 쌓여 있는 ptr개의 모든 데이터를 바닥부터 꼭대기까지 순서대로 출력한다. 스택이 비어 잇으면 '스택이 비어 있습니다.'를 출력한다."
   ]
  },
  {
   "cell_type": "markdown",
   "metadata": {},
   "source": [
    "#### 시작과 끝에 언더스코어(_)가 두개 붙은 함수\n",
    "1) __len__() 함수 : 클래스에 __len__() 함수를 정의하면 클래스형의 인스턴스를 __len__() 함수에 전달할 수 있다. 클래스형 인스턴스 obj에 대한 __len__() 함수를 호출하는 obj.__len__(), 간단히는 len(obj)로 작성할 수 있다.  \n",
    "2) __contain__() 함수: 클래스에 __contain__() 함수를 정의하면 클래스형의 인스턴스에 멤버십 판단 연산자인 in을 정용할 수 있다. 클래스형 인스턴스 obj에 대한 __contain__() 함수를 호출하는 obj.__contain__(x) 를 간단히 x in obj로 작성할 수 있다."
   ]
  },
  {
   "cell_type": "code",
   "execution_count": 6,
   "metadata": {},
   "outputs": [
    {
     "name": "stdout",
     "output_type": "stream",
     "text": [
      "현재 데이터 개수: 0 / 64\n",
      "(1)푸시    (2)팝    (3)피크    (4)검색    (5)덤프    (6)종료: 6\n"
     ]
    }
   ],
   "source": [
    "# 고정 길이 스택 클래스(FixedStack)를 사용하기\n",
    "\n",
    "from enum import Enum\n",
    "from fixed_stack import FixedStack\n",
    "\n",
    "Menu = Enum('Menu', ['푸시', '팝', '피크', '검색', '덤프', '종료'])\n",
    "\n",
    "def select_menu() -> Menu:\n",
    "    \"\"\"메뉴 선택\"\"\"\n",
    "    s = [f'({m.value}){m.name}' for m in Menu]\n",
    "    while True:\n",
    "        print(*s, sep = '    ', end='')\n",
    "        n = int(input(': '))\n",
    "        if 1 <= n <= len(Menu):\n",
    "            return Menu(n)\n",
    "\n",
    "s = FixedStack(64)          # 최대 64개를 푸시할 수 있는 스택\n",
    "\n",
    "while True:\n",
    "    print(f'현재 데이터 개수: {len(s)} / {s.capacity}')\n",
    "    menu = select_menu()    # 메뉴 선택\n",
    "\n",
    "    if menu == Menu.푸시:     # 푸시\n",
    "        x = int(input('데이터를 입력하세요.: '))\n",
    "        try:\n",
    "            s.push(x)\n",
    "        except FixedStack.Full:\n",
    "            print('스택이 가득 차 있습니다.')\n",
    "\n",
    "    elif menu == Menu.팝:    # 팝\n",
    "        try:\n",
    "            x = s.pop()\n",
    "            print(f'팝한 데이터는 {x}입니다.')\n",
    "        except FixedStack.Empty:\n",
    "            print('스택이 비어 있습니다.')\n",
    "\n",
    "    elif menu == Menu.피크:   # 피크\n",
    "        try:\n",
    "            x = s.peek()\n",
    "            print(f'피크한 데이터는 {x}입니다.')\n",
    "        except FixedStack.Empty:\n",
    "            print('스택이 비어 있습니다.')\n",
    "\n",
    "    elif menu == Menu.검색:   # 검색\n",
    "        x = int(input('검색할 값을 입력하세요.: '))\n",
    "        if x in s:\n",
    "            print(f'{s.count(x)}개 포함되고, 맨 앞의 위치는 {s.find(x)}입니다.')\n",
    "        else:\n",
    "            print('검색값을 찾을 수 없습니다.')\n",
    "\n",
    "    elif menu == Menu.덤프:   # 덤프\n",
    "        s.dump()\n",
    "        \n",
    "    else:\n",
    "        break"
   ]
  },
  {
   "cell_type": "code",
   "execution_count": 7,
   "metadata": {},
   "outputs": [
    {
     "name": "stdout",
     "output_type": "stream",
     "text": [
      "현재 데이터 개수: 0 / 64\n",
      "(1)푸시   (2)팝   (3)피크   (4)검색   (5)덤프   (6)종료: 6\n"
     ]
    }
   ],
   "source": [
    "# [Do it! 실습 4-2] 고정 길이 스택 FixedStack의 사용하기\n",
    "\n",
    "from enum import Enum\n",
    "from fixed_stack import FixedStack\n",
    "\n",
    "Menu = Enum('Menu', ['푸시', '팝', '피크', '검색', '덤프', '종료'])\n",
    "\n",
    "def select_menu() -> Menu:\n",
    "    \"\"\"메뉴 선택\"\"\"\n",
    "    s = [f'({m.value}){m.name}' for m in Menu]\n",
    "    while True:\n",
    "        print(*s, sep = '   ', end='')\n",
    "        n = int(input(': '))\n",
    "        if 1 <= n <= len(Menu):\n",
    "            return Menu(n)\n",
    "\n",
    "s = FixedStack(64)  # 최대 64개를 푸시할 수 있는 스택\n",
    "\n",
    "while True:\n",
    "    print(f'현재 데이터 개수: {len(s)} / {s.capacity}')\n",
    "    menu = select_menu()  # 메뉴 선택\n",
    "    \n",
    "    if menu == Menu.푸시:  # 푸시\n",
    "        x = int(input('데이터를 입력하세요.: '))\n",
    "        try:\n",
    "            s.push(x)\n",
    "        except FixedStack.Full:\n",
    "            print('스택이 가득 차 있습니다.')\n",
    "\n",
    "    elif menu == Menu.팝:  # 팝\n",
    "        try:\n",
    "            x = s.pop()\n",
    "            print(f'팝한 데이터는 {x}입니다.')\n",
    "        except FixedStack.Empty:\n",
    "            print('스택이 비어 있습니다.')\n",
    "\n",
    "    elif menu == Menu.피크:  # 피크\n",
    "        try:\n",
    "            x = s.peek()\n",
    "            print(f'피크한 데이터는 {x}입니다.')\n",
    "        except FixedStack.Empty:\n",
    "            print('스택이 비어 있습니다.')\n",
    "\n",
    "    elif menu == Menu.검색:  # 검색\n",
    "        x = int(input('검색할 값을 입력하세요.: '))\n",
    "        if x in s:\n",
    "            print(f'{s.count(x)}개 포함되고, 맨 앞의 위치는 {s.find(x)}입니다.')\n",
    "        else:\n",
    "            print('검색값을 찾을 수 없습니다.')\n",
    "\n",
    "    elif menu == Menu.덤프:  # 덤프\n",
    "        s.dump()\n",
    "\n",
    "    else:\n",
    "        break"
   ]
  },
  {
   "cell_type": "code",
   "execution_count": 8,
   "metadata": {},
   "outputs": [],
   "source": [
    "# 고정 길이 스택 클래스 구현하기(collections.deque를 사용)\n",
    "\n",
    "from typing import Any\n",
    "from collections import deque\n",
    "\n",
    "class Stack:\n",
    "    \"\"\"고정 길이 스택 클래스(collections.deque)를 사용\"\"\"\n",
    "\n",
    "    def __init__(self, maxlen: int = 256) -> None:\n",
    "        \"\"\"스택 초기화\"\"\"\n",
    "        self.capacity = maxlen\n",
    "        self.__stk = deque([], maxlen)\n",
    "\n",
    "    def __len__(self) -> int:\n",
    "        \"\"\"스택이 쌓여 있는 데이터 개수를 반환\"\"\"\n",
    "        return len(self.__stk)\n",
    "\n",
    "    def is_empty(self) -> bool:\n",
    "        \"\"\"스택이 비어 있는지 판단\"\"\"\n",
    "        return not self.__stk\n",
    "\n",
    "    def is_full(self) -> bool:\n",
    "        \"\"\"스택이 가득 차 있는지 판단\"\"\"\n",
    "        return len(self.__stk) == self.__stk.maxlen\n",
    "\n",
    "    def push(self, value: Any) -> None:\n",
    "        \"\"\"스택에 value를 푸시\"\"\"\n",
    "        self.__stk.append(value)\n",
    "\n",
    "    def pop(self) -> Any:\n",
    "        \"\"\"스택에서 데이터를 팝\"\"\"\n",
    "        return self.__stk.pop()\n",
    "\n",
    "    def peek(self) -> Any:\n",
    "        \"\"\"스택에서 데이터를 피크\"\"\"\n",
    "        return self.__stk[-1]\n",
    "\n",
    "    def clear(self) -> None:\n",
    "        \"\"\"스택을 비움\"\"\"\n",
    "        self.__stk.clear()\n",
    "\n",
    "    def find(self, value: Any) -> Any:\n",
    "        \"\"\"스택에서 value를 찾아 인덱스를 반환(찾지 못하면 -1를 반환)\"\"\"\n",
    "        try:\n",
    "            return self.__stk.index(value)\n",
    "        except ValueError:\n",
    "            return -1\n",
    "\n",
    "    def count(self, value: Any) -> int:\n",
    "        \"\"\"스택에 포함되어 있는 value의 개수를 반환\"\"\"\n",
    "        return self.__stk.count(value)\n",
    "\n",
    "    def __contains__(self, value: Any) -> bool:\n",
    "        \"\"\"스택에 value가 포함되어 있는지 판단\"\"\"\n",
    "        return self.count(value)\n",
    "\n",
    "    def dump(self) -> int:\n",
    "        \"\"\"스택 안에 있는 모든 데이터를 나열(바닥에서 꼭대기 순으로 출력)\"\"\"\n",
    "        print(list(self.__stk))"
   ]
  },
  {
   "cell_type": "code",
   "execution_count": 9,
   "metadata": {},
   "outputs": [
    {
     "name": "stdout",
     "output_type": "stream",
     "text": [
      "현재 데이터 개수: 0 / 64\n",
      "(1)푸시    (2)팝    (3)피크    (4)검색    (5)덤프    (6)종료: 6\n"
     ]
    }
   ],
   "source": [
    "# 고정 길이 스택 클래스(Stack)를 사용하기\n",
    "\n",
    "from enum import Enum\n",
    "from stack import Stack\n",
    "\n",
    "Menu = Enum('Menu', ['푸시', '팝', '피크', '검색', '덤프', '종료'])\n",
    "\n",
    "def select_menu() -> Menu:\n",
    "    \"\"\"메뉴 선택\"\"\"\n",
    "    s = [f'({m.value}){m.name}' for m in Menu]\n",
    "    while True:\n",
    "        print(*s, sep = '    ', end='')\n",
    "        n = int(input(': '))\n",
    "        if 1 <= n <= len(Menu):\n",
    "            return Menu(n)\n",
    "\n",
    "s = Stack(64)          # 최대 64개를 푸시할 수 있는 스택\n",
    "\n",
    "while True:\n",
    "    print(f'현재 데이터 개수: {len(s)} / {s.capacity}')\n",
    "    menu = select_menu()    # 메뉴 선택\n",
    "\n",
    "    if menu == Menu.푸시:     # 푸시\n",
    "        x = int(input('데이터를 입력하세요.: '))\n",
    "        try:\n",
    "            s.push(x)\n",
    "        except FixedStack.Full:\n",
    "            print('스택이 가득 차 있습니다.')\n",
    "\n",
    "    elif menu == Menu.팝:    # 팝\n",
    "        try:\n",
    "            x = s.pop()\n",
    "            print(f'팝한 데이터는 {x}입니다.')\n",
    "        except FixedStack.Empty:\n",
    "            print('스택이 비어 있습니다.')\n",
    "\n",
    "    elif menu == Menu.피크:   # 피크\n",
    "        try:\n",
    "            x = s.peek()\n",
    "            print(f'피크한 데이터는 {x}입니다.')\n",
    "        except FixedStack.Empty:\n",
    "            print('스택이 비어 있습니다.')\n",
    "\n",
    "    elif menu == Menu.검색:   # 검색\n",
    "        x = int(input('검색할 값을 입력하세요.: '))\n",
    "        if x in s:\n",
    "            print(f'{s.count(x)}개 포함되고, 맨 앞의 위치는 {s.find(x)}입니다.')\n",
    "        else:\n",
    "            print('검색값을 찾을 수 없습니다.')\n",
    "\n",
    "    elif menu == Menu.덤프:   # 덤프\n",
    "\n",
    "        s.dump()\n",
    "\n",
    "    else:\n",
    "        break"
   ]
  },
  {
   "cell_type": "markdown",
   "metadata": {},
   "source": [
    "# 큐란?  \n",
    "큐(queue)는 스택과 같이 데이터를 임시 저장하는 자료구조이다."
   ]
  },
  {
   "cell_type": "markdown",
   "metadata": {},
   "source": [
    "- 큐는 가장 먼저 넣은 데이터를 가장 먼저 꺼내는 선입선출(FIFO - first in first out) 구조이다.\n",
    "- 큐에 데이터를 추가하는 작업을 인큐(enqueue), 꺼내는 작업을 디큐(dequeue)라고 한다.\n",
    "- 데이터를 꺼내는 쪽을 프런트(front), 넣는 쪽을 리어(rear)라고 한다."
   ]
  },
  {
   "cell_type": "markdown",
   "metadata": {},
   "source": [
    "### 배열을 통해 큐 구현하기"
   ]
  },
  {
   "cell_type": "markdown",
   "metadata": {},
   "source": [
    "- 데이터를 인큐할 때, 맨 끝 데이터가 저장되어 있는 다음 원소에 해당 데이터를 저장한다. 이때, 처리의 복잡도는 O(1)이고 비교적 적은 비용(cost)으로 구현할 수 있다.\n",
    "- 데이터를 디큐할 때는 que[0]에 저장되어 있는 값을 꺼내면서 모든 원소들을 앞쪽으로 옮겨야 한다. 이 때 처리의 복잡도가 O(n)이 된다. 이는 매우 비효율적인 프로그램이므로 다른 방식을 선택해야 한다."
   ]
  },
  {
   "cell_type": "markdown",
   "metadata": {},
   "source": [
    "### 링 버퍼로 큐 구현하기"
   ]
  },
  {
   "cell_type": "markdown",
   "metadata": {},
   "source": [
    "- 디큐시에 배열 안의 원소를 옮기지 않는 큐를 위해 배열의 맨 끝 원소 뒤에 맨 앞의 원소가 연결되는 형태의 자료구조를 생각해보자.\n",
    "- 여기서 프런트와 리어는 논리적인 데이터의 순서일 뿐 배열의 물리적 원소의 순서는 아니다.\n",
    "- 링 버퍼를 통해 큐를 구현하면 원소를 옮길 필요없이 front와 rear의 값을 업데이트하는 것 만으로 인큐와 디큐를 수행할 수 있다. 모든 처리의 복잡도는 O(1)이 된다."
   ]
  },
  {
   "cell_type": "code",
   "execution_count": 10,
   "metadata": {},
   "outputs": [],
   "source": [
    "# 고정 길이 큐 클래스 FixedQueue 구현하기\n",
    "\n",
    "from typing import Any\n",
    "\n",
    "class FixedQueue:\n",
    "\n",
    "    class Empty(Exception):\n",
    "        \"\"\"비어 있는 FixedQueue에서 디큐 또는 피크할 때 내보내는 예외 처리\"\"\"\n",
    "        pass\n",
    "\n",
    "    class Full(Exception):\n",
    "        \"\"\"가득 차 있는 FixedQueue에서 인큐할 때 내보내는 예외 처리\"\"\"\n",
    "        pass\n",
    "\n",
    "    def __init__(self, capacity: int) -> None:\n",
    "        \"\"\"큐 초기화\"\"\"\n",
    "        self.no = 0                     # 현재 데이터 개수\n",
    "        self.front = 0                  # 맨 앞 원소 커서\n",
    "        self.rear = 0                   # 맨 뒤 원소 커서\n",
    "        self.capacity = capacity        # 큐의 크기\n",
    "        self.que = [None] * capacity    # 큐의 본체\n",
    "        \n",
    "    def __len__(self) -> int:\n",
    "        \"\"\"큐에 있는 모든 데이터 개수를 반환\"\"\"\n",
    "        return self.no\n",
    "\n",
    "    def is_empty(self) -> bool:\n",
    "        \"\"\"큐가 비어 있는지 판단\"\"\"\n",
    "        return self.no <= 0\n",
    "\n",
    "    def is_full(self) -> bool:\n",
    "        \"\"\"큐가 가득 차 있는지 판단\"\"\"\n",
    "        return self.no >= self.cpapacity"
   ]
  },
  {
   "cell_type": "markdown",
   "metadata": {},
   "source": [
    "#### 예외 처리 클래스 Empty와 Full  \n",
    "비어 있는 큐에 deque(), peek() 함수를 호출할 때 내보내는 예외 처리는 Empty 클래스, 가득 차 있는 큐에 enque() 함수를 호출할 때 내보내는 예외 처리는 Full 클래스이다."
   ]
  },
  {
   "cell_type": "markdown",
   "metadata": {},
   "source": [
    "#### 초기화 하는 __init__() 함수  \n",
    "__init__() 함수는 큐 배열을 생성하는 등의 준비 작업을 하며 다음과 같은 5개의 변수에 값을 설정한다."
   ]
  },
  {
   "cell_type": "markdown",
   "metadata": {},
   "source": [
    "- que : 큐의 배열로서 밀어 넣는 데이터를 저장하는 list형 배열입니다.\n",
    "- capacity : 큐의 최대 크기를 나타내는 int형 정수이다. 이 값은 배열 que의 원소 수와 일치한다.\n",
    "- front, rear : 맨 앞의 원소, 맨 끝의 원소를 나타내는 인덱스이다. 큐에 넣은 데이터 중에 가장 처음에 넣은 맨 앞 원소의 인덱스가 front이고, 가장 마지막에 넣은 맨 끝 원소의 바로 다음 인덱스가 rear이다. rear는 다음에 인큐할 때 데이터를 저장하는 원소의 인덱스이다.\n",
    "- no : 큐에 쌓여 있는 데이터 개수를 나타내는 int형 정수이다. 변수 front와 rear의 값이 같을 경우에 큐가 비어있는지 또는 가득 차 있는지 구별하기 위해 필요하다. 큐가 비어있는 경우에는 no가 0이 되고, 가득 차 있는 경우에는 capacity와 같은 값이 된다."
   ]
  },
  {
   "cell_type": "markdown",
   "metadata": {},
   "source": [
    "- 큐가 비어있을 때와 가득 차 있을때 front와 rear의 값이 같기 때문에, 이를 이용해 비어있거나 가득 차 있을 때를 구분할 수 없다. 대신 no를 통해 구분해 준다."
   ]
  },
  {
   "cell_type": "markdown",
   "metadata": {},
   "source": [
    "#### 추가한 데이터 개수를 알아내는 __len__() 함수  \n",
    "__len__()함수는 큐에 추가한 데이터 개수를 반환한다. no의 값은 그대로 반환한다."
   ]
  },
  {
   "cell_type": "markdown",
   "metadata": {},
   "source": [
    "#### 큐가 비어있는지 판단하는 is_empty() 함수  \n",
    "is_empty() 함수는 큐가 비어 있는지를 판단한다. 비어 있으면 True, 그렇지 않으면 False를 반환한다."
   ]
  },
  {
   "cell_type": "markdown",
   "metadata": {},
   "source": [
    "#### 큐가 가득 차 있는지 판단하는 is_full() 함수  \n",
    "is_full() 함수는 큐가 가득 차 있어서 더 이상 데이터를 추가할 수 없는 상태인지 검사한다. 가득 차 있으면 True, 그렇지 않으면 False를 반환한다."
   ]
  },
  {
   "cell_type": "markdown",
   "metadata": {},
   "source": [
    "#### 데이터를 넣는 enque() 함수  \n",
    "enque() 함수는 큐에 데이터를 인큐한다. 하지만 큐가 가득 차서 인큐할 수 없는 경우 예외 처리인 FixedQueue.Full을 내보낸다."
   ]
  },
  {
   "cell_type": "code",
   "execution_count": 11,
   "metadata": {},
   "outputs": [],
   "source": [
    "def enque(self, x: Any) -> None:\n",
    "    \"\"\"데이터 x를 인큐\"\"\"\n",
    "    if self.is_full():\n",
    "        raise FixedQueue.Full # 큐가 가득 차 있는 경우 예외 처리를 발생\n",
    "    self.que[self.rear] = x\n",
    "    self.rear += 1\n",
    "    self.no += 1\n",
    "    if self.rear == self.capacity:\n",
    "        self.rear = 0"
   ]
  },
  {
   "cell_type": "markdown",
   "metadata": {},
   "source": [
    "- 맨 앞부터 순서대로 값을 입력하고, que[rear]에 인큐하는 해당 데이터를 저장하고 rear와 no의 값을 1씩 증가시키면 인큐가 완료된다.\n",
    "- 만약 배열의 맨 끝에 값을 인큐하면 rear의 값이 capacity의 값과 같아지게 된다. 이런 경우에는 rear에 1을 더한 값이 capacity와 같다면 rear 값을 0으로 되돌리면 된다."
   ]
  },
  {
   "cell_type": "markdown",
   "metadata": {},
   "source": [
    "#### 데이터를 꺼내는 deque() 함수  \n",
    "deque() 함수는 큐의 맨 앞부터 데이터를 디큐하여 그 값을 반환한다. 그러나 큐가 비어있어 디큐할 수 없는 경우에는 예외 처리인 FixedQueue.Empty를 내보낸다."
   ]
  },
  {
   "cell_type": "code",
   "execution_count": 12,
   "metadata": {
    "scrolled": true
   },
   "outputs": [],
   "source": [
    "def deque(self) -> Any:\n",
    "    \"\"\"데이터를 디큐\"\"\"\n",
    "    if self.is_empty():\n",
    "        raise FixedQueue.Empty #큐가 비어 있는 경우 예외 처리 발생\n",
    "    x = self.que[self.front]\n",
    "    self.front += 1\n",
    "    self.no -= 1\n",
    "    if self.front == self.capacity:\n",
    "        self.front = 0\n",
    "    return x"
   ]
  },
  {
   "cell_type": "markdown",
   "metadata": {},
   "source": [
    "- 큐의 맨 앞의 원소 queue[front]의 값을 꺼내고 front는 1을 증가, no는 1을 감소시킴으로서 디큐가 수행된다.\n",
    "- 만약 디큐를 통해 front가 capacity와 같아지게 된다면 0으로 되돌려준다."
   ]
  },
  {
   "cell_type": "markdown",
   "metadata": {},
   "source": [
    "#### 데이터를 들여다보는 peek() 함수  \n",
    "peek() 함수는 맨 앞 데이터, 즉 다음 디큐에서 꺼낼 데이터를 들여다본다. 이때 값을 반환할 뿐, 꺼내지는 않으므로 front, rear, no의 값은 변하지 않는다. 만약 비어있다면 예외처리인 FixedQueue.Empty를 내보낸다."
   ]
  },
  {
   "cell_type": "code",
   "execution_count": 13,
   "metadata": {},
   "outputs": [],
   "source": [
    "def peek(self) -> Any:\n",
    "    \"\"\"큐에 데이터를 피크(맨 앞 데이터를 들여다봄)\"\"\"\n",
    "    if self.is_empty():\n",
    "        raise FixedQueue.Empty # 큐가 비어 있는 경우 예외 처리를 발행\n",
    "    return self.que[self.front]"
   ]
  },
  {
   "cell_type": "markdown",
   "metadata": {},
   "source": [
    "#### 검색하는 find() 함수  \n",
    "find() 함수는 큐의 배열에서 value와 같은 데이터가 포함되어있는 위치를 알아낸다.데이터의 맨 앞(front)에서 맨 끝쪽으로 선형 검색을 통해 수행한다.  \n",
    "이때 스캔에 사용하는 index는 (i+front)%capacity 이다.  \n",
    "검색에 성공하면 찾은 인덱스를 반환하고, 실패하면 -1을 반환한다."
   ]
  },
  {
   "cell_type": "code",
   "execution_count": 15,
   "metadata": {},
   "outputs": [],
   "source": [
    "def find(self, value: Any) -> Any:\n",
    "    \"\"\"큐에서 value를 찾아 인덱스를 반환(없으면 -1를 반환)\"\"\"\n",
    "    for i in range(self.no):\n",
    "        idx = (i + self.front) % self.capacity\n",
    "        if self.que[idx] == value: # 검색 성공\n",
    "            return idx\n",
    "    return -1 # 검색 실패"
   ]
  },
  {
   "cell_type": "markdown",
   "metadata": {},
   "source": [
    "#### 데이터의 개수를 세는 count() 함수  \n",
    "count() 함수는 큐에 있는 데이터(value)의 개수를 구하여 반환한다."
   ]
  },
  {
   "cell_type": "code",
   "execution_count": 17,
   "metadata": {},
   "outputs": [],
   "source": [
    "def count(self, value: Any) -> Any:\n",
    "    \"\"\"큐에 있는 value의 개수를 반환\"\"\"\n",
    "    c = 0\n",
    "    for i in range(self.no): # 큐 데이터를 선형 검색\n",
    "        idx = (i + self.front) % self.capacity\n",
    "        if self.que[idx] == value: # 검색 성공\n",
    "            c += 1 # 들어 있음\n",
    "    return c"
   ]
  },
  {
   "cell_type": "markdown",
   "metadata": {},
   "source": [
    "#### 데이터가 포함되어 있는지를 판단하는 __contain__() 함수  \n",
    "__contain__() 함수는 큐에 데이터(value)가 들어있는지를 판단한다. 들어있으면 True를, 그렇지 않으면 False를 반환한다. 내부의 count() 함수를 호출하여 구현한다."
   ]
  },
  {
   "cell_type": "code",
   "execution_count": 18,
   "metadata": {},
   "outputs": [],
   "source": [
    "def __contain__(self, value: Any) -> bool:\n",
    "    \"\"\"큐에 value가 있는지 판단\"\"\"\n",
    "    return self.count(value)"
   ]
  },
  {
   "cell_type": "markdown",
   "metadata": {},
   "source": [
    "#### 큐의 전체 원소를 삭제하는 clear() 함수  \n",
    "clear() 함수는 현재 큐에 들어있는 모든 데이터를 삭제한다.  \n",
    "no와 front, rear의 값을 모두 0으로 만듦으로서 수행된다."
   ]
  },
  {
   "cell_type": "code",
   "execution_count": 19,
   "metadata": {},
   "outputs": [],
   "source": [
    "def clear(self) -> None:\n",
    "    \"\"\"큐의 모든 데이터를 비움\"\"\"\n",
    "    self.no = self.front = self.rear = 0"
   ]
  },
  {
   "cell_type": "markdown",
   "metadata": {},
   "source": [
    "#### 큐의 전체 데이터를 출력하는 dump() 함수  \n",
    "dump() 함수는 큐에 들어있는 모든 데이터를 맨 앞부터 맨 끝 쪽으로 순서대로 출력한다. 하지만 큐가 비어있다면 '큐가 비어 있습니다.'를 출력한다."
   ]
  },
  {
   "cell_type": "code",
   "execution_count": 22,
   "metadata": {},
   "outputs": [],
   "source": [
    "def dump(self) -> None:\n",
    "    \"\"\"모든 데이터를 맨 앞부터 맨 끝 순으로 출력\"\"\"\n",
    "    if self.is_empty(): #큐가 비어 있음\n",
    "        print('큐가 비었습니다.')\n",
    "    else :\n",
    "        for i in range(self.no):\n",
    "            print(self.que[(i + self.front) % self.capacity], end='')\n",
    "        print()"
   ]
  },
  {
   "cell_type": "code",
   "execution_count": null,
   "metadata": {},
   "outputs": [],
   "source": []
  }
 ],
 "metadata": {
  "kernelspec": {
   "display_name": "Python 3",
   "language": "python",
   "name": "python3"
  },
  "language_info": {
   "codemirror_mode": {
    "name": "ipython",
    "version": 3
   },
   "file_extension": ".py",
   "mimetype": "text/x-python",
   "name": "python",
   "nbconvert_exporter": "python",
   "pygments_lexer": "ipython3",
   "version": "3.8.1"
  }
 },
 "nbformat": 4,
 "nbformat_minor": 4
}
