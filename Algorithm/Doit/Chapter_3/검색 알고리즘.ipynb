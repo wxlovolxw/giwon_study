{
 "cells": [
  {
   "cell_type": "markdown",
   "metadata": {},
   "source": [
    "# 선형검색\n",
    "직선 모양으로 늘어선 배열에서 검색하는 경우에 원하는 키값을 가진 원소를 찾을 때까지 맨 앞부터 스캔하여 순서대로 검색하는 알고리즘"
   ]
  },
  {
   "cell_type": "markdown",
   "metadata": {},
   "source": [
    "- 선형 검색의 종료 조건 1 : 검색하는 인덱스가 배열 전체의 길이와 같다면 스캔 종료\n",
    "- 선형 검색의 종료 조건 2 : 검색 대상의 항목이 키와 같다면 스캔 종료"
   ]
  },
  {
   "cell_type": "code",
   "execution_count": 1,
   "metadata": {},
   "outputs": [
    {
     "name": "stdout",
     "output_type": "stream",
     "text": [
      "원소 수를 입력하세요.: 7\n",
      "x[0]: 6\n",
      "x[1]: 4\n",
      "x[2]: 3\n",
      "x[3]: 2\n",
      "x[4]: 1\n",
      "x[5]: 2\n",
      "x[6]: 8\n",
      "검색할 값을 입력하세요.: 2\n",
      "검색값은 x[3]에 있습니다.\n"
     ]
    }
   ],
   "source": [
    "# while 문으로 작성한 선형 검색 알고리즘\n",
    "\n",
    "from typing import Any, Sequence\n",
    "\n",
    "def seq_search(a: Sequence, key: Any) -> int:\n",
    "    \"\"\"시퀀스 a에서 key와 같은 원소를 선형 검색(while문)\"\"\"\n",
    "    i = 0\n",
    "    \n",
    "    while True:\n",
    "        if i == len(a):\n",
    "            return -1 # 검색을 실패하여 -1를 반환\n",
    "        if a[i] == key:\n",
    "            return i # 검색을 성공하여 현재 검사한 배열의 인덱스를 반환\n",
    "        i += 1\n",
    "        \n",
    "if __name__ == '__main__':\n",
    "    num = int(input('원소 수를 입력하세요.: ')) # num값을 입력받음\n",
    "    x = [None] * num # 원소 수가 num인 배열을 생성\n",
    "    \n",
    "    for i in range(num):\n",
    "        x[i] = int(input(f'x[{i}]: '))\n",
    "        \n",
    "    ky = int(input('검색할 값을 입력하세요.: ')) # 검색할 키 ky를 입력받음\n",
    "    \n",
    "    idx = seq_search(x,ky) # ky와 값이 같은 원소를 x에서 검색\n",
    "    \n",
    "    if idx == -1:\n",
    "        print('검색값을 갖는 원소가 존재하지 않습니다.')\n",
    "    else:\n",
    "        print(f'검색값은 x[{idx}]에 있습니다.')"
   ]
  },
  {
   "cell_type": "markdown",
   "metadata": {},
   "source": [
    "***** 임의의 배열을 생성할 때, 미리 그 원소수를 설정해주는 것이 어떠한 장점이 있는가?  \n",
    "x = [] 와의 차이점"
   ]
  },
  {
   "cell_type": "code",
   "execution_count": 3,
   "metadata": {},
   "outputs": [
    {
     "name": "stdout",
     "output_type": "stream",
     "text": [
      "원소 수를 입력하세요.: 7\n",
      "x[0]: 6\n",
      "x[1]: 4\n",
      "x[2]: 3\n",
      "x[3]: 2\n",
      "x[4]: 1\n",
      "x[5]: 2\n",
      "x[6]: 8\n",
      "검색할 값을 입력하세요.: 2\n",
      "검색값을 갖는 원소가 존재하지 않습니다.\n"
     ]
    }
   ],
   "source": [
    "# for 문으로 작성한 선형 검색 알고리즘\n",
    "\n",
    "from typing import Any, Sequence\n",
    "\n",
    "def seq_search(a: Sequence, key: Any) -> int:\n",
    "    \"\"\"시퀀스 a에서 key와 값이 같은 원소를 선형 검색(for문)\"\"\"\n",
    "    for i in range(len(a)):\n",
    "        if a[i] == key:\n",
    "            return i # 검색 성공(인덱스를 반환)\n",
    "        return -1 # 검색 실패(-1를 반환)\n",
    "    \n",
    "if __name__ == '__main__':\n",
    "    num = int(input('원소 수를 입력하세요.: ')) # num값을 입력받음\n",
    "    x = [None] * num # 원소 수가 num인 배열을 생성\n",
    "    \n",
    "    for i in range(num):\n",
    "        x[i] = int(input(f'x[{i}]: '))\n",
    "        \n",
    "    ky = int(input('검색할 값을 입력하세요.: ')) # 검색할 키 ky를 입력받음\n",
    "    \n",
    "    idx = seq_search(x,ky) # ky와 값이 같은 원소를 x에서 검색\n",
    "    \n",
    "    if idx == -1:\n",
    "        print('검색값을 갖는 원소가 존재하지 않습니다.')\n",
    "    else:\n",
    "        print(f'검색값은 x[{idx}]에 있습니다.')"
   ]
  },
  {
   "cell_type": "markdown",
   "metadata": {},
   "source": [
    "- 원소의 값이 정렬되지 않은 배열에서 검색할 때 사용하는 유일한 방법이 선형 검색이다.\n",
    "- 같은 값을 갖는 key가 여러개라면 스캔 과정에서 맨 처음 발견한 원소를 반환한다."
   ]
  },
  {
   "cell_type": "markdown",
   "metadata": {},
   "source": [
    "- 앞서 작성한 seq_search() 함수는 임의의 자료형에 대해서 검색이 가능하다."
   ]
  },
  {
   "cell_type": "code",
   "execution_count": 6,
   "metadata": {},
   "outputs": [
    {
     "name": "stdout",
     "output_type": "stream",
     "text": [
      "실수를 검색합니다.\n",
      "주의: \"End\"를 입력하면 종료합니다.\n",
      "x[0]: 12.7\n",
      "x[1]: 3.14\n",
      "x[2]: 6.4\n",
      "x[3]: 7.2\n",
      "x[4]: End\n",
      "검색할 값을 입력하세요.: 6.4\n",
      "검색값은 x[2]에 있습니다.\n"
     ]
    }
   ],
   "source": [
    "# seq_search() 함수를 사용하여 실수 검색하기\n",
    "from ssearch_while import seq_search\n",
    "\n",
    "print('실수를 검색합니다.')\n",
    "print('주의: \"End\"를 입력하면 종료합니다.')\n",
    "\n",
    "number = 0\n",
    "x = [] # 빈 리스트 x를 생성\n",
    "\n",
    "while True:\n",
    "    s = input(f'x[{number}]: ')\n",
    "    if s == 'End':\n",
    "        break\n",
    "    x.append(float(s)) # 배열의 맨 끝에 원소를 추가\n",
    "    number += 1\n",
    "    \n",
    "ky = float(input('검색할 값을 입력하세요.: ')) # 검색할 키 ky를 입력받기\n",
    "\n",
    "idx = seq_search(x, ky) # ky와 값이 같은 원소를 x에서 검색\n",
    "if idx == -1:\n",
    "    print('검색값을 갖는 원소가 존재하지 않습니다.')\n",
    "else:\n",
    "    print(f'검색값은 x[{idx}]에 있습니다.')"
   ]
  },
  {
   "cell_type": "code",
   "execution_count": 7,
   "metadata": {},
   "outputs": [
    {
     "name": "stdout",
     "output_type": "stream",
     "text": [
      "(4, 7, 5.6, 2, 3.14, 1)에서 5.6의 인덱스는 2입니다.\n",
      "string에서 \"n\"의 인덱스는 4입니다.\n",
      "['DTS', 'AAC', 'FLAC']에서 \"DTS\"의 인덱스는 0입니다.\n"
     ]
    }
   ],
   "source": [
    "# seq_search() 함수를 사용하여 특정 인덱스 검색하기\n",
    "\n",
    "from ssearch_while import seq_search\n",
    "\n",
    "t = (4, 7, 5.6, 2, 3.14, 1)\n",
    "s = 'string'\n",
    "a = ['DTS', 'AAC', 'FLAC']\n",
    "\n",
    "print(f'{t}에서 5.6의 인덱스는 {seq_search(t,5.6)}입니다.')\n",
    "print(f'{s}에서 \"n\"의 인덱스는 {seq_search(s,\"n\")}입니다.')\n",
    "print(f'{a}에서 \"DTS\"의 인덱스는 {seq_search(a,\"DTS\")}입니다.')"
   ]
  },
  {
   "cell_type": "markdown",
   "metadata": {},
   "source": [
    "## 보초법  \n",
    "선형 검색은 반복시마다 두가지 조건을 사용하게 되며, 이때 발생하는 비용(cost)를 무시할 수 없다. 이런 비용을 절반으로 줄이는 방법이 보초법이다."
   ]
  },
  {
   "cell_type": "markdown",
   "metadata": {},
   "source": [
    "- 검색할 값과 같은 값을 원래 데이터의 마지막에 추가하여, 검색 실패시에 대한 if문을 작성하지 않아도 된다. 단 한번의 if문 만으로 원하는 검색 결과를 얻을 수 있다.\n",
    "- 배열의 마지막에 검색하고자 하는 키값을 저장한다. 이 값을 보초(sentinel)이라고 한다."
   ]
  },
  {
   "cell_type": "code",
   "execution_count": 1,
   "metadata": {},
   "outputs": [
    {
     "name": "stdout",
     "output_type": "stream",
     "text": [
      "원소 수를 입력하세요.: 7\n",
      "x[0]: 6\n",
      "x[1]: 4\n",
      "x[2]: 3\n",
      "x[3]: 2\n",
      "x[4]: 1\n",
      "x[5]: 2\n",
      "x[6]: 8\n",
      "검색할 값을 입력하세요.: 2\n",
      "검색값은 x[3]에 있습니다.\n"
     ]
    }
   ],
   "source": [
    "# 선형 검색 알고리즘을 보초법으로 수정\n",
    "\n",
    "from typing import Sequence, Any\n",
    "import copy\n",
    "\n",
    "def seq_search(seq: Sequence, key: Any) -> int:\n",
    "    \"\"\"시퀀스 seq에서 key와 일치하는 원소를 선형 검색(보초법)\"\"\"\n",
    "    a = copy.deepcopy(seq) # seq를 복사\n",
    "    a.append(key) # 보초 key를 추가\n",
    "    \n",
    "    i = 0\n",
    "    while True:\n",
    "        if a[i] == key:\n",
    "            break\n",
    "        i += 1\n",
    "    return -1 if i == len(seq) else i\n",
    "\n",
    "if __name__ == '__main__':\n",
    "    num = int(input('원소 수를 입력하세요.: ')) # num값을 입력\n",
    "    x = [None] * num # 원소 수가 num인 배열을 생성\n",
    "    \n",
    "    for i in range(num):\n",
    "        x[i] = int(input(f'x[{i}]: ')) \n",
    "        \n",
    "    ky = int(input('검색할 값을 입력하세요.: ')) # 검색할 ky를 입력받기\n",
    "    \n",
    "    idx = seq_search(x, ky) # 키 ky값과 같은 원소를 x에서 검색\n",
    "    \n",
    "    if idx == -1:\n",
    "        print('검색값을 갖는 원소가 존재하지 않습니다.')\n",
    "    else:\n",
    "        print(f'검색값은 x[{idx}]에 있습니다.')"
   ]
  },
  {
   "cell_type": "markdown",
   "metadata": {},
   "source": [
    "- 8~9행에서 배열 seq를 a로 복사하고 a의 마지막에 보초인 key르 추가한다. 그러면 원래의 배열 맨 끝에 보초가 추가된 새로운 배열이 만들어 진다.\n",
    "- 기존의 선형 탐색과 비교해 보면 매 루프마다 두번의 if문을 통해 비용이 많이 사용되는데, 보초법에서는 1번의 선형 검색 조건이 사라지게 되어 판단하기 위한 횟수가 절반으로 줄어들게 된다. if문의 판단 횟수는 기존보다 1회 늘어난다."
   ]
  },
  {
   "cell_type": "markdown",
   "metadata": {},
   "source": [
    "# 이진 검색(binary search)\n",
    "이진 검색을 사용하려면 배열의 데이터가 정렬(sort)되어 있어야 한다. 이진 검색은 선형 검색보다 빠르게 검색할 수 있다는 장점이 있다."
   ]
  },
  {
   "cell_type": "markdown",
   "metadata": {},
   "source": [
    "- 이진 탐색에는 세개의 포인터가 존재한다.  \n",
    "1) pl은 가장 왼쪽 값을 의미하는 포인터로 0번째 값으로 초기화 된다.  \n",
    "2) pr은 가장 오른쪽 값을 의미하는 포인터로 n-1번째 값으로 초기화 된다.  \n",
    "3) pc는 pl과 pr의 중앙에 존재하는 값으로 (n-1)//2로 초기화 된다.  \n",
    "  \n",
    "  \n",
    "- 이진 검색에서 범위를 좁히는 과정은 다음과 같다.  \n",
    "1) 해당 값이 key보다 작다면 중앙(pc)에서 오른쪽으로 한 칸 이동하여 새로운 왼쪽 끝 pl로 설정하고, 검색 범위를 뒤쪽 절반으로 좁힌다.  \n",
    "2) 해당 값이 key보다 크다면 중앙(pc)에서 왼쪽으로 한 칸 이동하여 새로운 오른쪽 끝 pr로 설정하고, 검색 범위를 앞쪽 절반으로 좁힌다.  \n",
    "  \n",
    "  \n",
    "- 이진 검색의 종료조건은 다음과 같다.  \n",
    "1) 해당 값이 key와 일치하는 경우  \n",
    "2) 검색 범위가 더 이상 없는 경우"
   ]
  },
  {
   "cell_type": "code",
   "execution_count": 3,
   "metadata": {},
   "outputs": [
    {
     "name": "stdout",
     "output_type": "stream",
     "text": [
      "원소 수를 입력하세요.: 7\n",
      "배열 데이터를 오름차순으로 입력하세요.\n",
      "x[0]: 1\n",
      "x[1]: 2\n",
      "x[2]: 3\n",
      "x[3]: 5\n",
      "x[4]: 7\n",
      "x[5]: 8\n",
      "x[6]: 9\n",
      "검색할 값을 입력하세요.: 5\n",
      "검색값은 x[3]에 있습니다.\n"
     ]
    }
   ],
   "source": [
    "# 이진 검색 알고리즘\n",
    "\n",
    "from typing import Any, Sequence\n",
    "\n",
    "def bin_search(a: Sequence, key: Any) -> int:\n",
    "    \"\"\"시퀀스 a에서 key와 일치하는 원소를 이진 검색\"\"\"\n",
    "    pl = 0 # 검색 범위 맨 앞의 원소의 인덱스\n",
    "    pr = len(a) - 1 # 검색 범위 맨 뒤의 원소의 인덱스\n",
    "    \n",
    "    while True:\n",
    "        pc = (pl + pr) // 2 # 중앙 원소의 인덱스\n",
    "        if a[pc] == key:\n",
    "            return pc # 검색 성공\n",
    "        elif a[pc] < key:\n",
    "            pl = pc + 1 # 검색 범위를 뒤쪽 절반으로 좁힘\n",
    "        else:\n",
    "            pr = pc - 1 # 검색 범위를 앞쪽 절반으로 좁힘\n",
    "        if pl > pr:\n",
    "            break\n",
    "    return -1 # 검색 실패\n",
    "\n",
    "if __name__ == '__main__':\n",
    "    num = int(input('원소 수를 입력하세요.: '))\n",
    "    x = [None] * num # 원소 수가 num인 배열을 생성\n",
    "    \n",
    "    print('배열 데이터를 오름차순으로 입력하세요.')\n",
    "    \n",
    "    x[0] = int(input('x[0]: '))\n",
    "    \n",
    "    for i in range(1, num):\n",
    "        while True:\n",
    "            x[i] = int(input(f'x[{i}]: '))\n",
    "            if x[i] >= x[i-1]: # 바로 직전에 입력한 원소값보다 큰 값을 입력\n",
    "                break\n",
    "                \n",
    "    ky = int(input('검색할 값을 입력하세요.: ')) # 검색할 키값 ky를 입력\n",
    "    \n",
    "    idx = bin_search(x, ky) # ky값과 같은 원소를 x에서 검색\n",
    "    \n",
    "    if idx == -1:\n",
    "        print('검색값을 갖는 원소가 존재하지 않습니다.')\n",
    "    else:\n",
    "        print(f'검색값은 x[{idx}]에 있습니다.')"
   ]
  },
  {
   "cell_type": "markdown",
   "metadata": {},
   "source": [
    "- 이 알고리즘은 반복시 마다 절반씩 감소하기 때문에 검색이 필요한 평균 횟수는 log(n)번 입니다. 검색에 실패할 경우에는 log(n)+1번이고, 성공할 경우에는 log(n)-1번 이다."
   ]
  },
  {
   "cell_type": "markdown",
   "metadata": {},
   "source": [
    "## 복잡도(complexity)\n",
    "알고리즘의 성능을 객관적으로 평가하는 기준을 복잡도라고 한다. 일반적으로 두개의 복잡도가 존재한다."
   ]
  },
  {
   "cell_type": "markdown",
   "metadata": {},
   "source": [
    "- 시간 복잡도 : 실행하는 데 필요한 시간을 평가\n",
    "- 공간 복잡도 : 메모리와 파일 공간이 얼마나 필요한지를 평가"
   ]
  },
  {
   "cell_type": "markdown",
   "metadata": {},
   "source": [
    "- 코드 실행 중 단 한번만 실행되는 경우 복잡도 O(1)로 나타낸다. O는 order의 첫 글자로 복잡도를 의미한다.\n",
    "- O(n)은 n의 값에 비례하여 계산이 길어지게 된다. 읽을 시에는 'n의 오더'와 같은 방식으로 읽는다."
   ]
  },
  {
   "cell_type": "markdown",
   "metadata": {},
   "source": [
    "- 여러가지 계산으로 이루어진 알고리즘의 복잡도는 차원이 더 높은 쪽의 복잡도를 우선으로 하게 된다. 전체 복잡도는 차원이 가장 높은 복잡도를 선택하게 된다.\n",
    "\n",
    "  \n",
    "- 이진 탐색의 시간 복잡도는 O(log(n))이 된다."
   ]
  },
  {
   "cell_type": "markdown",
   "metadata": {},
   "source": [
    "#### index() 함수로 검색하기\n",
    "리스트 혹은 튜플에서 검색은 각 클래스의 index() 함수로 수행할 수 있다. 인수 i와 j는 생략할 수 있다.  \n",
    "obj.index(x,i,j)  "
   ]
  },
  {
   "cell_type": "markdown",
   "metadata": {},
   "source": [
    "- 리스트 또는 튜플 obj[i:j]내에 x가 포함되어 있다면 그 중에 가장 작은 인덱스를 반환하고, 존재하지 않는다면 예외처리를 통해 ValueError를 내보낸다."
   ]
  },
  {
   "cell_type": "code",
   "execution_count": 2,
   "metadata": {},
   "outputs": [
    {
     "ename": "SyntaxError",
     "evalue": "EOL while scanning string literal (<ipython-input-2-50a5775b72ae>, line 12)",
     "output_type": "error",
     "traceback": [
      "\u001b[1;36m  File \u001b[1;32m\"<ipython-input-2-50a5775b72ae>\"\u001b[1;36m, line \u001b[1;32m12\u001b[0m\n\u001b[1;33m    print(f'{i : 4}, end='')\u001b[0m\n\u001b[1;37m                            ^\u001b[0m\n\u001b[1;31mSyntaxError\u001b[0m\u001b[1;31m:\u001b[0m EOL while scanning string literal\n"
     ]
    }
   ],
   "source": [
    "# 이진 검색 알고리즘의 실행 과정을 출력\n",
    "\n",
    "from typing import Any, Sequence\n",
    "\n",
    "def bin_search(a: Sequence, key: Any) -> int:\n",
    "    \"\"\"시퀀스 a에서 key와 일치하는 원소를 이진 검색(실행 과정을 출력)\"\"\"\n",
    "    pl = 0 # 검색 범위 맨 앞 원소의 인덱스\n",
    "    pr = len(a) - 1 # 검색 범위 맨 뒤 원소의 인덱스\n",
    "    \n",
    "    print('  |', end='')\n",
    "    for i in range(len(a)):\n",
    "        print(f'{i : 4}, end='')\n",
    "    print()\n",
    "    print('---+' + (4 * len(a) + 2) * '-')\n",
    "              \n",
    "    while True:\n",
    "        pc = (pl + pr) // 2 # 중앙 원소의 인덱스\n",
    "              \n",
    "        print('  |', end='')\n",
    "        if pl != pc: # pl 원소 위에 <-를 출력\n",
    "              print((pl * 4 + 1) * ' ' + '<-' + ((pc - pl) * 4) * ' ' + '+', end='')\n",
    "        else:\n",
    "              print((pl * 4 + 1) * ' ' + '<+', end='')\n",
    "        if pc != pr: # pr 원소 위에 ->를 출력\n",
    "              print(((pr - pc) * 4 - 2) * ' ' + '->')\n",
    "        else:\n",
    "              print('->')\n",
    "        print(f'{pc:3}|', end='')\n",
    "        for i in range(len(a)):\n",
    "              print(f'{a[i]:4}', end='')\n",
    "        print('＼n  |')\n",
    "              \n",
    "        if a[pc] == key:\n",
    "            return pc # 검색 성공\n",
    "        elif a[pc] < key:\n",
    "            pl = pc + 1 # 검색 범위를 뒤쪽 절반으로 좁힘\n",
    "        else:\n",
    "            pr = pc - 1 # 검색 범위를 앞쪽 절반으로 좁힘\n",
    "        if pl > pr:\n",
    "            break\n",
    "    return -1 # 검색 실패\n",
    "\n",
    "if __name__ == '__main__':\n",
    "    num = int(input('원소 수를 입력하세요.: '))\n",
    "    x = [None] * num # 원소 수가 num인 배열을 생성\n",
    "    \n",
    "    print('배열 데이터를 오름차순으로 입력하세요.')\n",
    "    \n",
    "    x[0] = int(input('x[0]: '))\n",
    "    \n",
    "    for i in range(1, num):\n",
    "        while True:\n",
    "            x[i] = int(input(f'x[{i}]: '))\n",
    "            if x[i] >= x[i-1]: # 바로 직전에 입력한 원소값보다 큰 값을 입력\n",
    "                break\n",
    "                \n",
    "    ky = int(input('검색할 값을 입력하세요.: ')) # 검색할 키값 ky를 입력\n",
    "    \n",
    "    idx = bin_search(x, ky) # ky값과 같은 원소를 x에서 검색\n",
    "    \n",
    "    if idx == -1:\n",
    "        print('검색값을 갖는 원소가 존재하지 않습니다.')\n",
    "    else:\n",
    "        print(f'검색값은 x[{idx}]에 있습니다.')"
   ]
  },
  {
   "cell_type": "code",
   "execution_count": 3,
   "metadata": {},
   "outputs": [
    {
     "name": "stdout",
     "output_type": "stream",
     "text": [
      "원소 수를 입력하세요.: 11\n",
      "배열 데이터를 오름차순으로 입력하세요.\n",
      "x[0]: 1\n",
      "x[1]: 2\n",
      "x[2]: 3\n",
      "x[3]: 4\n",
      "x[4]: 5\n",
      "x[5]: 6\n",
      "x[6]: 7\n",
      "x[7]: 8\n",
      "x[8]: 9\n",
      "x[9]: 10\n",
      "x[10]: 11\n",
      "검색할 값을 입력하세요.: 8\n",
      "  |   0   1   2   3   4   5   6   7   8   9  10\n",
      "---+----------------------------------------------\n",
      "    | <-                    +                  ->\n",
      "  5|   1   2   3   4   5   6   7   8   9  10  11\n",
      "  |\n",
      "    |                         <-        +      ->\n",
      "  8|   1   2   3   4   5   6   7   8   9  10  11\n",
      "  |\n",
      "    |                         <+  ->\n",
      "  6|   1   2   3   4   5   6   7   8   9  10  11\n",
      "  |\n",
      "    |                             <+->\n",
      "  7|   1   2   3   4   5   6   7   8   9  10  11\n",
      "  |\n",
      "검색값은 x[7]에 있습니다.\n"
     ]
    }
   ],
   "source": [
    "# 이진 검색 알고리즘의 실행 과정을 출력\n",
    "\n",
    "from typing import Any, Sequence\n",
    "\n",
    "def bin_search(a: Sequence, key: Any) -> int:\n",
    "    \"\"\"시퀀스 a에서 key와 일치하는 원소를 이진 검색(실행 과정을 출력)\"\"\"\n",
    "    pl = 0 # 검색 범위 맨 앞 원소의 인덱스\n",
    "    pr = len(a) - 1 # 검색 범위 맨 뒤 원소의 인덱스\n",
    "    \n",
    "    print('  |', end='')\n",
    "    for i in range(len(a)):\n",
    "        print(f'{i : 4}', end='')\n",
    "    print()\n",
    "    print('---+' + (4 * len(a) + 2) * '-')\n",
    "              \n",
    "    while True:\n",
    "        pc = (pl + pr) // 2 # 중앙 원소의 인덱스\n",
    "              \n",
    "        print('    |', end='')\n",
    "        if pl != pc: # pl 원소 위에 <-를 출력\n",
    "              print((pl * 4 + 1) * ' ' + '<-' + ((pc - pl) * 4) * ' ' + '+', end='')\n",
    "        else:\n",
    "              print((pl * 4 + 1) * ' ' + '<+', end='')\n",
    "        if pc != pr: # pr 원소 위에 ->를 출력\n",
    "              print(((pr - pc) * 4 - 2) * ' ' + '->')\n",
    "        else:\n",
    "              print('->')\n",
    "        print(f'{pc:3}|', end='')\n",
    "        for i in range(len(a)):\n",
    "              print(f'{a[i]:4}', end='')\n",
    "        print('\\n  |')\n",
    "              \n",
    "        if a[pc] == key:\n",
    "            return pc # 검색 성공\n",
    "        elif a[pc] < key:\n",
    "            pl = pc + 1 # 검색 범위를 뒤쪽 절반으로 좁힘\n",
    "        else:\n",
    "            pr = pc - 1 # 검색 범위를 앞쪽 절반으로 좁힘\n",
    "        if pl > pr:\n",
    "            break\n",
    "    return -1 # 검색 실패\n",
    "\n",
    "if __name__ == '__main__':\n",
    "    num = int(input('원소 수를 입력하세요.: '))\n",
    "    x = [None] * num # 원소 수가 num인 배열을 생성\n",
    "    \n",
    "    print('배열 데이터를 오름차순으로 입력하세요.')\n",
    "    \n",
    "    x[0] = int(input('x[0]: '))\n",
    "    \n",
    "    for i in range(1, num):\n",
    "        while True:\n",
    "            x[i] = int(input(f'x[{i}]: '))\n",
    "            if x[i] >= x[i-1]: # 바로 직전에 입력한 원소값보다 큰 값을 입력\n",
    "                break\n",
    "                \n",
    "    ky = int(input('검색할 값을 입력하세요.: ')) # 검색할 키값 ky를 입력\n",
    "    \n",
    "    idx = bin_search(x, ky) # ky값과 같은 원소를 x에서 검색\n",
    "    \n",
    "    if idx == -1:\n",
    "        print('검색값을 갖는 원소가 존재하지 않습니다.')\n",
    "    else:\n",
    "        print(f'검색값은 x[{idx}]에 있습니다.')"
   ]
  },
  {
   "cell_type": "markdown",
   "metadata": {},
   "source": [
    "# 해시법\n",
    "정렬된 배열에 특정한 값을 대입하게 된다면, 이진탐색을 통해 해당 값이 어디에 위치해야 하는지 탐색을 하고 그 뒤의 값들이 한 칸씩 뒤로 밀려나며 해당 값이 대입되게 된다. 이에 대한 복잡도는 O(n)이며 비용도 작지 않고 데이터를 삭제하는 것도 마찬가지이다."
   ]
  },
  {
   "cell_type": "markdown",
   "metadata": {},
   "source": [
    "- 해시법에서는 '데이터를 저장할 위치 = 인덱스'를 간단한 연산을 통해 구현한다.\n",
    "- 배열의 키(원소 값)을 원소의 갯수로 나눈 값을 인덱스로 사용하고 이를 해시값(hash value)라고 한다.  \n",
    "- 해시값을 통해 데이터에 접근한다."
   ]
  },
  {
   "cell_type": "markdown",
   "metadata": {},
   "source": [
    "- 키를 해시값으로 변환하는 과정을 해시 함수(hash function)이라고 하고 일반적으로 해시 함수는 나머지를 구하는 연산 또는 그 연산을 응용할 때 주로 사용한다.\n",
    "- 해시 테이블에서 만들어진 원소를 버킷(bucket)이라 한다."
   ]
  },
  {
   "cell_type": "markdown",
   "metadata": {},
   "source": [
    "***** 해시 충돌  \n",
    "원소의 수로 키값을 나눌 때, 두 개 이상의 값을 갖는 버킷이 생성될 수 있다. 하지만 키와 해시값은 꼭 1:1 대응일 필요는 없다. 일반적으로 키와 해시값은 다대 1 관계이며 이렇게 저장할 버킷이 중복되는 현상을 해시 충돌이라고 한다. 해시 충돌은 다음과 같은 방법으로 해결한다."
   ]
  },
  {
   "cell_type": "markdown",
   "metadata": {},
   "source": [
    "- 체인법 : 해시값이 같은 원소를 연결 리스트로 관리한다.\n",
    "- 오픈 주소법 : 빈 버킷을 찾을 때까지 해시를 반복한다."
   ]
  },
  {
   "cell_type": "markdown",
   "metadata": {},
   "source": [
    "## 체인법\n",
    "해시값이 같은 데이터를 체인모양의 연결 리스트로 연결하는 방법을 말하며 오픈 해시법(open hashing)이라고도 한다."
   ]
  },
  {
   "cell_type": "markdown",
   "metadata": {},
   "source": [
    "- 체인법에서는 같은 데이터를 연결 리스트에 의해 체인의 형태로 연결한다.\n",
    "- 배열의 각 버킷(해시 테이블)에 저장하는 것은 인덱스를 해시값으로 하는 연결 리스트의 앞쪽 노드를 참조하는 것이다.\n",
    "- 예를 들어 value를 13으로 나눈 값을 해시값으로 사용한다면 69와 17의 해시값은 둘다 4이고 이들을 연결하는 연결 리스트의 앞쪽 노드를 참조하여 table[4]에 저장한다.\n",
    "- 해시값에 데이터가 하나도 없는 버킷의 값을 'None'이라고 한다."
   ]
  },
  {
   "cell_type": "code",
   "execution_count": 3,
   "metadata": {},
   "outputs": [],
   "source": [
    "# 체인법으로 해시 함수 구현하기\n",
    "\n",
    "from __future__ import annotations\n",
    "from typing import Any, Type\n",
    "import hashlib\n",
    "\n",
    "class Node:\n",
    "    \"\"\"해시를 구성하는 노드\"\"\"\n",
    "\n",
    "    def __init__(self, key: Any, value: Any, next: Node) -> None:\n",
    "        \"\"\"초기화\"\"\"\n",
    "        self.key = key      # 키\n",
    "        self.value = value  # 값\n",
    "        self.next = next    # 뒤쪽 노드를 참조\n",
    "\n",
    "class ChainedHash:\n",
    "    \"\"\"체인법으로 해시 클래스 구현\"\"\"\n",
    "\n",
    "    def __init__(self, capacity: int) -> None:\n",
    "        \"\"\"초기화\"\"\"\n",
    "        self.capacity = capacity\n",
    "        self.table = [None] * self.capacity\n",
    "\n",
    "    def hash_value(self, key: Any) -> int:\n",
    "        \"\"\"해시값을 구함\"\"\"\n",
    "        if isinstance(key, int):\n",
    "            return key % self.capacity\n",
    "        return(int(hashlib.sha256(str(key).encode()).hexdigest(), 16) % self.capacity)\n",
    "\n",
    "    def search(self, key: Any) -> Any:\n",
    "        \"\"\"키가 key인 원소를 검색하여 값을 반환\"\"\"\n",
    "        hash = self.hash_value(key)     # 검색하는 키의 해시값\n",
    "        p = self.table[hash]            # 노드를 주목\n",
    "\n",
    "        while p is not None:\n",
    "            if p.key == key:\n",
    "                return p.value          # 검색 성공\n",
    "            p = p.next                  # 뒤쪽 노드를 주목\n",
    "\n",
    "        return None                     # 검색 실패\n",
    "\n",
    "    def add(self, key: Any, value: Any) -> bool:\n",
    "        \"\"\"키가 key이고 값이 value인 원소를 추가\"\"\"\n",
    "        hash = self.hash_value(key)     # 추가하는 key의 해시값\n",
    "        p = self.table[hash]            # 노드를 주목\n",
    "\n",
    "        while p is not None:\n",
    "            if p.key == key:\n",
    "                return False            # 추가 실패\n",
    "            p = p.next                  # 뒤쪽 노드를 주목\n",
    "\n",
    "        temp = Node(key, value, self.table[hash])\n",
    "        self.table[hash] = temp         # 노드를 추가\n",
    "        return True                     # 추가 성공\n",
    "\n",
    "    def remove(self, key: Any) -> bool:\n",
    "        \"\"\"키가 key인 원소를 삭제\"\"\"\n",
    "        hash = self.hash_value(key)     # 삭제할 key의 해시값\n",
    "        p = self.table[hash]            # 노드를 주목\n",
    "        pp = None                       # 바로 앞의 노드를 주목\n",
    "\n",
    "        while p is not None:\n",
    "            if p.key == key:            # key발견하면 아래를 실행\n",
    "                if pp is None:\n",
    "                    self.table[hash] = p.next\n",
    "                else:\n",
    "                    pp.next = p.next\n",
    "                return True             # key 삭제 성공\n",
    "            pp = p\n",
    "            p = p.next                  # 뒤쪽 노드를 주목\n",
    "        return False                    # 삭제 실패(key가 존재하지 않음)\n",
    "\n",
    "    def dump(self) -> None:\n",
    "        \"\"\"해시 테이블 덤프\"\"\"\n",
    "        for i in range(self.capacity):\n",
    "            p = self.table[i]\n",
    "            print(i, end='')\n",
    "            while p is not None:\n",
    "                print(f'   -> {p.key} ({p.value})', end='')\n",
    "                p = p.next\n",
    "            print()"
   ]
  },
  {
   "cell_type": "markdown",
   "metadata": {},
   "source": [
    "### Node 클래스 만들기  \n",
    "Node 클래스는 개별 버킷을 나타낸다. 이 클래스는 3개의 필드로 구성된다."
   ]
  },
  {
   "cell_type": "markdown",
   "metadata": {},
   "source": [
    "- key : 키(임의의 자료형)\n",
    "- value : 값(임의의 자료형)\n",
    "- next : 뒤쪽 노드를 참조(Node형)"
   ]
  },
  {
   "cell_type": "markdown",
   "metadata": {},
   "source": [
    "Node 클래스는 키와 값이 짝을 이루는 구조이다.  \n",
    "키에 해시 함수를 적용하여 해시값을 구한다."
   ]
  },
  {
   "cell_type": "markdown",
   "metadata": {},
   "source": [
    "### ChainedHash 해시 클래스 만들기  \n",
    "ChainedHash 해시 클래스는 필드 2개로 구성된다."
   ]
  },
  {
   "cell_type": "markdown",
   "metadata": {},
   "source": [
    "- capacity : 해시 테이블의 크기(배열 tale의 원소 수)를 나타냄\n",
    "- table : 해시 테이블을 저장하는 list형 배열을 나타냄"
   ]
  },
  {
   "cell_type": "markdown",
   "metadata": {},
   "source": [
    "##### __init__() 함수로 초기화하기   \n",
    "__init__()함수는 빈 해시 테이블을 생성한다. 매개변수 capacity에 전달받는 것은 해시테이블의 크기이다. 원소 수가 capacity인 list형의 배열 table을 생성하고 모든 원소를 None으로 한다."
   ]
  },
  {
   "cell_type": "markdown",
   "metadata": {},
   "source": [
    "### Hash_value() 해시 함수 만들기  \n",
    "hash_value() 함수는 인수 key에 대응하는 해시값을 구한다."
   ]
  },
  {
   "cell_type": "markdown",
   "metadata": {},
   "source": [
    "***** 해시 와 해시 함수 알아보기  \n",
    "만약 충돌이 전혀 발생하지 않는다면 해시 함수로 인덱스를 찾는 것만으로 검색, 추가, 삭제가 모두 완료되기 때문에 시간 복잡도는 O(1)이 된다. 이에 따라 해시 테이블을 충분히 크게 만들면 충돌 발생을 억제할 수 있지만 메모리가 낭비된다. 즉 시간과 공간의 트레이드-오프 문제가 발생하게 된다. 충돌을 피하려면 해시 함수가 해시 테이블 크기보다 작거나 같은 정수를 고르게 생성해야 한다. 따라서 해시 테이블의 크기는 소수를 선호한다. ChainedHash 클래스의 hash_value()함수는 해시값을 다음과 같이 key가 int인 경우와 int가 아닌 경우로 나누어 구한다."
   ]
  },
  {
   "cell_type": "markdown",
   "metadata": {},
   "source": [
    "- key가 int인 경우 : key를 해시의 크기 capacity로 나눈 나머지를 해시값으로 한다. 위의 예시에서는 key가 int형이고 크기가 13이므로 키를 13으로 나눈 나머지가 해시값이 된다."
   ]
  },
  {
   "cell_type": "markdown",
   "metadata": {},
   "source": [
    "- key가 int가 아닌 경우 : key가 정수가 아닌 경우(문자열, 리스트, 클래스형 등) 그 값으로는 바로 나눌 수 없다. 따라서 다음과 같은 표준라이브러리로 형을 변환해야 해시값을 얻을 수 있다. 다음이 예시에서 사용한 표준 라이브러리 이다."
   ]
  },
  {
   "cell_type": "markdown",
   "metadata": {},
   "source": [
    "    1) sha256 알고리즘 : 주어진 바이트(byte) 문자열의 해시값을 구하는 해시 알고리즘 생성자(constructor)이다. hashlib 모듈은 sha256 외에도 MD5 알고리즘인 md5 등 다양한 해시 알고리즘을 제공한다.\n",
    "  \n",
    "    2) encode() 함수 : hashlib.sha256에는 바이트 문자열의 인수를 전달해 줘야 한다. key를 str형 문자열로 변환한 뒤 그 문자열을 encode() 함수에 전달하여 바이트 문자열을 생성한다.\n",
    "  \n",
    "    3) hexdigest() 함수 : sha256 알고리즘에서 해시값을 16진수 문자열로 꺼낸다.\n",
    "  \n",
    "    4) int() 함수 : hexdigest() 함수로 꺼낸 문자열을 16진수 문자열로 하는 int형으로 변환한다."
   ]
  },
  {
   "cell_type": "markdown",
   "metadata": {},
   "source": [
    "### 키로 원소를 검색하는 search() 함수"
   ]
  },
  {
   "cell_type": "markdown",
   "metadata": {},
   "source": [
    "1) 해시 함수를 사용하여 키를 해시값으로 변환한다.  \n",
    "2) 해시값을 인덱스로 하는 버킷에 주목한다.  \n",
    "3) 버킷이 참조하는 연결 리스트를 맨 앞부터 차례로 스캔한다. 키와 같은 값이 발견되면 검색에 성공하고, 발견되지 않으면 검색에 실패한다."
   ]
  },
  {
   "cell_type": "markdown",
   "metadata": {},
   "source": [
    "### 원소를 추가하는 add() 함수  \n",
    "add() 함수는 키가 key이고 값이 value인 원소를 추가한다.  \n",
    "해당 값을 저장하는 노드를 새로 생성하고, 노드에 대한 참조를 테이블의 키값에 대입한다."
   ]
  },
  {
   "cell_type": "markdown",
   "metadata": {},
   "source": [
    "1) 해시 함수를 사용하여 키를 해시값으로 변환한다.  \n",
    "2) 해시값을 인덱스로 갖는 버킷에 주목한다.  \n",
    "3) 버킷이 참조하는 연결 리스트를 맨 앞부터 차례로 선형 검색한다. 키와 같은 값이 발견되면 이미 등록되어 있는 경우이므로 추가에 실패한다. 원소의 맨 끝까지 발견되지 않는다면 해시값인 리트스의 맨 앞의 노드를 추가한다. 정확하게는 노드에 대한 참조를 대입한다. 그리고 뒤의 포인터인 next가 다음 노드를 주목하도록 업데이트 한다."
   ]
  },
  {
   "cell_type": "markdown",
   "metadata": {},
   "source": [
    "### 원소를 삭제하는 remove() 함수  "
   ]
  },
  {
   "cell_type": "markdown",
   "metadata": {},
   "source": [
    "1) 해시 함수를 사용하여 키를 해시값으로 변환한다.  \n",
    "2) 해시값을 인덱스로 하는 버킷에 주목한다.  \n",
    "3) 버킷이 참조하는 연결 리스트를 맨 앞부터 차례로 선형 검색한다. 키와 같은 값이 발견되면 그 노드를 리스트에서 삭제한다. 그렇지 않으면 삭제에 실패한다."
   ]
  },
  {
   "cell_type": "code",
   "execution_count": 6,
   "metadata": {},
   "outputs": [
    {
     "ename": "ImportError",
     "evalue": "cannot import name 'ChainedHash' from 'chained_hash' (C:\\giwon\\Algorithm\\Doit\\Chapter_3\\chained_hash.py)",
     "output_type": "error",
     "traceback": [
      "\u001b[1;31m---------------------------------------------------------------------------\u001b[0m",
      "\u001b[1;31mImportError\u001b[0m                               Traceback (most recent call last)",
      "\u001b[1;32m<ipython-input-6-7a99824b8bc3>\u001b[0m in \u001b[0;36m<module>\u001b[1;34m\u001b[0m\n\u001b[0;32m      2\u001b[0m \u001b[1;33m\u001b[0m\u001b[0m\n\u001b[0;32m      3\u001b[0m \u001b[1;32mfrom\u001b[0m \u001b[0menum\u001b[0m \u001b[1;32mimport\u001b[0m \u001b[0mEnum\u001b[0m\u001b[1;33m\u001b[0m\u001b[1;33m\u001b[0m\u001b[0m\n\u001b[1;32m----> 4\u001b[1;33m \u001b[1;32mfrom\u001b[0m \u001b[0mchained_hash\u001b[0m \u001b[1;32mimport\u001b[0m \u001b[0mChainedHash\u001b[0m\u001b[1;33m\u001b[0m\u001b[1;33m\u001b[0m\u001b[0m\n\u001b[0m\u001b[0;32m      5\u001b[0m \u001b[1;33m\u001b[0m\u001b[0m\n\u001b[0;32m      6\u001b[0m \u001b[0mMenu\u001b[0m \u001b[1;33m=\u001b[0m \u001b[0mEnum\u001b[0m\u001b[1;33m(\u001b[0m\u001b[1;34m'Menu'\u001b[0m\u001b[1;33m,\u001b[0m \u001b[1;33m[\u001b[0m\u001b[1;34m'추가'\u001b[0m\u001b[1;33m,\u001b[0m \u001b[1;34m'삭제'\u001b[0m\u001b[1;33m,\u001b[0m \u001b[1;34m'검색'\u001b[0m\u001b[1;33m,\u001b[0m \u001b[1;34m'덤프'\u001b[0m\u001b[1;33m,\u001b[0m\u001b[1;34m'종료'\u001b[0m\u001b[1;33m]\u001b[0m\u001b[1;33m)\u001b[0m  \u001b[1;31m# 메뉴를 선언\u001b[0m\u001b[1;33m\u001b[0m\u001b[1;33m\u001b[0m\u001b[0m\n",
      "\u001b[1;31mImportError\u001b[0m: cannot import name 'ChainedHash' from 'chained_hash' (C:\\giwon\\Algorithm\\Doit\\Chapter_3\\chained_hash.py)"
     ]
    }
   ],
   "source": [
    "# 체인법을 구현하는 해시 클래스 ChainedHash의 사용\n",
    "\n",
    "from enum import Enum\n",
    "from chained_hash import ChainedHash\n",
    "\n",
    "Menu = Enum('Menu', ['추가', '삭제', '검색', '덤프','종료'])  # 메뉴를 선언\n",
    "\n",
    "def select_menu() -> Menu:\n",
    "    \"\"\"메뉴 선택\"\"\"\n",
    "    s = [f'({m.value}){m.name}' for m in Menu]\n",
    "    while True:\n",
    "        print(*s, sep='    ', end='')\n",
    "        n = int(input(': '))\n",
    "        if 1 <= n <= len(Menu):\n",
    "            return Menu(n)\n",
    "\n",
    "hash = ChainedHash(13)          # 크기가 13인 해시 테이블을 생성\n",
    "\n",
    "while True:\n",
    "    menu = select_menu()    # 메뉴 선택\n",
    "\n",
    "    if menu == Menu.추가: # 추가\n",
    "        key = int(input('추가할 키를 입력하세요.: '))\n",
    "        val = input('추가할 값을 입력하세요.: ')\n",
    "        if not hash.add(key, val):\n",
    "            print('추가를 실패했습니다!')\n",
    "\n",
    "    elif menu == Menu.삭제: # 삭제\n",
    "        key = int(input('삭제할 키를 입력하세요.: '))\n",
    "        if not hash.remove(key):\n",
    "            print('삭제를 실패했습니다!')\n",
    "\n",
    "    elif menu == Menu.검색:   # 검색\n",
    "        key = int(input('검색할 키를 입력하세요.: '))\n",
    "        t = hash.search(key)\n",
    "        if t is not None:\n",
    "            print(f'검색한 키를 갖는 값은 {t}입니다.')\n",
    "        else:\n",
    "            print('검색할 데이터가 없습니다.')\n",
    "    elif menu == Menu.덤프:   # 덤프\n",
    "        hash.dump()\n",
    "\n",
    "    else:   # 종료\n",
    "        break"
   ]
  },
  {
   "cell_type": "code",
   "execution_count": null,
   "metadata": {},
   "outputs": [],
   "source": []
  }
 ],
 "metadata": {
  "kernelspec": {
   "display_name": "Python 3",
   "language": "python",
   "name": "python3"
  },
  "language_info": {
   "codemirror_mode": {
    "name": "ipython",
    "version": 3
   },
   "file_extension": ".py",
   "mimetype": "text/x-python",
   "name": "python",
   "nbconvert_exporter": "python",
   "pygments_lexer": "ipython3",
   "version": "3.8.1"
  }
 },
 "nbformat": 4,
 "nbformat_minor": 4
}
