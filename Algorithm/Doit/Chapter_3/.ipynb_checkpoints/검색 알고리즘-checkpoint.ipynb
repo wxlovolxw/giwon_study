{
 "cells": [
  {
   "cell_type": "markdown",
   "metadata": {},
   "source": [
    "# 선형검색\n",
    "직선 모양으로 늘어선 배열에서 검색하는 경우에 원하는 키값을 가진 원소를 찾을 때까지 맨 앞부터 스캔하여 순서대로 검색하는 알고리즘"
   ]
  },
  {
   "cell_type": "markdown",
   "metadata": {},
   "source": [
    "- 선형 검색의 종료 조건 1 : 검색하는 인덱스가 배열 전체의 길이와 같다면 스캔 종료\n",
    "- 선형 검색의 종료 조건 2 : 검색 대상의 항목이 키와 같다면 스캔 종료"
   ]
  },
  {
   "cell_type": "code",
   "execution_count": 1,
   "metadata": {},
   "outputs": [
    {
     "name": "stdout",
     "output_type": "stream",
     "text": [
      "원소 수를 입력하세요.: 7\n",
      "x[0]: 6\n",
      "x[1]: 4\n",
      "x[2]: 3\n",
      "x[3]: 2\n",
      "x[4]: 1\n",
      "x[5]: 2\n",
      "x[6]: 8\n",
      "검색할 값을 입력하세요.: 2\n",
      "검색값은 x[3]에 있습니다.\n"
     ]
    }
   ],
   "source": [
    "# while 문으로 작성한 선형 검색 알고리즘\n",
    "\n",
    "from typing import Any, Sequence\n",
    "\n",
    "def seq_search(a: Sequence, key: Any) -> int:\n",
    "    \"\"\"시퀀스 a에서 key와 같은 원소를 선형 검색(while문)\"\"\"\n",
    "    i = 0\n",
    "    \n",
    "    while True:\n",
    "        if i == len(a):\n",
    "            return -1 # 검색을 실패하여 -1를 반환\n",
    "        if a[i] == key:\n",
    "            return i # 검색을 성공하여 현재 검사한 배열의 인덱스를 반환\n",
    "        i += 1\n",
    "        \n",
    "if __name__ == '__main__':\n",
    "    num = int(input('원소 수를 입력하세요.: ')) # num값을 입력받음\n",
    "    x = [None] * num # 원소 수가 num인 배열을 생성\n",
    "    \n",
    "    for i in range(num):\n",
    "        x[i] = int(input(f'x[{i}]: '))\n",
    "        \n",
    "    ky = int(input('검색할 값을 입력하세요.: ')) # 검색할 키 ky를 입력받음\n",
    "    \n",
    "    idx = seq_search(x,ky) # ky와 값이 같은 원소를 x에서 검색\n",
    "    \n",
    "    if idx == -1:\n",
    "        print('검색값을 갖는 원소가 존재하지 않습니다.')\n",
    "    else:\n",
    "        print(f'검색값은 x[{idx}]에 있습니다.')"
   ]
  },
  {
   "cell_type": "markdown",
   "metadata": {},
   "source": [
    "***** 임의의 배열을 생성할 때, 미리 그 원소수를 설정해주는 것이 어떠한 장점이 있는가?  \n",
    "x = [] 와의 차이점"
   ]
  },
  {
   "cell_type": "code",
   "execution_count": 3,
   "metadata": {},
   "outputs": [
    {
     "name": "stdout",
     "output_type": "stream",
     "text": [
      "원소 수를 입력하세요.: 7\n",
      "x[0]: 6\n",
      "x[1]: 4\n",
      "x[2]: 3\n",
      "x[3]: 2\n",
      "x[4]: 1\n",
      "x[5]: 2\n",
      "x[6]: 8\n",
      "검색할 값을 입력하세요.: 2\n",
      "검색값을 갖는 원소가 존재하지 않습니다.\n"
     ]
    }
   ],
   "source": [
    "# for 문으로 작성한 선형 검색 알고리즘\n",
    "\n",
    "from typing import Any, Sequence\n",
    "\n",
    "def seq_search(a: Sequence, key: Any) -> int:\n",
    "    \"\"\"시퀀스 a에서 key와 값이 같은 원소를 선형 검색(for문)\"\"\"\n",
    "    for i in range(len(a)):\n",
    "        if a[i] == key:\n",
    "            return i # 검색 성공(인덱스를 반환)\n",
    "        return -1 # 검색 실패(-1를 반환)\n",
    "    \n",
    "if __name__ == '__main__':\n",
    "    num = int(input('원소 수를 입력하세요.: ')) # num값을 입력받음\n",
    "    x = [None] * num # 원소 수가 num인 배열을 생성\n",
    "    \n",
    "    for i in range(num):\n",
    "        x[i] = int(input(f'x[{i}]: '))\n",
    "        \n",
    "    ky = int(input('검색할 값을 입력하세요.: ')) # 검색할 키 ky를 입력받음\n",
    "    \n",
    "    idx = seq_search(x,ky) # ky와 값이 같은 원소를 x에서 검색\n",
    "    \n",
    "    if idx == -1:\n",
    "        print('검색값을 갖는 원소가 존재하지 않습니다.')\n",
    "    else:\n",
    "        print(f'검색값은 x[{idx}]에 있습니다.')"
   ]
  },
  {
   "cell_type": "markdown",
   "metadata": {},
   "source": [
    "- 원소의 값이 정렬되지 않은 배열에서 검색할 때 사용하는 유일한 방법이 선형 검색이다.\n",
    "- 같은 값을 갖는 key가 여러개라면 스캔 과정에서 맨 처음 발견한 원소를 반환한다."
   ]
  },
  {
   "cell_type": "markdown",
   "metadata": {},
   "source": [
    "- 앞서 작성한 seq_search() 함수는 임의의 자료형에 대해서 검색이 가능하다."
   ]
  },
  {
   "cell_type": "code",
   "execution_count": 6,
   "metadata": {},
   "outputs": [
    {
     "name": "stdout",
     "output_type": "stream",
     "text": [
      "실수를 검색합니다.\n",
      "주의: \"End\"를 입력하면 종료합니다.\n",
      "x[0]: 12.7\n",
      "x[1]: 3.14\n",
      "x[2]: 6.4\n",
      "x[3]: 7.2\n",
      "x[4]: End\n",
      "검색할 값을 입력하세요.: 6.4\n",
      "검색값은 x[2]에 있습니다.\n"
     ]
    }
   ],
   "source": [
    "# seq_search() 함수를 사용하여 실수 검색하기\n",
    "from ssearch_while import seq_search\n",
    "\n",
    "print('실수를 검색합니다.')\n",
    "print('주의: \"End\"를 입력하면 종료합니다.')\n",
    "\n",
    "number = 0\n",
    "x = [] # 빈 리스트 x를 생성\n",
    "\n",
    "while True:\n",
    "    s = input(f'x[{number}]: ')\n",
    "    if s == 'End':\n",
    "        break\n",
    "    x.append(float(s)) # 배열의 맨 끝에 원소를 추가\n",
    "    number += 1\n",
    "    \n",
    "ky = float(input('검색할 값을 입력하세요.: ')) # 검색할 키 ky를 입력받기\n",
    "\n",
    "idx = seq_search(x, ky) # ky와 값이 같은 원소를 x에서 검색\n",
    "if idx == -1:\n",
    "    print('검색값을 갖는 원소가 존재하지 않습니다.')\n",
    "else:\n",
    "    print(f'검색값은 x[{idx}]에 있습니다.')"
   ]
  },
  {
   "cell_type": "code",
   "execution_count": 7,
   "metadata": {},
   "outputs": [
    {
     "name": "stdout",
     "output_type": "stream",
     "text": [
      "(4, 7, 5.6, 2, 3.14, 1)에서 5.6의 인덱스는 2입니다.\n",
      "string에서 \"n\"의 인덱스는 4입니다.\n",
      "['DTS', 'AAC', 'FLAC']에서 \"DTS\"의 인덱스는 0입니다.\n"
     ]
    }
   ],
   "source": [
    "# seq_search() 함수를 사용하여 특정 인덱스 검색하기\n",
    "\n",
    "from ssearch_while import seq_search\n",
    "\n",
    "t = (4, 7, 5.6, 2, 3.14, 1)\n",
    "s = 'string'\n",
    "a = ['DTS', 'AAC', 'FLAC']\n",
    "\n",
    "print(f'{t}에서 5.6의 인덱스는 {seq_search(t,5.6)}입니다.')\n",
    "print(f'{s}에서 \"n\"의 인덱스는 {seq_search(s,\"n\")}입니다.')\n",
    "print(f'{a}에서 \"DTS\"의 인덱스는 {seq_search(a,\"DTS\")}입니다.')"
   ]
  },
  {
   "cell_type": "markdown",
   "metadata": {},
   "source": [
    "## 보초법  \n",
    "선형 검색은 반복시마다 두가지 조건을 사용하게 되며, 이때 발생하는 비용(cost)를 무시할 수 없다. 이런 비용을 절반으로 줄이는 방법이 보초법이다."
   ]
  },
  {
   "cell_type": "markdown",
   "metadata": {},
   "source": [
    "- 검색할 값과 같은 값을 원래 데이터의 마지막에 추가하여, 검색 실패시에 대한 if문을 작성하지 않아도 된다. 단 한번의 if문 만으로 원하는 검색 결과를 얻을 수 있다.\n",
    "- 배열의 마지막에 검색하고자 하는 키값을 저장한다. 이 값을 보초(sentinel)이라고 한다."
   ]
  },
  {
   "cell_type": "code",
   "execution_count": 1,
   "metadata": {},
   "outputs": [
    {
     "name": "stdout",
     "output_type": "stream",
     "text": [
      "원소 수를 입력하세요.: 7\n",
      "x[0]: 6\n",
      "x[1]: 4\n",
      "x[2]: 3\n",
      "x[3]: 2\n",
      "x[4]: 1\n",
      "x[5]: 2\n",
      "x[6]: 8\n",
      "검색할 값을 입력하세요.: 2\n",
      "검색값은 x[3]에 있습니다.\n"
     ]
    }
   ],
   "source": [
    "# 선형 검색 알고리즘을 보초법으로 수정\n",
    "\n",
    "from typing import Sequence, Any\n",
    "import copy\n",
    "\n",
    "def seq_search(seq: Sequence, key: Any) -> int:\n",
    "    \"\"\"시퀀스 seq에서 key와 일치하는 원소를 선형 검색(보초법)\"\"\"\n",
    "    a = copy.deepcopy(seq) # seq를 복사\n",
    "    a.append(key) # 보초 key를 추가\n",
    "    \n",
    "    i = 0\n",
    "    while True:\n",
    "        if a[i] == key:\n",
    "            break\n",
    "        i += 1\n",
    "    return -1 if i == len(seq) else i\n",
    "\n",
    "if __name__ == '__main__':\n",
    "    num = int(input('원소 수를 입력하세요.: ')) # num값을 입력\n",
    "    x = [None] * num # 원소 수가 num인 배열을 생성\n",
    "    \n",
    "    for i in range(num):\n",
    "        x[i] = int(input(f'x[{i}]: ')) \n",
    "        \n",
    "    ky = int(input('검색할 값을 입력하세요.: ')) # 검색할 ky를 입력받기\n",
    "    \n",
    "    idx = seq_search(x, ky) # 키 ky값과 같은 원소를 x에서 검색\n",
    "    \n",
    "    if idx == -1:\n",
    "        print('검색값을 갖는 원소가 존재하지 않습니다.')\n",
    "    else:\n",
    "        print(f'검색값은 x[{idx}]에 있습니다.')"
   ]
  },
  {
   "cell_type": "markdown",
   "metadata": {},
   "source": [
    "- 8~9행에서 배열 seq를 a로 복사하고 a의 마지막에 보초인 key르 추가한다. 그러면 원래의 배열 맨 끝에 보초가 추가된 새로운 배열이 만들어 진다.\n",
    "- 기존의 선형 탐색과 비교해 보면 매 루프마다 두번의 if문을 통해 비용이 많이 사용되는데, 보초법에서는 1번의 선형 검색 조건이 사라지게 되어 판단하기 위한 횟수가 절반으로 줄어들게 된다. if문의 판단 횟수는 기존보다 1회 늘어난다."
   ]
  },
  {
   "cell_type": "markdown",
   "metadata": {},
   "source": [
    "# 이진 검색(binary search)\n",
    "이진 검색을 사용하려면 배열의 데이터가 정렬(sort)되어 있어야 한다. 이진 검색은 선형 검색보다 빠르게 검색할 수 있다는 장점이 있다."
   ]
  },
  {
   "cell_type": "markdown",
   "metadata": {},
   "source": [
    "- 이진 탐색에는 세개의 포인터가 존재한다.  \n",
    "1) pl은 가장 왼쪽 값을 의미하는 포인터로 0번째 값으로 초기화 된다.  \n",
    "2) pr은 가장 오른쪽 값을 의미하는 포인터로 n-1번째 값으로 초기화 된다.  \n",
    "3) pc는 pl과 pr의 중앙에 존재하는 값으로 (n-1)//2로 초기화 된다.  \n",
    "  \n",
    "  \n",
    "- 이진 검색에서 범위를 좁히는 과정은 다음과 같다.  \n",
    "1) 해당 값이 key보다 작다면 중앙(pc)에서 오른쪽으로 한 칸 이동하여 새로운 왼쪽 끝 pl로 설정하고, 검색 범위를 뒤쪽 절반으로 좁힌다.  \n",
    "2) 해당 값이 key보다 크다면 중앙(pc)에서 왼쪽으로 한 칸 이동하여 새로운 오른쪽 끝 pr로 설정하고, 검색 범위를 앞쪽 절반으로 좁힌다.  \n",
    "  \n",
    "  \n",
    "- 이진 검색의 종료조건은 다음과 같다.  \n",
    "1) 해당 값이 key와 일치하는 경우  \n",
    "2) 검색 범위가 더 이상 없는 경우"
   ]
  },
  {
   "cell_type": "code",
   "execution_count": 3,
   "metadata": {},
   "outputs": [
    {
     "name": "stdout",
     "output_type": "stream",
     "text": [
      "원소 수를 입력하세요.: 7\n",
      "배열 데이터를 오름차순으로 입력하세요.\n",
      "x[0]: 1\n",
      "x[1]: 2\n",
      "x[2]: 3\n",
      "x[3]: 5\n",
      "x[4]: 7\n",
      "x[5]: 8\n",
      "x[6]: 9\n",
      "검색할 값을 입력하세요.: 5\n",
      "검색값은 x[3]에 있습니다.\n"
     ]
    }
   ],
   "source": [
    "# 이진 검색 알고리즘\n",
    "\n",
    "from typing import Any, Sequence\n",
    "\n",
    "def bin_search(a: Sequence, key: Any) -> int:\n",
    "    \"\"\"시퀀스 a에서 key와 일치하는 원소를 이진 검색\"\"\"\n",
    "    pl = 0 # 검색 범위 맨 앞의 원소의 인덱스\n",
    "    pr = len(a) - 1 # 검색 범위 맨 뒤의 원소의 인덱스\n",
    "    \n",
    "    while True:\n",
    "        pc = (pl + pr) // 2 # 중앙 원소의 인덱스\n",
    "        if a[pc] == key:\n",
    "            return pc # 검색 성공\n",
    "        elif a[pc] < key:\n",
    "            pl = pc + 1 # 검색 범위를 뒤쪽 절반으로 좁힘\n",
    "        else:\n",
    "            pr = pc - 1 # 검색 범위를 앞쪽 절반으로 좁힘\n",
    "        if pl > pr:\n",
    "            break\n",
    "    return -1 # 검색 실패\n",
    "\n",
    "if __name__ == '__main__':\n",
    "    num = int(input('원소 수를 입력하세요.: '))\n",
    "    x = [None] * num # 원소 수가 num인 배열을 생성\n",
    "    \n",
    "    print('배열 데이터를 오름차순으로 입력하세요.')\n",
    "    \n",
    "    x[0] = int(input('x[0]: '))\n",
    "    \n",
    "    for i in range(1, num):\n",
    "        while True:\n",
    "            x[i] = int(input(f'x[{i}]: '))\n",
    "            if x[i] >= x[i-1]: # 바로 직전에 입력한 원소값보다 큰 값을 입력\n",
    "                break\n",
    "                \n",
    "    ky = int(input('검색할 값을 입력하세요.: ')) # 검색할 키값 ky를 입력\n",
    "    \n",
    "    idx = bin_search(x, ky) # ky값과 같은 원소를 x에서 검색\n",
    "    \n",
    "    if idx == -1:\n",
    "        print('검색값을 갖는 원소가 존재하지 않습니다.')\n",
    "    else:\n",
    "        print(f'검색값은 x[{idx}]에 있습니다.')"
   ]
  },
  {
   "cell_type": "markdown",
   "metadata": {},
   "source": [
    "- 이 알고리즘은 반복시 마다 절반씩 감소하기 때문에 검색이 필요한 평균 횟수는 log(n)번 입니다. 검색에 실패할 경우에는 log(n)+1번이고, 성공할 경우에는 log(n)-1번 이다."
   ]
  },
  {
   "cell_type": "markdown",
   "metadata": {},
   "source": [
    "## 복잡도(complexity)\n",
    "알고리즘의 성능을 객관적으로 평가하는 기준을 복잡도라고 한다. 일반적으로 두개의 복잡도가 존재한다."
   ]
  },
  {
   "cell_type": "markdown",
   "metadata": {},
   "source": [
    "- 시간 복잡도 : 실행하는 데 필요한 시간을 평가\n",
    "- 공간 복잡도 : 메모리와 파일 공간이 얼마나 필요한지를 평가"
   ]
  },
  {
   "cell_type": "markdown",
   "metadata": {},
   "source": [
    "- 코드 실행 중 단 한번만 실행되는 경우 복잡도 O(1)로 나타낸다. O는 order의 첫 글자로 복잡도를 의미한다.\n",
    "- O(n)은 n의 값에 비례하여 계산이 길어지게 된다. 읽을 시에는 'n의 오더'와 같은 방식으로 읽는다."
   ]
  },
  {
   "cell_type": "markdown",
   "metadata": {},
   "source": [
    "- 여러가지 계산으로 이루어진 알고리즘의 복잡도는 차원이 더 높은 쪽의 복잡도를 우선으로 하게 된다. 전체 복잡도는 차원이 가장 높은 복잡도를 선택하게 된다.\n",
    "\n",
    "  \n",
    "- 이진 탐색의 시간 복잡도는 O(log(n))이 된다."
   ]
  },
  {
   "cell_type": "markdown",
   "metadata": {},
   "source": [
    "#### index() 함수로 검색하기\n",
    "리스트 혹은 튜플에서 검색은 각 클래스의 index() 함수로 수행할 수 있다. 인수 i와 j는 생략할 수 있다.  \n",
    "obj.index(x,i,j)  "
   ]
  },
  {
   "cell_type": "markdown",
   "metadata": {},
   "source": [
    "- 리스트 또는 튜플 obj[i:j]내에 x가 포함되어 있다면 그 중에 가장 작은 인덱스를 반환하고, 존재하지 않는다면 예외처리를 통해 ValueError를 내보낸다."
   ]
  },
  {
   "cell_type": "code",
   "execution_count": 2,
   "metadata": {},
   "outputs": [
    {
     "ename": "SyntaxError",
     "evalue": "EOL while scanning string literal (<ipython-input-2-50a5775b72ae>, line 12)",
     "output_type": "error",
     "traceback": [
      "\u001b[1;36m  File \u001b[1;32m\"<ipython-input-2-50a5775b72ae>\"\u001b[1;36m, line \u001b[1;32m12\u001b[0m\n\u001b[1;33m    print(f'{i : 4}, end='')\u001b[0m\n\u001b[1;37m                            ^\u001b[0m\n\u001b[1;31mSyntaxError\u001b[0m\u001b[1;31m:\u001b[0m EOL while scanning string literal\n"
     ]
    }
   ],
   "source": [
    "# 이진 검색 알고리즘의 실행 과정을 출력\n",
    "\n",
    "from typing import Any, Sequence\n",
    "\n",
    "def bin_search(a: Sequence, key: Any) -> int:\n",
    "    \"\"\"시퀀스 a에서 key와 일치하는 원소를 이진 검색(실행 과정을 출력)\"\"\"\n",
    "    pl = 0 # 검색 범위 맨 앞 원소의 인덱스\n",
    "    pr = len(a) - 1 # 검색 범위 맨 뒤 원소의 인덱스\n",
    "    \n",
    "    print('  |', end='')\n",
    "    for i in range(len(a)):\n",
    "        print(f'{i : 4}, end='')\n",
    "    print()\n",
    "    print('---+' + (4 * len(a) + 2) * '-')\n",
    "              \n",
    "    while True:\n",
    "        pc = (pl + pr) // 2 # 중앙 원소의 인덱스\n",
    "              \n",
    "        print('  |', end='')\n",
    "        if pl != pc: # pl 원소 위에 <-를 출력\n",
    "              print((pl * 4 + 1) * ' ' + '<-' + ((pc - pl) * 4) * ' ' + '+', end='')\n",
    "        else:\n",
    "              print((pl * 4 + 1) * ' ' + '<+', end='')\n",
    "        if pc != pr: # pr 원소 위에 ->를 출력\n",
    "              print(((pr - pc) * 4 - 2) * ' ' + '->')\n",
    "        else:\n",
    "              print('->')\n",
    "        print(f'{pc:3}|', end='')\n",
    "        for i in range(len(a)):\n",
    "              print(f'{a[i]:4}', end='')\n",
    "        print('＼n  |')\n",
    "              \n",
    "        if a[pc] == key:\n",
    "            return pc # 검색 성공\n",
    "        elif a[pc] < key:\n",
    "            pl = pc + 1 # 검색 범위를 뒤쪽 절반으로 좁힘\n",
    "        else:\n",
    "            pr = pc - 1 # 검색 범위를 앞쪽 절반으로 좁힘\n",
    "        if pl > pr:\n",
    "            break\n",
    "    return -1 # 검색 실패\n",
    "\n",
    "if __name__ == '__main__':\n",
    "    num = int(input('원소 수를 입력하세요.: '))\n",
    "    x = [None] * num # 원소 수가 num인 배열을 생성\n",
    "    \n",
    "    print('배열 데이터를 오름차순으로 입력하세요.')\n",
    "    \n",
    "    x[0] = int(input('x[0]: '))\n",
    "    \n",
    "    for i in range(1, num):\n",
    "        while True:\n",
    "            x[i] = int(input(f'x[{i}]: '))\n",
    "            if x[i] >= x[i-1]: # 바로 직전에 입력한 원소값보다 큰 값을 입력\n",
    "                break\n",
    "                \n",
    "    ky = int(input('검색할 값을 입력하세요.: ')) # 검색할 키값 ky를 입력\n",
    "    \n",
    "    idx = bin_search(x, ky) # ky값과 같은 원소를 x에서 검색\n",
    "    \n",
    "    if idx == -1:\n",
    "        print('검색값을 갖는 원소가 존재하지 않습니다.')\n",
    "    else:\n",
    "        print(f'검색값은 x[{idx}]에 있습니다.')"
   ]
  },
  {
   "cell_type": "code",
   "execution_count": null,
   "metadata": {},
   "outputs": [],
   "source": [
    "# 이진 검색 알고리즘의 실행 과정을 출력\n",
    "\n",
    "from typing import Any, Sequence\n",
    "\n",
    "def bin_search(a: Sequence, key: Any) -> int:\n",
    "    \"\"\"시퀀스 a에서 key와 일치하는 원소를 이진 검색(실행 과정을 출력)\"\"\"\n",
    "    pl = 0 # 검색 범위 맨 앞 원소의 인덱스\n",
    "    pr = len(a) - 1 # 검색 범위 맨 뒤 원소의 인덱스\n",
    "    \n",
    "    print('  |', end='')\n",
    "    for i in range(len(a)):\n",
    "        print(f'{i : 4}', end='')\n",
    "    print()\n",
    "    print('---+' + (4 * len(a) + 2) * '-')\n",
    "              \n",
    "    while True:\n",
    "        pc = (pl + pr) // 2 # 중앙 원소의 인덱스\n",
    "              \n",
    "        print('  |', end='')\n",
    "        if pl != pc: # pl 원소 위에 <-를 출력\n",
    "              print((pl * 4 + 1) * ' ' + '<-' + ((pc - pl) * 4) * ' ' + '+', end='')\n",
    "        else:\n",
    "              print((pl * 4 + 1) * ' ' + '<+', end='')\n",
    "        if pc != pr: # pr 원소 위에 ->를 출력\n",
    "              print(((pr - pc) * 4 - 2) * ' ' + '->')\n",
    "        else:\n",
    "              print('->')\n",
    "        print(f'{pc:3}|', end='')\n",
    "        for i in range(len(a)):\n",
    "              print(f'{a[i]:4}', end='')\n",
    "        print('＼n  |')\n",
    "              \n",
    "        if a[pc] == key:\n",
    "            return pc # 검색 성공\n",
    "        elif a[pc] < key:\n",
    "            pl = pc + 1 # 검색 범위를 뒤쪽 절반으로 좁힘\n",
    "        else:\n",
    "            pr = pc - 1 # 검색 범위를 앞쪽 절반으로 좁힘\n",
    "        if pl > pr:\n",
    "            break\n",
    "    return -1 # 검색 실패\n",
    "\n",
    "if __name__ == '__main__':\n",
    "    num = int(input('원소 수를 입력하세요.: '))\n",
    "    x = [None] * num # 원소 수가 num인 배열을 생성\n",
    "    \n",
    "    print('배열 데이터를 오름차순으로 입력하세요.')\n",
    "    \n",
    "    x[0] = int(input('x[0]: '))\n",
    "    \n",
    "    for i in range(1, num):\n",
    "        while True:\n",
    "            x[i] = int(input(f'x[{i}]: '))\n",
    "            if x[i] >= x[i-1]: # 바로 직전에 입력한 원소값보다 큰 값을 입력\n",
    "                break\n",
    "                \n",
    "    ky = int(input('검색할 값을 입력하세요.: ')) # 검색할 키값 ky를 입력\n",
    "    \n",
    "    idx = bin_search(x, ky) # ky값과 같은 원소를 x에서 검색\n",
    "    \n",
    "    if idx == -1:\n",
    "        print('검색값을 갖는 원소가 존재하지 않습니다.')\n",
    "    else:\n",
    "        print(f'검색값은 x[{idx}]에 있습니다.')"
   ]
  },
  {
   "cell_type": "code",
   "execution_count": null,
   "metadata": {},
   "outputs": [],
   "source": []
  }
 ],
 "metadata": {
  "kernelspec": {
   "display_name": "Python 3",
   "language": "python",
   "name": "python3"
  },
  "language_info": {
   "codemirror_mode": {
    "name": "ipython",
    "version": 3
   },
   "file_extension": ".py",
   "mimetype": "text/x-python",
   "name": "python",
   "nbconvert_exporter": "python",
   "pygments_lexer": "ipython3",
   "version": "3.8.1"
  }
 },
 "nbformat": 4,
 "nbformat_minor": 4
}
